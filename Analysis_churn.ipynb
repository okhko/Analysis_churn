{
  "nbformat": 4,
  "nbformat_minor": 0,
  "metadata": {
    "ExecuteTimeLog": [
      {
        "duration": 1264,
        "start_time": "2021-10-09T08:24:34.977Z"
      },
      {
        "duration": 3,
        "start_time": "2021-10-09T08:24:36.243Z"
      },
      {
        "duration": 223,
        "start_time": "2021-10-09T08:24:36.471Z"
      },
      {
        "duration": 10,
        "start_time": "2021-10-09T08:24:36.878Z"
      },
      {
        "duration": 5,
        "start_time": "2021-10-09T08:24:40.709Z"
      },
      {
        "duration": 5,
        "start_time": "2021-10-09T08:24:41.420Z"
      },
      {
        "duration": 9,
        "start_time": "2021-10-09T08:24:41.976Z"
      },
      {
        "duration": 10,
        "start_time": "2021-10-09T08:24:42.486Z"
      },
      {
        "duration": 233,
        "start_time": "2021-10-09T08:24:43.038Z"
      },
      {
        "duration": 809,
        "start_time": "2021-10-09T08:24:43.723Z"
      },
      {
        "duration": 262,
        "start_time": "2021-10-09T08:24:44.850Z"
      },
      {
        "duration": 159,
        "start_time": "2021-10-09T08:24:45.529Z"
      },
      {
        "duration": 14,
        "start_time": "2021-10-09T08:24:45.936Z"
      },
      {
        "duration": 14,
        "start_time": "2021-10-09T08:24:47.292Z"
      },
      {
        "duration": 3,
        "start_time": "2021-10-09T08:24:48.021Z"
      },
      {
        "duration": 6,
        "start_time": "2021-10-09T08:24:48.581Z"
      },
      {
        "duration": 2,
        "start_time": "2021-10-09T08:24:49.179Z"
      },
      {
        "duration": 13,
        "start_time": "2021-10-09T08:24:51.511Z"
      },
      {
        "duration": 292,
        "start_time": "2021-10-09T08:24:53.407Z"
      },
      {
        "duration": 1556,
        "start_time": "2021-10-09T17:42:58.984Z"
      },
      {
        "duration": 5,
        "start_time": "2021-10-09T17:43:00.543Z"
      },
      {
        "duration": 194,
        "start_time": "2021-10-09T17:43:00.552Z"
      },
      {
        "duration": 12,
        "start_time": "2021-10-09T17:43:00.749Z"
      },
      {
        "duration": 20,
        "start_time": "2021-10-09T17:43:00.764Z"
      },
      {
        "duration": 17,
        "start_time": "2021-10-09T17:43:00.786Z"
      },
      {
        "duration": 20,
        "start_time": "2021-10-09T17:43:00.805Z"
      },
      {
        "duration": 26,
        "start_time": "2021-10-09T17:43:00.833Z"
      },
      {
        "duration": 454,
        "start_time": "2021-10-09T17:43:01.071Z"
      },
      {
        "duration": 1345,
        "start_time": "2021-10-09T17:43:01.529Z"
      },
      {
        "duration": 396,
        "start_time": "2021-10-09T17:43:02.882Z"
      },
      {
        "duration": 256,
        "start_time": "2021-10-09T17:43:03.284Z"
      },
      {
        "duration": 19,
        "start_time": "2021-10-09T17:43:03.543Z"
      },
      {
        "duration": 20,
        "start_time": "2021-10-09T17:43:04.273Z"
      },
      {
        "duration": 4,
        "start_time": "2021-10-09T17:43:04.965Z"
      },
      {
        "duration": 7,
        "start_time": "2021-10-09T17:43:05.321Z"
      },
      {
        "duration": 3,
        "start_time": "2021-10-09T17:43:05.659Z"
      },
      {
        "duration": 3,
        "start_time": "2021-10-09T17:43:06.956Z"
      },
      {
        "duration": 19,
        "start_time": "2021-10-09T17:43:07.724Z"
      },
      {
        "duration": 455,
        "start_time": "2021-10-09T17:43:09.669Z"
      },
      {
        "duration": 17,
        "start_time": "2021-10-09T17:43:17.887Z"
      },
      {
        "duration": 313,
        "start_time": "2021-10-09T17:43:19.710Z"
      },
      {
        "duration": 32,
        "start_time": "2021-10-09T17:43:21.589Z"
      },
      {
        "duration": 4,
        "start_time": "2021-10-09T17:43:23.776Z"
      },
      {
        "duration": 4,
        "start_time": "2021-10-09T17:43:23.965Z"
      },
      {
        "duration": 3,
        "start_time": "2021-10-09T17:43:24.115Z"
      },
      {
        "duration": 161,
        "start_time": "2021-10-09T17:43:25.156Z"
      },
      {
        "duration": 1557,
        "start_time": "2021-10-09T18:59:34.340Z"
      },
      {
        "duration": 4,
        "start_time": "2021-10-09T18:59:35.899Z"
      },
      {
        "duration": 213,
        "start_time": "2021-10-09T18:59:35.906Z"
      },
      {
        "duration": 12,
        "start_time": "2021-10-09T18:59:36.121Z"
      },
      {
        "duration": 5,
        "start_time": "2021-10-09T18:59:36.135Z"
      },
      {
        "duration": 7,
        "start_time": "2021-10-09T18:59:36.159Z"
      },
      {
        "duration": 13,
        "start_time": "2021-10-09T18:59:36.169Z"
      },
      {
        "duration": 16,
        "start_time": "2021-10-09T18:59:36.186Z"
      },
      {
        "duration": 352,
        "start_time": "2021-10-09T18:59:36.205Z"
      },
      {
        "duration": 1317,
        "start_time": "2021-10-09T18:59:36.560Z"
      },
      {
        "duration": 415,
        "start_time": "2021-10-09T18:59:37.880Z"
      },
      {
        "duration": 240,
        "start_time": "2021-10-09T18:59:38.297Z"
      },
      {
        "duration": 26,
        "start_time": "2021-10-09T18:59:38.539Z"
      },
      {
        "duration": 25,
        "start_time": "2021-10-09T18:59:38.568Z"
      },
      {
        "duration": 3,
        "start_time": "2021-10-09T18:59:38.595Z"
      },
      {
        "duration": 9,
        "start_time": "2021-10-09T18:59:38.600Z"
      },
      {
        "duration": 5,
        "start_time": "2021-10-09T18:59:38.611Z"
      },
      {
        "duration": 42,
        "start_time": "2021-10-09T18:59:38.618Z"
      },
      {
        "duration": 17,
        "start_time": "2021-10-09T18:59:38.664Z"
      },
      {
        "duration": 455,
        "start_time": "2021-10-09T18:59:38.683Z"
      },
      {
        "duration": 42,
        "start_time": "2021-10-09T18:59:39.100Z"
      },
      {
        "duration": 33,
        "start_time": "2021-10-09T18:59:39.111Z"
      },
      {
        "duration": 28,
        "start_time": "2021-10-09T18:59:39.117Z"
      },
      {
        "duration": 26,
        "start_time": "2021-10-09T18:59:39.121Z"
      },
      {
        "duration": 23,
        "start_time": "2021-10-09T18:59:39.125Z"
      },
      {
        "duration": 20,
        "start_time": "2021-10-09T18:59:39.130Z"
      },
      {
        "duration": 16,
        "start_time": "2021-10-09T18:59:39.135Z"
      },
      {
        "duration": 14,
        "start_time": "2021-10-09T18:59:39.139Z"
      },
      {
        "duration": 11,
        "start_time": "2021-10-09T18:59:39.143Z"
      },
      {
        "duration": 7,
        "start_time": "2021-10-09T18:59:39.148Z"
      },
      {
        "duration": 6,
        "start_time": "2021-10-09T18:59:39.153Z"
      },
      {
        "duration": 4,
        "start_time": "2021-10-09T18:59:39.158Z"
      },
      {
        "duration": 2,
        "start_time": "2021-10-09T18:59:39.162Z"
      },
      {
        "duration": -1,
        "start_time": "2021-10-09T18:59:39.167Z"
      },
      {
        "duration": -3,
        "start_time": "2021-10-09T18:59:39.171Z"
      },
      {
        "duration": -4,
        "start_time": "2021-10-09T18:59:39.175Z"
      },
      {
        "duration": -6,
        "start_time": "2021-10-09T18:59:39.179Z"
      },
      {
        "duration": -8,
        "start_time": "2021-10-09T18:59:39.183Z"
      },
      {
        "duration": -10,
        "start_time": "2021-10-09T18:59:39.187Z"
      },
      {
        "duration": -14,
        "start_time": "2021-10-09T18:59:39.192Z"
      },
      {
        "duration": -17,
        "start_time": "2021-10-09T18:59:39.196Z"
      },
      {
        "duration": -19,
        "start_time": "2021-10-09T18:59:39.200Z"
      },
      {
        "duration": -45,
        "start_time": "2021-10-09T18:59:39.227Z"
      },
      {
        "duration": -50,
        "start_time": "2021-10-09T18:59:39.233Z"
      },
      {
        "duration": -52,
        "start_time": "2021-10-09T18:59:39.237Z"
      },
      {
        "duration": -123,
        "start_time": "2021-10-09T18:59:39.309Z"
      },
      {
        "duration": -127,
        "start_time": "2021-10-09T18:59:39.314Z"
      },
      {
        "duration": -129,
        "start_time": "2021-10-09T18:59:39.318Z"
      },
      {
        "duration": -132,
        "start_time": "2021-10-09T18:59:39.322Z"
      },
      {
        "duration": -135,
        "start_time": "2021-10-09T18:59:39.326Z"
      },
      {
        "duration": -137,
        "start_time": "2021-10-09T18:59:39.330Z"
      },
      {
        "duration": -140,
        "start_time": "2021-10-09T18:59:39.334Z"
      },
      {
        "duration": -143,
        "start_time": "2021-10-09T18:59:39.338Z"
      },
      {
        "duration": -146,
        "start_time": "2021-10-09T18:59:39.342Z"
      },
      {
        "duration": -149,
        "start_time": "2021-10-09T18:59:39.346Z"
      },
      {
        "duration": -151,
        "start_time": "2021-10-09T18:59:39.350Z"
      },
      {
        "duration": -154,
        "start_time": "2021-10-09T18:59:39.354Z"
      },
      {
        "duration": -100,
        "start_time": "2021-10-09T18:59:39.358Z"
      },
      {
        "duration": -102,
        "start_time": "2021-10-09T18:59:39.362Z"
      },
      {
        "duration": -105,
        "start_time": "2021-10-09T18:59:39.367Z"
      },
      {
        "duration": 4,
        "start_time": "2021-10-09T19:18:53.366Z"
      },
      {
        "duration": 20,
        "start_time": "2021-10-09T19:19:25.274Z"
      },
      {
        "duration": 38,
        "start_time": "2021-10-09T19:19:28.070Z"
      },
      {
        "duration": 348,
        "start_time": "2021-10-09T20:45:19.185Z"
      },
      {
        "duration": 32,
        "start_time": "2021-10-09T20:45:23.002Z"
      },
      {
        "duration": 31,
        "start_time": "2021-10-09T20:52:58.714Z"
      },
      {
        "duration": 363,
        "start_time": "2021-10-09T20:53:29.911Z"
      },
      {
        "duration": 32,
        "start_time": "2021-10-09T20:53:32.355Z"
      },
      {
        "duration": 30,
        "start_time": "2021-10-09T20:53:46.269Z"
      },
      {
        "duration": 6,
        "start_time": "2021-10-09T20:54:30.757Z"
      },
      {
        "duration": 19,
        "start_time": "2021-10-09T20:54:30.770Z"
      },
      {
        "duration": 220,
        "start_time": "2021-10-09T20:54:30.791Z"
      },
      {
        "duration": 12,
        "start_time": "2021-10-09T20:54:31.013Z"
      },
      {
        "duration": 31,
        "start_time": "2021-10-09T20:54:31.027Z"
      },
      {
        "duration": 20,
        "start_time": "2021-10-09T20:54:31.060Z"
      },
      {
        "duration": 24,
        "start_time": "2021-10-09T20:54:31.082Z"
      },
      {
        "duration": 23,
        "start_time": "2021-10-09T20:54:31.109Z"
      },
      {
        "duration": 326,
        "start_time": "2021-10-09T20:54:31.134Z"
      },
      {
        "duration": 1329,
        "start_time": "2021-10-09T20:54:31.464Z"
      },
      {
        "duration": 396,
        "start_time": "2021-10-09T20:54:32.796Z"
      },
      {
        "duration": 239,
        "start_time": "2021-10-09T20:54:33.195Z"
      },
      {
        "duration": 27,
        "start_time": "2021-10-09T20:54:33.436Z"
      },
      {
        "duration": 18,
        "start_time": "2021-10-09T20:54:33.466Z"
      },
      {
        "duration": 5,
        "start_time": "2021-10-09T20:54:33.486Z"
      },
      {
        "duration": 20,
        "start_time": "2021-10-09T20:54:33.493Z"
      },
      {
        "duration": 4,
        "start_time": "2021-10-09T20:54:33.515Z"
      },
      {
        "duration": 9,
        "start_time": "2021-10-09T20:54:33.521Z"
      },
      {
        "duration": 25,
        "start_time": "2021-10-09T20:54:33.532Z"
      },
      {
        "duration": 14,
        "start_time": "2021-10-09T20:54:33.559Z"
      },
      {
        "duration": 39,
        "start_time": "2021-10-09T20:54:33.575Z"
      },
      {
        "duration": 59,
        "start_time": "2021-10-09T20:54:33.616Z"
      },
      {
        "duration": 3,
        "start_time": "2021-10-09T20:54:33.678Z"
      },
      {
        "duration": 6,
        "start_time": "2021-10-09T20:54:33.683Z"
      },
      {
        "duration": 5,
        "start_time": "2021-10-09T20:54:33.691Z"
      },
      {
        "duration": 187,
        "start_time": "2021-10-09T20:54:33.698Z"
      },
      {
        "duration": 6166,
        "start_time": "2021-10-09T20:54:33.887Z"
      },
      {
        "duration": 4708,
        "start_time": "2021-10-09T20:54:40.062Z"
      },
      {
        "duration": 90,
        "start_time": "2021-10-09T20:54:44.773Z"
      },
      {
        "duration": 96,
        "start_time": "2021-10-09T20:54:44.867Z"
      },
      {
        "duration": 13,
        "start_time": "2021-10-09T20:54:44.966Z"
      },
      {
        "duration": 7,
        "start_time": "2021-10-09T20:54:44.982Z"
      },
      {
        "duration": 36,
        "start_time": "2021-10-09T20:54:44.991Z"
      },
      {
        "duration": 6,
        "start_time": "2021-10-09T20:54:45.058Z"
      },
      {
        "duration": 8,
        "start_time": "2021-10-09T20:54:45.067Z"
      },
      {
        "duration": 10,
        "start_time": "2021-10-09T20:54:45.077Z"
      },
      {
        "duration": 98,
        "start_time": "2021-10-09T20:54:45.162Z"
      },
      {
        "duration": 5,
        "start_time": "2021-10-09T20:54:45.262Z"
      },
      {
        "duration": 416,
        "start_time": "2021-10-09T20:54:45.269Z"
      },
      {
        "duration": 6,
        "start_time": "2021-10-09T20:54:45.687Z"
      },
      {
        "duration": 20,
        "start_time": "2021-10-09T20:54:45.695Z"
      },
      {
        "duration": 9,
        "start_time": "2021-10-09T20:54:45.717Z"
      },
      {
        "duration": 20,
        "start_time": "2021-10-09T20:54:45.728Z"
      },
      {
        "duration": 12,
        "start_time": "2021-10-09T20:54:45.758Z"
      },
      {
        "duration": 23,
        "start_time": "2021-10-09T20:54:45.772Z"
      },
      {
        "duration": 653,
        "start_time": "2021-10-09T20:54:45.797Z"
      },
      {
        "duration": 8786,
        "start_time": "2021-10-09T20:54:46.458Z"
      },
      {
        "duration": 14649,
        "start_time": "2021-10-09T20:54:55.247Z"
      },
      {
        "duration": 532,
        "start_time": "2021-10-09T20:55:09.898Z"
      },
      {
        "duration": 126,
        "start_time": "2021-10-09T20:55:10.432Z"
      },
      {
        "duration": 98,
        "start_time": "2021-10-09T20:55:10.561Z"
      },
      {
        "duration": 8,
        "start_time": "2021-10-09T20:55:10.662Z"
      },
      {
        "duration": 6,
        "start_time": "2021-10-09T20:55:10.673Z"
      },
      {
        "duration": 30,
        "start_time": "2021-10-09T20:55:10.681Z"
      },
      {
        "duration": 44,
        "start_time": "2021-10-09T20:55:10.714Z"
      },
      {
        "duration": 8,
        "start_time": "2021-10-09T20:55:10.761Z"
      },
      {
        "duration": 12,
        "start_time": "2021-10-09T20:55:10.772Z"
      },
      {
        "duration": 9,
        "start_time": "2021-10-09T20:55:10.859Z"
      },
      {
        "duration": 7,
        "start_time": "2021-10-09T20:55:10.959Z"
      },
      {
        "duration": 540,
        "start_time": "2021-10-09T20:55:10.969Z"
      },
      {
        "duration": 8,
        "start_time": "2021-10-09T20:55:11.512Z"
      },
      {
        "duration": 25,
        "start_time": "2021-10-09T20:55:11.522Z"
      },
      {
        "duration": 350,
        "start_time": "2021-10-09T21:09:13.282Z"
      },
      {
        "duration": 352,
        "start_time": "2021-10-09T21:09:17.569Z"
      },
      {
        "duration": 339,
        "start_time": "2021-10-09T21:09:35.572Z"
      },
      {
        "duration": 724,
        "start_time": "2021-10-09T21:09:41.591Z"
      },
      {
        "duration": 338,
        "start_time": "2021-10-09T21:09:52.870Z"
      },
      {
        "duration": 346,
        "start_time": "2021-10-09T21:09:58.436Z"
      },
      {
        "duration": 354,
        "start_time": "2021-10-09T21:10:12.356Z"
      },
      {
        "duration": 588,
        "start_time": "2021-10-09T21:10:28.232Z"
      },
      {
        "duration": 362,
        "start_time": "2021-10-09T21:11:45.607Z"
      },
      {
        "duration": 26,
        "start_time": "2021-10-09T21:12:14.429Z"
      },
      {
        "duration": 24,
        "start_time": "2021-10-09T21:12:36.557Z"
      },
      {
        "duration": 152,
        "start_time": "2021-10-09T21:12:50.691Z"
      },
      {
        "duration": 4680,
        "start_time": "2021-10-09T21:12:55.123Z"
      },
      {
        "duration": 1466,
        "start_time": "2021-10-10T10:33:31.988Z"
      },
      {
        "duration": 4,
        "start_time": "2021-10-10T10:33:33.458Z"
      },
      {
        "duration": 260,
        "start_time": "2021-10-10T10:33:33.465Z"
      },
      {
        "duration": 12,
        "start_time": "2021-10-10T10:33:33.727Z"
      },
      {
        "duration": 9,
        "start_time": "2021-10-10T10:33:33.742Z"
      },
      {
        "duration": 16,
        "start_time": "2021-10-10T10:33:33.753Z"
      },
      {
        "duration": 22,
        "start_time": "2021-10-10T10:33:33.771Z"
      },
      {
        "duration": 19,
        "start_time": "2021-10-10T10:33:33.795Z"
      },
      {
        "duration": 304,
        "start_time": "2021-10-10T10:33:33.819Z"
      },
      {
        "duration": 1306,
        "start_time": "2021-10-10T10:33:34.126Z"
      },
      {
        "duration": 401,
        "start_time": "2021-10-10T10:33:35.434Z"
      },
      {
        "duration": 235,
        "start_time": "2021-10-10T10:33:35.838Z"
      },
      {
        "duration": 18,
        "start_time": "2021-10-10T10:33:36.075Z"
      },
      {
        "duration": 17,
        "start_time": "2021-10-10T10:33:36.095Z"
      },
      {
        "duration": 7,
        "start_time": "2021-10-10T10:33:36.115Z"
      },
      {
        "duration": 33,
        "start_time": "2021-10-10T10:33:36.124Z"
      },
      {
        "duration": 10,
        "start_time": "2021-10-10T10:33:36.160Z"
      },
      {
        "duration": 19,
        "start_time": "2021-10-10T10:33:36.172Z"
      },
      {
        "duration": 17,
        "start_time": "2021-10-10T10:33:36.193Z"
      },
      {
        "duration": 19,
        "start_time": "2021-10-10T10:33:36.213Z"
      },
      {
        "duration": 32,
        "start_time": "2021-10-10T10:33:36.234Z"
      },
      {
        "duration": 26,
        "start_time": "2021-10-10T10:33:36.269Z"
      },
      {
        "duration": 3,
        "start_time": "2021-10-10T10:33:36.297Z"
      },
      {
        "duration": 7,
        "start_time": "2021-10-10T10:33:36.302Z"
      },
      {
        "duration": 5,
        "start_time": "2021-10-10T10:33:36.311Z"
      },
      {
        "duration": 209,
        "start_time": "2021-10-10T10:33:36.318Z"
      },
      {
        "duration": 6443,
        "start_time": "2021-10-10T10:33:36.532Z"
      },
      {
        "duration": 4983,
        "start_time": "2021-10-10T10:33:42.979Z"
      },
      {
        "duration": 96,
        "start_time": "2021-10-10T10:33:47.965Z"
      },
      {
        "duration": 97,
        "start_time": "2021-10-10T10:33:48.066Z"
      },
      {
        "duration": 6,
        "start_time": "2021-10-10T10:33:48.166Z"
      },
      {
        "duration": 5,
        "start_time": "2021-10-10T10:33:48.174Z"
      },
      {
        "duration": 27,
        "start_time": "2021-10-10T10:33:48.182Z"
      },
      {
        "duration": 6,
        "start_time": "2021-10-10T10:33:48.211Z"
      },
      {
        "duration": 42,
        "start_time": "2021-10-10T10:33:48.219Z"
      },
      {
        "duration": 19,
        "start_time": "2021-10-10T10:33:48.264Z"
      },
      {
        "duration": 102,
        "start_time": "2021-10-10T10:33:48.360Z"
      },
      {
        "duration": 17,
        "start_time": "2021-10-10T10:33:48.465Z"
      },
      {
        "duration": 457,
        "start_time": "2021-10-10T10:33:48.484Z"
      },
      {
        "duration": 6,
        "start_time": "2021-10-10T10:33:48.943Z"
      },
      {
        "duration": 17,
        "start_time": "2021-10-10T10:33:48.959Z"
      },
      {
        "duration": 7,
        "start_time": "2021-10-10T10:33:48.979Z"
      },
      {
        "duration": 10,
        "start_time": "2021-10-10T10:33:48.989Z"
      },
      {
        "duration": 8,
        "start_time": "2021-10-10T10:33:49.002Z"
      },
      {
        "duration": 50,
        "start_time": "2021-10-10T10:33:49.013Z"
      },
      {
        "duration": 711,
        "start_time": "2021-10-10T10:33:49.066Z"
      },
      {
        "duration": 9049,
        "start_time": "2021-10-10T10:33:49.779Z"
      },
      {
        "duration": 14683,
        "start_time": "2021-10-10T10:33:58.831Z"
      },
      {
        "duration": 540,
        "start_time": "2021-10-10T10:34:13.517Z"
      },
      {
        "duration": 106,
        "start_time": "2021-10-10T10:34:14.060Z"
      },
      {
        "duration": 93,
        "start_time": "2021-10-10T10:34:14.170Z"
      },
      {
        "duration": 6,
        "start_time": "2021-10-10T10:34:14.266Z"
      },
      {
        "duration": 8,
        "start_time": "2021-10-10T10:34:14.275Z"
      },
      {
        "duration": 26,
        "start_time": "2021-10-10T10:34:14.285Z"
      },
      {
        "duration": 49,
        "start_time": "2021-10-10T10:34:14.314Z"
      },
      {
        "duration": 6,
        "start_time": "2021-10-10T10:34:14.366Z"
      },
      {
        "duration": 88,
        "start_time": "2021-10-10T10:34:14.375Z"
      },
      {
        "duration": 93,
        "start_time": "2021-10-10T10:34:14.467Z"
      },
      {
        "duration": 7,
        "start_time": "2021-10-10T10:34:14.563Z"
      },
      {
        "duration": 464,
        "start_time": "2021-10-10T10:34:14.573Z"
      },
      {
        "duration": 7,
        "start_time": "2021-10-10T10:34:15.039Z"
      },
      {
        "duration": 22,
        "start_time": "2021-10-10T10:34:15.057Z"
      },
      {
        "duration": 40,
        "start_time": "2021-10-10T10:43:21.037Z"
      },
      {
        "duration": 20,
        "start_time": "2021-10-10T10:43:29.354Z"
      },
      {
        "duration": 555,
        "start_time": "2021-10-10T10:43:36.965Z"
      },
      {
        "duration": 7,
        "start_time": "2021-10-10T10:46:17.283Z"
      },
      {
        "duration": 6,
        "start_time": "2021-10-10T10:46:21.174Z"
      },
      {
        "duration": 274,
        "start_time": "2021-10-10T10:46:51.019Z"
      },
      {
        "duration": 42,
        "start_time": "2021-10-10T10:47:00.671Z"
      },
      {
        "duration": 21,
        "start_time": "2021-10-10T10:47:08.182Z"
      },
      {
        "duration": 15,
        "start_time": "2021-10-10T10:47:24.913Z"
      },
      {
        "duration": 39,
        "start_time": "2021-10-10T10:47:34.012Z"
      },
      {
        "duration": 65,
        "start_time": "2021-10-10T10:47:40.895Z"
      },
      {
        "duration": 6,
        "start_time": "2021-10-10T10:47:43.958Z"
      },
      {
        "duration": 7,
        "start_time": "2021-10-10T10:47:44.183Z"
      },
      {
        "duration": 5,
        "start_time": "2021-10-10T10:47:44.397Z"
      },
      {
        "duration": 30,
        "start_time": "2021-10-10T10:47:45.950Z"
      },
      {
        "duration": 6,
        "start_time": "2021-10-10T10:47:46.199Z"
      },
      {
        "duration": 4,
        "start_time": "2021-10-10T10:47:46.519Z"
      },
      {
        "duration": 89,
        "start_time": "2021-10-10T10:47:47.169Z"
      },
      {
        "duration": 7,
        "start_time": "2021-10-10T10:47:47.523Z"
      },
      {
        "duration": 5,
        "start_time": "2021-10-10T10:47:48.501Z"
      },
      {
        "duration": 8,
        "start_time": "2021-10-10T10:48:07.676Z"
      },
      {
        "duration": 375,
        "start_time": "2021-10-10T10:48:20.120Z"
      },
      {
        "duration": 66,
        "start_time": "2021-10-10T10:48:25.299Z"
      },
      {
        "duration": 40,
        "start_time": "2021-10-10T10:48:31.538Z"
      },
      {
        "duration": 34,
        "start_time": "2021-10-10T10:48:55.007Z"
      },
      {
        "duration": 420,
        "start_time": "2021-10-10T10:50:42.272Z"
      },
      {
        "duration": 33,
        "start_time": "2021-10-10T10:51:20.135Z"
      },
      {
        "duration": 54,
        "start_time": "2021-10-10T10:51:36.145Z"
      },
      {
        "duration": 51,
        "start_time": "2021-10-10T11:35:35.853Z"
      },
      {
        "duration": 1032,
        "start_time": "2021-10-10T11:35:47.954Z"
      },
      {
        "duration": 3,
        "start_time": "2021-10-10T11:35:48.988Z"
      },
      {
        "duration": 157,
        "start_time": "2021-10-10T11:35:49.000Z"
      },
      {
        "duration": 8,
        "start_time": "2021-10-10T11:35:49.159Z"
      },
      {
        "duration": 4,
        "start_time": "2021-10-10T11:35:49.168Z"
      },
      {
        "duration": 6,
        "start_time": "2021-10-10T11:35:49.173Z"
      },
      {
        "duration": 8,
        "start_time": "2021-10-10T11:35:49.180Z"
      },
      {
        "duration": 10,
        "start_time": "2021-10-10T11:35:49.190Z"
      },
      {
        "duration": 187,
        "start_time": "2021-10-10T11:35:49.202Z"
      },
      {
        "duration": 812,
        "start_time": "2021-10-10T11:35:49.390Z"
      },
      {
        "duration": 240,
        "start_time": "2021-10-10T11:35:50.204Z"
      },
      {
        "duration": 150,
        "start_time": "2021-10-10T11:35:50.446Z"
      },
      {
        "duration": 12,
        "start_time": "2021-10-10T11:35:50.599Z"
      },
      {
        "duration": 23,
        "start_time": "2021-10-10T11:35:50.613Z"
      },
      {
        "duration": 2,
        "start_time": "2021-10-10T11:35:50.638Z"
      },
      {
        "duration": 6,
        "start_time": "2021-10-10T11:35:50.642Z"
      },
      {
        "duration": 2,
        "start_time": "2021-10-10T11:35:50.649Z"
      },
      {
        "duration": 5,
        "start_time": "2021-10-10T11:35:50.653Z"
      },
      {
        "duration": 5,
        "start_time": "2021-10-10T11:35:50.659Z"
      },
      {
        "duration": 13,
        "start_time": "2021-10-10T11:35:50.666Z"
      },
      {
        "duration": 45,
        "start_time": "2021-10-10T11:35:50.681Z"
      },
      {
        "duration": 2,
        "start_time": "2021-10-10T11:35:50.728Z"
      },
      {
        "duration": 3,
        "start_time": "2021-10-10T11:35:50.734Z"
      },
      {
        "duration": 4,
        "start_time": "2021-10-10T11:35:50.739Z"
      },
      {
        "duration": 133,
        "start_time": "2021-10-10T11:35:50.745Z"
      },
      {
        "duration": 3933,
        "start_time": "2021-10-10T11:35:50.880Z"
      },
      {
        "duration": 3074,
        "start_time": "2021-10-10T11:35:54.814Z"
      },
      {
        "duration": 30,
        "start_time": "2021-10-10T11:35:57.890Z"
      },
      {
        "duration": 99,
        "start_time": "2021-10-10T11:35:58.001Z"
      },
      {
        "duration": 5,
        "start_time": "2021-10-10T11:35:58.102Z"
      },
      {
        "duration": 9,
        "start_time": "2021-10-10T11:35:58.108Z"
      },
      {
        "duration": 25,
        "start_time": "2021-10-10T11:35:58.118Z"
      },
      {
        "duration": 4,
        "start_time": "2021-10-10T11:35:58.144Z"
      },
      {
        "duration": 6,
        "start_time": "2021-10-10T11:35:58.150Z"
      },
      {
        "duration": 43,
        "start_time": "2021-10-10T11:35:58.157Z"
      },
      {
        "duration": 7,
        "start_time": "2021-10-10T11:35:58.201Z"
      },
      {
        "duration": 4,
        "start_time": "2021-10-10T11:35:58.300Z"
      },
      {
        "duration": 259,
        "start_time": "2021-10-10T11:35:58.306Z"
      },
      {
        "duration": 4,
        "start_time": "2021-10-10T11:35:58.567Z"
      },
      {
        "duration": 11,
        "start_time": "2021-10-10T11:35:58.572Z"
      },
      {
        "duration": 15,
        "start_time": "2021-10-10T11:35:58.585Z"
      },
      {
        "duration": 8,
        "start_time": "2021-10-10T11:35:58.602Z"
      },
      {
        "duration": 5,
        "start_time": "2021-10-10T11:35:58.611Z"
      },
      {
        "duration": 13,
        "start_time": "2021-10-10T11:35:58.617Z"
      },
      {
        "duration": 511,
        "start_time": "2021-10-10T11:35:58.631Z"
      },
      {
        "duration": 5577,
        "start_time": "2021-10-10T11:35:59.144Z"
      },
      {
        "duration": 8655,
        "start_time": "2021-10-10T11:36:04.723Z"
      },
      {
        "duration": 316,
        "start_time": "2021-10-10T11:36:13.379Z"
      },
      {
        "duration": 28,
        "start_time": "2021-10-10T11:36:13.697Z"
      },
      {
        "duration": 186,
        "start_time": "2021-10-10T11:36:13.727Z"
      },
      {
        "duration": 84,
        "start_time": "2021-10-10T11:36:13.916Z"
      },
      {
        "duration": 97,
        "start_time": "2021-10-10T11:36:14.003Z"
      },
      {
        "duration": 6,
        "start_time": "2021-10-10T11:36:14.102Z"
      },
      {
        "duration": 23,
        "start_time": "2021-10-10T11:36:14.110Z"
      },
      {
        "duration": 4,
        "start_time": "2021-10-10T11:36:14.134Z"
      },
      {
        "duration": 4,
        "start_time": "2021-10-10T11:36:14.139Z"
      },
      {
        "duration": 55,
        "start_time": "2021-10-10T11:36:14.145Z"
      },
      {
        "duration": 6,
        "start_time": "2021-10-10T11:36:14.202Z"
      },
      {
        "duration": 89,
        "start_time": "2021-10-10T11:36:14.211Z"
      },
      {
        "duration": 249,
        "start_time": "2021-10-10T11:36:14.302Z"
      },
      {
        "duration": 4,
        "start_time": "2021-10-10T11:36:14.552Z"
      },
      {
        "duration": 9,
        "start_time": "2021-10-10T11:36:14.558Z"
      },
      {
        "duration": 49,
        "start_time": "2021-10-10T11:36:14.568Z"
      },
      {
        "duration": 45,
        "start_time": "2021-10-10T12:16:07.811Z"
      },
      {
        "duration": 4,
        "start_time": "2021-10-10T12:17:13.754Z"
      },
      {
        "duration": 8,
        "start_time": "2021-10-10T12:17:15.550Z"
      },
      {
        "duration": 4,
        "start_time": "2021-10-10T12:32:47.858Z"
      },
      {
        "duration": 2,
        "start_time": "2021-10-10T12:32:47.874Z"
      },
      {
        "duration": 89,
        "start_time": "2021-10-10T12:32:47.878Z"
      },
      {
        "duration": 7,
        "start_time": "2021-10-10T12:32:47.969Z"
      },
      {
        "duration": 4,
        "start_time": "2021-10-10T12:32:47.978Z"
      },
      {
        "duration": 7,
        "start_time": "2021-10-10T12:32:47.983Z"
      },
      {
        "duration": 13,
        "start_time": "2021-10-10T12:32:47.991Z"
      },
      {
        "duration": 10,
        "start_time": "2021-10-10T12:32:48.006Z"
      },
      {
        "duration": 210,
        "start_time": "2021-10-10T12:32:48.018Z"
      },
      {
        "duration": 794,
        "start_time": "2021-10-10T12:32:48.231Z"
      },
      {
        "duration": 243,
        "start_time": "2021-10-10T12:32:49.027Z"
      },
      {
        "duration": 145,
        "start_time": "2021-10-10T12:32:49.271Z"
      },
      {
        "duration": 12,
        "start_time": "2021-10-10T12:32:49.417Z"
      },
      {
        "duration": 11,
        "start_time": "2021-10-10T12:32:49.430Z"
      },
      {
        "duration": 2,
        "start_time": "2021-10-10T12:32:49.443Z"
      },
      {
        "duration": 6,
        "start_time": "2021-10-10T12:32:49.446Z"
      },
      {
        "duration": 3,
        "start_time": "2021-10-10T12:32:49.453Z"
      },
      {
        "duration": 7,
        "start_time": "2021-10-10T12:32:49.458Z"
      },
      {
        "duration": 4,
        "start_time": "2021-10-10T12:32:49.466Z"
      },
      {
        "duration": 34,
        "start_time": "2021-10-10T12:32:49.472Z"
      },
      {
        "duration": 26,
        "start_time": "2021-10-10T12:32:49.507Z"
      },
      {
        "duration": 2,
        "start_time": "2021-10-10T12:32:49.535Z"
      },
      {
        "duration": 5,
        "start_time": "2021-10-10T12:32:49.538Z"
      },
      {
        "duration": 4,
        "start_time": "2021-10-10T12:32:49.545Z"
      },
      {
        "duration": 120,
        "start_time": "2021-10-10T12:32:49.550Z"
      },
      {
        "duration": 3968,
        "start_time": "2021-10-10T12:32:49.672Z"
      },
      {
        "duration": 3051,
        "start_time": "2021-10-10T12:32:53.641Z"
      },
      {
        "duration": 102,
        "start_time": "2021-10-10T12:32:56.699Z"
      },
      {
        "duration": 96,
        "start_time": "2021-10-10T12:32:56.804Z"
      },
      {
        "duration": 16,
        "start_time": "2021-10-10T12:32:56.901Z"
      },
      {
        "duration": 19,
        "start_time": "2021-10-10T12:32:56.919Z"
      },
      {
        "duration": 37,
        "start_time": "2021-10-10T12:32:56.939Z"
      },
      {
        "duration": 4,
        "start_time": "2021-10-10T12:32:56.978Z"
      },
      {
        "duration": 15,
        "start_time": "2021-10-10T12:32:56.983Z"
      },
      {
        "duration": 11,
        "start_time": "2021-10-10T12:32:56.999Z"
      },
      {
        "duration": 98,
        "start_time": "2021-10-10T12:32:57.012Z"
      },
      {
        "duration": 92,
        "start_time": "2021-10-10T12:32:57.112Z"
      },
      {
        "duration": 261,
        "start_time": "2021-10-10T12:32:57.206Z"
      },
      {
        "duration": 4,
        "start_time": "2021-10-10T12:32:57.468Z"
      },
      {
        "duration": 21,
        "start_time": "2021-10-10T12:32:57.473Z"
      },
      {
        "duration": 14,
        "start_time": "2021-10-10T12:32:57.495Z"
      },
      {
        "duration": 17,
        "start_time": "2021-10-10T12:32:57.510Z"
      },
      {
        "duration": 16,
        "start_time": "2021-10-10T12:32:57.529Z"
      },
      {
        "duration": 30,
        "start_time": "2021-10-10T12:32:57.546Z"
      },
      {
        "duration": 446,
        "start_time": "2021-10-10T12:32:57.577Z"
      },
      {
        "duration": 5465,
        "start_time": "2021-10-10T12:32:58.024Z"
      },
      {
        "duration": 8570,
        "start_time": "2021-10-10T12:33:03.491Z"
      },
      {
        "duration": 314,
        "start_time": "2021-10-10T12:33:12.063Z"
      },
      {
        "duration": 31,
        "start_time": "2021-10-10T12:33:12.379Z"
      },
      {
        "duration": 116,
        "start_time": "2021-10-10T12:33:12.501Z"
      },
      {
        "duration": 85,
        "start_time": "2021-10-10T12:33:12.620Z"
      },
      {
        "duration": 90,
        "start_time": "2021-10-10T12:33:12.711Z"
      },
      {
        "duration": 4,
        "start_time": "2021-10-10T12:33:12.803Z"
      },
      {
        "duration": 23,
        "start_time": "2021-10-10T12:33:12.809Z"
      },
      {
        "duration": 4,
        "start_time": "2021-10-10T12:33:12.833Z"
      },
      {
        "duration": 4,
        "start_time": "2021-10-10T12:33:12.838Z"
      },
      {
        "duration": 57,
        "start_time": "2021-10-10T12:33:12.843Z"
      },
      {
        "duration": 99,
        "start_time": "2021-10-10T12:33:12.903Z"
      },
      {
        "duration": 4,
        "start_time": "2021-10-10T12:33:13.003Z"
      },
      {
        "duration": 258,
        "start_time": "2021-10-10T12:33:13.008Z"
      },
      {
        "duration": 4,
        "start_time": "2021-10-10T12:33:13.267Z"
      },
      {
        "duration": 12,
        "start_time": "2021-10-10T12:33:13.273Z"
      },
      {
        "duration": 51,
        "start_time": "2021-10-10T13:03:06.917Z"
      },
      {
        "duration": 4,
        "start_time": "2021-10-10T13:03:35.894Z"
      },
      {
        "duration": 6,
        "start_time": "2021-10-10T13:03:35.908Z"
      },
      {
        "duration": 171,
        "start_time": "2021-10-10T13:03:35.916Z"
      },
      {
        "duration": 7,
        "start_time": "2021-10-10T13:03:36.089Z"
      },
      {
        "duration": 9,
        "start_time": "2021-10-10T13:03:36.098Z"
      },
      {
        "duration": 8,
        "start_time": "2021-10-10T13:03:36.108Z"
      },
      {
        "duration": 11,
        "start_time": "2021-10-10T13:03:36.117Z"
      },
      {
        "duration": 21,
        "start_time": "2021-10-10T13:03:36.129Z"
      },
      {
        "duration": 195,
        "start_time": "2021-10-10T13:03:36.152Z"
      },
      {
        "duration": 867,
        "start_time": "2021-10-10T13:03:36.350Z"
      },
      {
        "duration": 240,
        "start_time": "2021-10-10T13:03:37.219Z"
      },
      {
        "duration": 147,
        "start_time": "2021-10-10T13:03:37.460Z"
      },
      {
        "duration": 12,
        "start_time": "2021-10-10T13:03:37.609Z"
      },
      {
        "duration": 11,
        "start_time": "2021-10-10T13:03:37.623Z"
      },
      {
        "duration": 9,
        "start_time": "2021-10-10T13:03:37.635Z"
      },
      {
        "duration": 8,
        "start_time": "2021-10-10T13:03:37.646Z"
      },
      {
        "duration": 9,
        "start_time": "2021-10-10T13:03:37.655Z"
      },
      {
        "duration": 11,
        "start_time": "2021-10-10T13:03:37.665Z"
      },
      {
        "duration": 12,
        "start_time": "2021-10-10T13:03:37.678Z"
      },
      {
        "duration": 21,
        "start_time": "2021-10-10T13:03:37.691Z"
      },
      {
        "duration": 25,
        "start_time": "2021-10-10T13:03:37.713Z"
      },
      {
        "duration": 2,
        "start_time": "2021-10-10T13:03:37.739Z"
      },
      {
        "duration": 18,
        "start_time": "2021-10-10T13:03:37.742Z"
      },
      {
        "duration": 10,
        "start_time": "2021-10-10T13:03:37.762Z"
      },
      {
        "duration": 116,
        "start_time": "2021-10-10T13:03:37.774Z"
      },
      {
        "duration": 3974,
        "start_time": "2021-10-10T13:03:37.891Z"
      },
      {
        "duration": 3088,
        "start_time": "2021-10-10T13:03:41.867Z"
      },
      {
        "duration": 44,
        "start_time": "2021-10-10T13:03:44.959Z"
      },
      {
        "duration": 95,
        "start_time": "2021-10-10T13:03:45.006Z"
      },
      {
        "duration": 5,
        "start_time": "2021-10-10T13:03:45.103Z"
      },
      {
        "duration": 7,
        "start_time": "2021-10-10T13:03:45.109Z"
      },
      {
        "duration": 20,
        "start_time": "2021-10-10T13:03:45.117Z"
      },
      {
        "duration": 4,
        "start_time": "2021-10-10T13:03:45.139Z"
      },
      {
        "duration": 4,
        "start_time": "2021-10-10T13:03:45.144Z"
      },
      {
        "duration": 58,
        "start_time": "2021-10-10T13:03:45.150Z"
      },
      {
        "duration": 94,
        "start_time": "2021-10-10T13:03:45.210Z"
      },
      {
        "duration": 4,
        "start_time": "2021-10-10T13:03:45.306Z"
      },
      {
        "duration": 268,
        "start_time": "2021-10-10T13:03:45.312Z"
      },
      {
        "duration": 3,
        "start_time": "2021-10-10T13:03:45.582Z"
      },
      {
        "duration": 19,
        "start_time": "2021-10-10T13:03:45.587Z"
      },
      {
        "duration": 4,
        "start_time": "2021-10-10T13:03:45.607Z"
      },
      {
        "duration": 3,
        "start_time": "2021-10-10T13:03:45.613Z"
      },
      {
        "duration": 4,
        "start_time": "2021-10-10T13:03:45.618Z"
      },
      {
        "duration": 17,
        "start_time": "2021-10-10T13:03:45.623Z"
      },
      {
        "duration": 480,
        "start_time": "2021-10-10T13:03:45.641Z"
      },
      {
        "duration": 5544,
        "start_time": "2021-10-10T13:03:46.123Z"
      },
      {
        "duration": 8614,
        "start_time": "2021-10-10T13:03:51.669Z"
      },
      {
        "duration": 314,
        "start_time": "2021-10-10T13:04:00.285Z"
      },
      {
        "duration": 24,
        "start_time": "2021-10-10T13:04:00.601Z"
      },
      {
        "duration": 113,
        "start_time": "2021-10-10T13:04:00.703Z"
      },
      {
        "duration": 89,
        "start_time": "2021-10-10T13:04:00.818Z"
      },
      {
        "duration": 95,
        "start_time": "2021-10-10T13:04:00.909Z"
      },
      {
        "duration": 6,
        "start_time": "2021-10-10T13:04:01.006Z"
      },
      {
        "duration": 22,
        "start_time": "2021-10-10T13:04:01.014Z"
      },
      {
        "duration": 4,
        "start_time": "2021-10-10T13:04:01.038Z"
      },
      {
        "duration": 11,
        "start_time": "2021-10-10T13:04:01.044Z"
      },
      {
        "duration": 44,
        "start_time": "2021-10-10T13:04:01.056Z"
      },
      {
        "duration": 7,
        "start_time": "2021-10-10T13:04:01.102Z"
      },
      {
        "duration": 4,
        "start_time": "2021-10-10T13:04:01.200Z"
      },
      {
        "duration": 258,
        "start_time": "2021-10-10T13:04:01.206Z"
      },
      {
        "duration": 11,
        "start_time": "2021-10-10T13:04:01.466Z"
      },
      {
        "duration": 50,
        "start_time": "2021-10-10T13:04:01.479Z"
      },
      {
        "duration": 454,
        "start_time": "2021-10-10T13:04:01.077Z"
      },
      {
        "duration": 451,
        "start_time": "2021-10-10T13:04:01.081Z"
      },
      {
        "duration": 43,
        "start_time": "2021-10-10T13:04:50.153Z"
      },
      {
        "duration": 4,
        "start_time": "2021-10-10T13:04:52.886Z"
      },
      {
        "duration": 3,
        "start_time": "2021-10-10T13:04:52.902Z"
      },
      {
        "duration": 102,
        "start_time": "2021-10-10T13:04:52.907Z"
      },
      {
        "duration": 10,
        "start_time": "2021-10-10T13:04:53.011Z"
      },
      {
        "duration": 5,
        "start_time": "2021-10-10T13:04:53.023Z"
      },
      {
        "duration": 6,
        "start_time": "2021-10-10T13:04:53.030Z"
      },
      {
        "duration": 9,
        "start_time": "2021-10-10T13:04:53.037Z"
      },
      {
        "duration": 20,
        "start_time": "2021-10-10T13:04:53.048Z"
      },
      {
        "duration": 209,
        "start_time": "2021-10-10T13:04:53.100Z"
      },
      {
        "duration": 822,
        "start_time": "2021-10-10T13:04:53.313Z"
      },
      {
        "duration": 243,
        "start_time": "2021-10-10T13:04:54.138Z"
      },
      {
        "duration": 240,
        "start_time": "2021-10-10T13:04:54.383Z"
      },
      {
        "duration": 14,
        "start_time": "2021-10-10T13:04:54.625Z"
      },
      {
        "duration": 13,
        "start_time": "2021-10-10T13:04:54.641Z"
      },
      {
        "duration": 3,
        "start_time": "2021-10-10T13:04:54.656Z"
      },
      {
        "duration": 7,
        "start_time": "2021-10-10T13:04:54.660Z"
      },
      {
        "duration": 3,
        "start_time": "2021-10-10T13:04:54.668Z"
      },
      {
        "duration": 29,
        "start_time": "2021-10-10T13:04:54.672Z"
      },
      {
        "duration": 5,
        "start_time": "2021-10-10T13:04:54.703Z"
      },
      {
        "duration": 13,
        "start_time": "2021-10-10T13:04:54.709Z"
      },
      {
        "duration": 28,
        "start_time": "2021-10-10T13:04:54.723Z"
      },
      {
        "duration": 2,
        "start_time": "2021-10-10T13:04:54.753Z"
      },
      {
        "duration": 15,
        "start_time": "2021-10-10T13:04:54.758Z"
      },
      {
        "duration": 25,
        "start_time": "2021-10-10T13:04:54.775Z"
      },
      {
        "duration": 121,
        "start_time": "2021-10-10T13:04:54.802Z"
      },
      {
        "duration": 3981,
        "start_time": "2021-10-10T13:04:54.925Z"
      },
      {
        "duration": 3055,
        "start_time": "2021-10-10T13:04:58.908Z"
      },
      {
        "duration": 38,
        "start_time": "2021-10-10T13:05:01.967Z"
      },
      {
        "duration": 96,
        "start_time": "2021-10-10T13:05:02.008Z"
      },
      {
        "duration": 10,
        "start_time": "2021-10-10T13:05:02.107Z"
      },
      {
        "duration": 82,
        "start_time": "2021-10-10T13:05:02.118Z"
      },
      {
        "duration": 23,
        "start_time": "2021-10-10T13:05:02.202Z"
      },
      {
        "duration": 6,
        "start_time": "2021-10-10T13:05:02.226Z"
      },
      {
        "duration": 5,
        "start_time": "2021-10-10T13:05:02.233Z"
      },
      {
        "duration": 61,
        "start_time": "2021-10-10T13:05:02.239Z"
      },
      {
        "duration": 100,
        "start_time": "2021-10-10T13:05:02.302Z"
      },
      {
        "duration": 8,
        "start_time": "2021-10-10T13:05:02.404Z"
      },
      {
        "duration": 251,
        "start_time": "2021-10-10T13:05:02.414Z"
      },
      {
        "duration": 4,
        "start_time": "2021-10-10T13:05:02.666Z"
      },
      {
        "duration": 12,
        "start_time": "2021-10-10T13:05:02.672Z"
      },
      {
        "duration": 4,
        "start_time": "2021-10-10T13:05:02.686Z"
      },
      {
        "duration": 1,
        "start_time": "2021-10-10T13:05:02.700Z"
      },
      {
        "duration": 5,
        "start_time": "2021-10-10T13:05:02.703Z"
      },
      {
        "duration": 12,
        "start_time": "2021-10-10T13:05:02.710Z"
      },
      {
        "duration": 452,
        "start_time": "2021-10-10T13:05:02.723Z"
      },
      {
        "duration": 5669,
        "start_time": "2021-10-10T13:05:03.177Z"
      },
      {
        "duration": 8652,
        "start_time": "2021-10-10T13:05:08.848Z"
      },
      {
        "duration": 316,
        "start_time": "2021-10-10T13:05:17.502Z"
      },
      {
        "duration": 82,
        "start_time": "2021-10-10T13:05:17.819Z"
      },
      {
        "duration": 116,
        "start_time": "2021-10-10T13:05:17.903Z"
      },
      {
        "duration": 83,
        "start_time": "2021-10-10T13:05:18.021Z"
      },
      {
        "duration": 94,
        "start_time": "2021-10-10T13:05:18.107Z"
      },
      {
        "duration": 3,
        "start_time": "2021-10-10T13:05:18.203Z"
      },
      {
        "duration": 23,
        "start_time": "2021-10-10T13:05:18.207Z"
      },
      {
        "duration": 4,
        "start_time": "2021-10-10T13:05:18.231Z"
      },
      {
        "duration": 5,
        "start_time": "2021-10-10T13:05:18.237Z"
      },
      {
        "duration": 58,
        "start_time": "2021-10-10T13:05:18.243Z"
      },
      {
        "duration": 96,
        "start_time": "2021-10-10T13:05:18.304Z"
      },
      {
        "duration": 5,
        "start_time": "2021-10-10T13:05:18.402Z"
      },
      {
        "duration": 258,
        "start_time": "2021-10-10T13:05:18.409Z"
      },
      {
        "duration": 50,
        "start_time": "2021-10-10T13:05:18.669Z"
      },
      {
        "duration": 449,
        "start_time": "2021-10-10T13:05:18.272Z"
      },
      {
        "duration": 447,
        "start_time": "2021-10-10T13:05:18.276Z"
      },
      {
        "duration": 442,
        "start_time": "2021-10-10T13:05:18.282Z"
      },
      {
        "duration": 45,
        "start_time": "2021-10-10T13:05:25.012Z"
      },
      {
        "duration": 4,
        "start_time": "2021-10-10T13:05:27.343Z"
      },
      {
        "duration": 7,
        "start_time": "2021-10-10T13:05:28.514Z"
      },
      {
        "duration": 23,
        "start_time": "2021-10-10T13:14:17.647Z"
      },
      {
        "duration": 43,
        "start_time": "2021-10-10T13:14:23.700Z"
      },
      {
        "duration": 22,
        "start_time": "2021-10-10T13:14:29.483Z"
      },
      {
        "duration": 69,
        "start_time": "2021-10-10T13:14:34.064Z"
      },
      {
        "duration": 20,
        "start_time": "2021-10-10T13:17:07.909Z"
      },
      {
        "duration": 3,
        "start_time": "2021-10-10T13:17:14.419Z"
      },
      {
        "duration": 5,
        "start_time": "2021-10-10T13:17:20.155Z"
      },
      {
        "duration": 51,
        "start_time": "2021-10-10T13:17:24.118Z"
      },
      {
        "duration": 52,
        "start_time": "2021-10-10T13:17:43.287Z"
      },
      {
        "duration": 46,
        "start_time": "2021-10-10T13:18:22.696Z"
      },
      {
        "duration": 58,
        "start_time": "2021-10-10T13:19:00.393Z"
      },
      {
        "duration": 57,
        "start_time": "2021-10-10T13:20:26.080Z"
      },
      {
        "duration": 4,
        "start_time": "2021-10-10T13:20:34.223Z"
      },
      {
        "duration": 8,
        "start_time": "2021-10-10T13:20:36.119Z"
      },
      {
        "duration": 69,
        "start_time": "2021-10-10T13:23:24.444Z"
      },
      {
        "duration": 49,
        "start_time": "2021-10-10T13:23:27.737Z"
      },
      {
        "duration": 46,
        "start_time": "2021-10-10T13:23:37.647Z"
      },
      {
        "duration": 60,
        "start_time": "2021-10-10T13:23:41.580Z"
      },
      {
        "duration": 45,
        "start_time": "2021-10-10T13:23:46.331Z"
      },
      {
        "duration": 1052,
        "start_time": "2021-10-10T13:53:47.763Z"
      },
      {
        "duration": 3,
        "start_time": "2021-10-10T13:53:48.817Z"
      },
      {
        "duration": 106,
        "start_time": "2021-10-10T13:53:48.821Z"
      },
      {
        "duration": 7,
        "start_time": "2021-10-10T13:53:48.929Z"
      },
      {
        "duration": 6,
        "start_time": "2021-10-10T13:53:48.937Z"
      },
      {
        "duration": 6,
        "start_time": "2021-10-10T13:53:48.944Z"
      },
      {
        "duration": 8,
        "start_time": "2021-10-10T13:53:48.951Z"
      },
      {
        "duration": 9,
        "start_time": "2021-10-10T13:53:48.962Z"
      },
      {
        "duration": 208,
        "start_time": "2021-10-10T13:53:48.973Z"
      },
      {
        "duration": 779,
        "start_time": "2021-10-10T13:53:49.182Z"
      },
      {
        "duration": 259,
        "start_time": "2021-10-10T13:53:49.962Z"
      },
      {
        "duration": 147,
        "start_time": "2021-10-10T13:53:50.222Z"
      },
      {
        "duration": 12,
        "start_time": "2021-10-10T13:53:50.371Z"
      },
      {
        "duration": 21,
        "start_time": "2021-10-10T13:53:50.385Z"
      },
      {
        "duration": 2,
        "start_time": "2021-10-10T13:53:50.408Z"
      },
      {
        "duration": 8,
        "start_time": "2021-10-10T13:53:50.411Z"
      },
      {
        "duration": 3,
        "start_time": "2021-10-10T13:53:50.420Z"
      },
      {
        "duration": 5,
        "start_time": "2021-10-10T13:53:50.425Z"
      },
      {
        "duration": 6,
        "start_time": "2021-10-10T13:53:50.432Z"
      },
      {
        "duration": 22,
        "start_time": "2021-10-10T13:53:50.439Z"
      },
      {
        "duration": 27,
        "start_time": "2021-10-10T13:53:50.463Z"
      },
      {
        "duration": 2,
        "start_time": "2021-10-10T13:53:50.500Z"
      },
      {
        "duration": 12,
        "start_time": "2021-10-10T13:53:50.505Z"
      },
      {
        "duration": 16,
        "start_time": "2021-10-10T13:53:50.520Z"
      },
      {
        "duration": 118,
        "start_time": "2021-10-10T13:53:50.538Z"
      },
      {
        "duration": 3974,
        "start_time": "2021-10-10T13:53:50.657Z"
      },
      {
        "duration": 3045,
        "start_time": "2021-10-10T13:53:54.633Z"
      },
      {
        "duration": 29,
        "start_time": "2021-10-10T13:53:57.680Z"
      },
      {
        "duration": 91,
        "start_time": "2021-10-10T13:53:57.711Z"
      },
      {
        "duration": 103,
        "start_time": "2021-10-10T13:53:57.804Z"
      },
      {
        "duration": 8,
        "start_time": "2021-10-10T13:53:57.908Z"
      },
      {
        "duration": 25,
        "start_time": "2021-10-10T13:53:57.917Z"
      },
      {
        "duration": 4,
        "start_time": "2021-10-10T13:53:57.943Z"
      },
      {
        "duration": 9,
        "start_time": "2021-10-10T13:53:57.948Z"
      },
      {
        "duration": 47,
        "start_time": "2021-10-10T13:53:57.958Z"
      },
      {
        "duration": 94,
        "start_time": "2021-10-10T13:53:58.007Z"
      },
      {
        "duration": 5,
        "start_time": "2021-10-10T13:53:58.103Z"
      },
      {
        "duration": 348,
        "start_time": "2021-10-10T13:53:58.110Z"
      },
      {
        "duration": 4,
        "start_time": "2021-10-10T13:53:58.459Z"
      },
      {
        "duration": 14,
        "start_time": "2021-10-10T13:53:58.464Z"
      },
      {
        "duration": 3,
        "start_time": "2021-10-10T13:53:58.479Z"
      },
      {
        "duration": 7,
        "start_time": "2021-10-10T13:53:58.484Z"
      },
      {
        "duration": 2,
        "start_time": "2021-10-10T13:53:58.500Z"
      },
      {
        "duration": 12,
        "start_time": "2021-10-10T13:53:58.503Z"
      },
      {
        "duration": 442,
        "start_time": "2021-10-10T13:53:58.516Z"
      },
      {
        "duration": 5555,
        "start_time": "2021-10-10T13:53:58.959Z"
      },
      {
        "duration": 8682,
        "start_time": "2021-10-10T13:54:04.516Z"
      },
      {
        "duration": 328,
        "start_time": "2021-10-10T13:54:13.200Z"
      },
      {
        "duration": 72,
        "start_time": "2021-10-10T13:54:13.530Z"
      },
      {
        "duration": 196,
        "start_time": "2021-10-10T13:54:13.604Z"
      },
      {
        "duration": 98,
        "start_time": "2021-10-10T13:54:13.802Z"
      },
      {
        "duration": 6,
        "start_time": "2021-10-10T13:54:13.901Z"
      },
      {
        "duration": 4,
        "start_time": "2021-10-10T13:54:13.908Z"
      },
      {
        "duration": 21,
        "start_time": "2021-10-10T13:54:13.913Z"
      },
      {
        "duration": 5,
        "start_time": "2021-10-10T13:54:13.935Z"
      },
      {
        "duration": 4,
        "start_time": "2021-10-10T13:54:13.941Z"
      },
      {
        "duration": 54,
        "start_time": "2021-10-10T13:54:13.946Z"
      },
      {
        "duration": 98,
        "start_time": "2021-10-10T13:54:14.002Z"
      },
      {
        "duration": 6,
        "start_time": "2021-10-10T13:54:14.102Z"
      },
      {
        "duration": 259,
        "start_time": "2021-10-10T13:54:14.110Z"
      },
      {
        "duration": 28,
        "start_time": "2021-10-10T13:54:14.371Z"
      },
      {
        "duration": 49,
        "start_time": "2021-10-10T13:54:14.401Z"
      },
      {
        "duration": 470,
        "start_time": "2021-10-10T13:54:13.982Z"
      },
      {
        "duration": 466,
        "start_time": "2021-10-10T13:54:13.987Z"
      },
      {
        "duration": 50,
        "start_time": "2021-10-10T13:54:41.020Z"
      },
      {
        "duration": 47,
        "start_time": "2021-10-10T14:22:48.938Z"
      },
      {
        "duration": 123,
        "start_time": "2021-10-11T07:01:15.672Z"
      },
      {
        "duration": 47,
        "start_time": "2021-10-11T19:04:21.606Z"
      },
      {
        "duration": 1105,
        "start_time": "2021-10-11T19:04:24.516Z"
      },
      {
        "duration": 4,
        "start_time": "2021-10-11T19:04:25.623Z"
      },
      {
        "duration": 382,
        "start_time": "2021-10-11T19:04:25.629Z"
      },
      {
        "duration": 9,
        "start_time": "2021-10-11T19:04:26.012Z"
      },
      {
        "duration": 3,
        "start_time": "2021-10-11T19:04:26.023Z"
      },
      {
        "duration": 8,
        "start_time": "2021-10-11T19:04:26.028Z"
      },
      {
        "duration": 8,
        "start_time": "2021-10-11T19:04:26.038Z"
      },
      {
        "duration": 11,
        "start_time": "2021-10-11T19:04:26.048Z"
      },
      {
        "duration": 220,
        "start_time": "2021-10-11T19:04:26.060Z"
      },
      {
        "duration": 806,
        "start_time": "2021-10-11T19:04:26.281Z"
      },
      {
        "duration": 245,
        "start_time": "2021-10-11T19:04:27.089Z"
      },
      {
        "duration": 146,
        "start_time": "2021-10-11T19:04:27.336Z"
      },
      {
        "duration": 21,
        "start_time": "2021-10-11T19:04:27.484Z"
      },
      {
        "duration": 11,
        "start_time": "2021-10-11T19:04:27.506Z"
      },
      {
        "duration": 2,
        "start_time": "2021-10-11T19:04:27.519Z"
      },
      {
        "duration": 7,
        "start_time": "2021-10-11T19:04:27.522Z"
      },
      {
        "duration": 3,
        "start_time": "2021-10-11T19:04:27.530Z"
      },
      {
        "duration": 5,
        "start_time": "2021-10-11T19:04:27.534Z"
      },
      {
        "duration": 4,
        "start_time": "2021-10-11T19:04:27.540Z"
      },
      {
        "duration": 11,
        "start_time": "2021-10-11T19:04:27.545Z"
      },
      {
        "duration": 55,
        "start_time": "2021-10-11T19:04:27.557Z"
      },
      {
        "duration": 2,
        "start_time": "2021-10-11T19:04:27.614Z"
      },
      {
        "duration": 5,
        "start_time": "2021-10-11T19:04:27.619Z"
      },
      {
        "duration": 7,
        "start_time": "2021-10-11T19:04:27.626Z"
      },
      {
        "duration": 115,
        "start_time": "2021-10-11T19:04:27.634Z"
      },
      {
        "duration": 3987,
        "start_time": "2021-10-11T19:04:27.751Z"
      },
      {
        "duration": 3022,
        "start_time": "2021-10-11T19:04:31.739Z"
      },
      {
        "duration": 46,
        "start_time": "2021-10-11T19:04:34.763Z"
      },
      {
        "duration": 92,
        "start_time": "2021-10-11T19:04:34.811Z"
      },
      {
        "duration": 5,
        "start_time": "2021-10-11T19:04:34.905Z"
      },
      {
        "duration": 4,
        "start_time": "2021-10-11T19:04:34.912Z"
      },
      {
        "duration": 20,
        "start_time": "2021-10-11T19:04:34.917Z"
      },
      {
        "duration": 5,
        "start_time": "2021-10-11T19:04:35.000Z"
      },
      {
        "duration": 5,
        "start_time": "2021-10-11T19:04:35.006Z"
      },
      {
        "duration": 8,
        "start_time": "2021-10-11T19:04:35.012Z"
      },
      {
        "duration": 180,
        "start_time": "2021-10-11T19:04:35.023Z"
      },
      {
        "duration": 10,
        "start_time": "2021-10-11T19:04:35.204Z"
      },
      {
        "duration": 317,
        "start_time": "2021-10-11T19:04:35.216Z"
      },
      {
        "duration": 4,
        "start_time": "2021-10-11T19:04:35.534Z"
      },
      {
        "duration": 15,
        "start_time": "2021-10-11T19:04:35.539Z"
      },
      {
        "duration": 4,
        "start_time": "2021-10-11T19:04:35.555Z"
      },
      {
        "duration": 10,
        "start_time": "2021-10-11T19:04:35.560Z"
      },
      {
        "duration": 5,
        "start_time": "2021-10-11T19:04:35.571Z"
      },
      {
        "duration": 26,
        "start_time": "2021-10-11T19:04:35.577Z"
      },
      {
        "duration": 460,
        "start_time": "2021-10-11T19:04:35.605Z"
      },
      {
        "duration": 5549,
        "start_time": "2021-10-11T19:04:36.067Z"
      },
      {
        "duration": 8801,
        "start_time": "2021-10-11T19:04:41.617Z"
      },
      {
        "duration": 343,
        "start_time": "2021-10-11T19:04:50.419Z"
      },
      {
        "duration": 38,
        "start_time": "2021-10-11T19:04:50.764Z"
      },
      {
        "duration": 206,
        "start_time": "2021-10-11T19:04:50.804Z"
      },
      {
        "duration": 88,
        "start_time": "2021-10-11T19:04:51.013Z"
      },
      {
        "duration": 96,
        "start_time": "2021-10-11T19:04:51.105Z"
      },
      {
        "duration": 9,
        "start_time": "2021-10-11T19:04:51.203Z"
      },
      {
        "duration": 23,
        "start_time": "2021-10-11T19:04:51.214Z"
      },
      {
        "duration": 4,
        "start_time": "2021-10-11T19:04:51.239Z"
      },
      {
        "duration": 56,
        "start_time": "2021-10-11T19:04:51.244Z"
      },
      {
        "duration": 6,
        "start_time": "2021-10-11T19:04:51.302Z"
      },
      {
        "duration": 90,
        "start_time": "2021-10-11T19:04:51.310Z"
      },
      {
        "duration": 6,
        "start_time": "2021-10-11T19:04:51.403Z"
      },
      {
        "duration": 328,
        "start_time": "2021-10-11T19:04:51.500Z"
      },
      {
        "duration": 23,
        "start_time": "2021-10-11T19:04:51.830Z"
      },
      {
        "duration": 43,
        "start_time": "2021-10-11T19:04:51.854Z"
      },
      {
        "duration": -492,
        "start_time": "2021-10-11T19:04:52.391Z"
      },
      {
        "duration": -495,
        "start_time": "2021-10-11T19:04:52.395Z"
      },
      {
        "duration": 41,
        "start_time": "2021-10-11T19:42:31.722Z"
      },
      {
        "duration": 45,
        "start_time": "2021-10-11T19:50:43.257Z"
      },
      {
        "duration": 4,
        "start_time": "2021-10-11T19:51:04.858Z"
      },
      {
        "duration": 8,
        "start_time": "2021-10-11T19:51:06.903Z"
      },
      {
        "duration": 4,
        "start_time": "2021-10-11T19:51:46.653Z"
      },
      {
        "duration": 8,
        "start_time": "2021-10-11T19:51:48.644Z"
      },
      {
        "duration": 1523,
        "start_time": "2021-10-12T08:01:09.087Z"
      },
      {
        "duration": 3,
        "start_time": "2021-10-12T08:01:10.613Z"
      },
      {
        "duration": 176,
        "start_time": "2021-10-12T08:01:10.619Z"
      },
      {
        "duration": 12,
        "start_time": "2021-10-12T08:01:10.798Z"
      },
      {
        "duration": 5,
        "start_time": "2021-10-12T08:01:10.813Z"
      },
      {
        "duration": 7,
        "start_time": "2021-10-12T08:01:10.821Z"
      },
      {
        "duration": 54,
        "start_time": "2021-10-12T08:01:10.831Z"
      },
      {
        "duration": 16,
        "start_time": "2021-10-12T08:01:10.890Z"
      },
      {
        "duration": 320,
        "start_time": "2021-10-12T08:01:10.910Z"
      },
      {
        "duration": 1254,
        "start_time": "2021-10-12T08:01:11.233Z"
      },
      {
        "duration": 395,
        "start_time": "2021-10-12T08:01:12.490Z"
      },
      {
        "duration": 330,
        "start_time": "2021-10-12T08:01:12.887Z"
      },
      {
        "duration": 19,
        "start_time": "2021-10-12T08:01:13.219Z"
      },
      {
        "duration": 42,
        "start_time": "2021-10-12T08:01:13.241Z"
      },
      {
        "duration": 4,
        "start_time": "2021-10-12T08:01:13.285Z"
      },
      {
        "duration": 10,
        "start_time": "2021-10-12T08:01:13.291Z"
      },
      {
        "duration": 11,
        "start_time": "2021-10-12T08:01:13.303Z"
      },
      {
        "duration": 10,
        "start_time": "2021-10-12T08:01:13.316Z"
      },
      {
        "duration": 6,
        "start_time": "2021-10-12T08:01:13.329Z"
      },
      {
        "duration": 45,
        "start_time": "2021-10-12T08:01:13.337Z"
      },
      {
        "duration": 42,
        "start_time": "2021-10-12T08:01:13.384Z"
      },
      {
        "duration": 3,
        "start_time": "2021-10-12T08:01:13.428Z"
      },
      {
        "duration": 3,
        "start_time": "2021-10-12T08:01:13.438Z"
      },
      {
        "duration": 38,
        "start_time": "2021-10-12T08:01:13.445Z"
      },
      {
        "duration": 166,
        "start_time": "2021-10-12T08:01:13.486Z"
      },
      {
        "duration": 6273,
        "start_time": "2021-10-12T08:01:13.654Z"
      },
      {
        "duration": 4812,
        "start_time": "2021-10-12T08:01:19.930Z"
      },
      {
        "duration": 49,
        "start_time": "2021-10-12T08:01:24.745Z"
      },
      {
        "duration": 94,
        "start_time": "2021-10-12T08:01:24.798Z"
      },
      {
        "duration": 7,
        "start_time": "2021-10-12T08:01:24.982Z"
      },
      {
        "duration": 6,
        "start_time": "2021-10-12T08:01:24.991Z"
      },
      {
        "duration": 32,
        "start_time": "2021-10-12T08:01:24.999Z"
      },
      {
        "duration": 6,
        "start_time": "2021-10-12T08:01:25.034Z"
      },
      {
        "duration": 42,
        "start_time": "2021-10-12T08:01:25.042Z"
      },
      {
        "duration": 22,
        "start_time": "2021-10-12T08:01:25.086Z"
      },
      {
        "duration": 77,
        "start_time": "2021-10-12T08:01:25.112Z"
      },
      {
        "duration": 5,
        "start_time": "2021-10-12T08:01:25.284Z"
      },
      {
        "duration": 466,
        "start_time": "2021-10-12T08:01:25.292Z"
      },
      {
        "duration": 5,
        "start_time": "2021-10-12T08:01:25.760Z"
      },
      {
        "duration": 14,
        "start_time": "2021-10-12T08:01:25.782Z"
      },
      {
        "duration": 7,
        "start_time": "2021-10-12T08:01:25.798Z"
      },
      {
        "duration": 5,
        "start_time": "2021-10-12T08:01:25.808Z"
      },
      {
        "duration": 9,
        "start_time": "2021-10-12T08:01:25.816Z"
      },
      {
        "duration": 24,
        "start_time": "2021-10-12T08:01:25.827Z"
      },
      {
        "duration": 718,
        "start_time": "2021-10-12T08:01:25.854Z"
      },
      {
        "duration": 9081,
        "start_time": "2021-10-12T08:01:26.574Z"
      },
      {
        "duration": 14143,
        "start_time": "2021-10-12T08:01:35.657Z"
      },
      {
        "duration": 516,
        "start_time": "2021-10-12T08:01:49.803Z"
      },
      {
        "duration": 66,
        "start_time": "2021-10-12T08:01:50.321Z"
      },
      {
        "duration": 195,
        "start_time": "2021-10-12T08:01:50.391Z"
      },
      {
        "duration": 96,
        "start_time": "2021-10-12T08:01:50.590Z"
      },
      {
        "duration": 13,
        "start_time": "2021-10-12T08:01:50.689Z"
      },
      {
        "duration": 16,
        "start_time": "2021-10-12T08:01:50.704Z"
      },
      {
        "duration": 42,
        "start_time": "2021-10-12T08:01:50.723Z"
      },
      {
        "duration": 6,
        "start_time": "2021-10-12T08:01:50.768Z"
      },
      {
        "duration": 5,
        "start_time": "2021-10-12T08:01:50.783Z"
      },
      {
        "duration": 13,
        "start_time": "2021-10-12T08:01:50.791Z"
      },
      {
        "duration": 101,
        "start_time": "2021-10-12T08:01:50.882Z"
      },
      {
        "duration": 9,
        "start_time": "2021-10-12T08:01:50.985Z"
      },
      {
        "duration": 403,
        "start_time": "2021-10-12T08:01:50.996Z"
      },
      {
        "duration": 34,
        "start_time": "2021-10-12T08:01:51.403Z"
      },
      {
        "duration": 95,
        "start_time": "2021-10-12T08:01:51.440Z"
      },
      {
        "duration": -642,
        "start_time": "2021-10-12T08:01:52.181Z"
      },
      {
        "duration": -644,
        "start_time": "2021-10-12T08:01:52.184Z"
      },
      {
        "duration": 35,
        "start_time": "2021-10-12T08:02:09.805Z"
      },
      {
        "duration": 31,
        "start_time": "2021-10-12T08:02:15.532Z"
      },
      {
        "duration": 6,
        "start_time": "2021-10-12T08:02:28.349Z"
      },
      {
        "duration": 21,
        "start_time": "2021-10-12T08:02:28.357Z"
      },
      {
        "duration": 107,
        "start_time": "2021-10-12T08:02:28.381Z"
      },
      {
        "duration": 13,
        "start_time": "2021-10-12T08:02:28.491Z"
      },
      {
        "duration": 6,
        "start_time": "2021-10-12T08:02:28.506Z"
      },
      {
        "duration": 8,
        "start_time": "2021-10-12T08:02:28.515Z"
      },
      {
        "duration": 59,
        "start_time": "2021-10-12T08:02:28.525Z"
      },
      {
        "duration": 17,
        "start_time": "2021-10-12T08:02:28.588Z"
      },
      {
        "duration": 314,
        "start_time": "2021-10-12T08:02:28.608Z"
      },
      {
        "duration": 1284,
        "start_time": "2021-10-12T08:02:28.925Z"
      },
      {
        "duration": 405,
        "start_time": "2021-10-12T08:02:30.211Z"
      },
      {
        "duration": 233,
        "start_time": "2021-10-12T08:02:30.618Z"
      },
      {
        "duration": 32,
        "start_time": "2021-10-12T08:02:30.854Z"
      },
      {
        "duration": 17,
        "start_time": "2021-10-12T08:02:30.889Z"
      },
      {
        "duration": 10,
        "start_time": "2021-10-12T08:02:30.909Z"
      },
      {
        "duration": 21,
        "start_time": "2021-10-12T08:02:30.921Z"
      },
      {
        "duration": 8,
        "start_time": "2021-10-12T08:02:30.944Z"
      },
      {
        "duration": 21,
        "start_time": "2021-10-12T08:02:30.954Z"
      },
      {
        "duration": 7,
        "start_time": "2021-10-12T08:02:30.978Z"
      },
      {
        "duration": 22,
        "start_time": "2021-10-12T08:02:30.987Z"
      },
      {
        "duration": 71,
        "start_time": "2021-10-12T08:02:31.011Z"
      },
      {
        "duration": 4,
        "start_time": "2021-10-12T08:02:31.084Z"
      },
      {
        "duration": 8,
        "start_time": "2021-10-12T08:02:31.096Z"
      },
      {
        "duration": 13,
        "start_time": "2021-10-12T08:02:31.108Z"
      },
      {
        "duration": 183,
        "start_time": "2021-10-12T08:02:31.123Z"
      },
      {
        "duration": 6403,
        "start_time": "2021-10-12T08:02:31.309Z"
      },
      {
        "duration": 4869,
        "start_time": "2021-10-12T08:02:37.714Z"
      },
      {
        "duration": 196,
        "start_time": "2021-10-12T08:02:42.586Z"
      },
      {
        "duration": 8,
        "start_time": "2021-10-12T08:02:42.784Z"
      },
      {
        "duration": 9,
        "start_time": "2021-10-12T08:02:42.794Z"
      },
      {
        "duration": 14,
        "start_time": "2021-10-12T08:02:42.805Z"
      },
      {
        "duration": 64,
        "start_time": "2021-10-12T08:02:42.822Z"
      },
      {
        "duration": 8,
        "start_time": "2021-10-12T08:02:42.888Z"
      },
      {
        "duration": 23,
        "start_time": "2021-10-12T08:02:42.898Z"
      },
      {
        "duration": 61,
        "start_time": "2021-10-12T08:02:42.924Z"
      },
      {
        "duration": 100,
        "start_time": "2021-10-12T08:02:42.989Z"
      },
      {
        "duration": 8,
        "start_time": "2021-10-12T08:02:43.091Z"
      },
      {
        "duration": 411,
        "start_time": "2021-10-12T08:02:43.101Z"
      },
      {
        "duration": 5,
        "start_time": "2021-10-12T08:02:43.514Z"
      },
      {
        "duration": 18,
        "start_time": "2021-10-12T08:02:43.522Z"
      },
      {
        "duration": 5,
        "start_time": "2021-10-12T08:02:43.543Z"
      },
      {
        "duration": 6,
        "start_time": "2021-10-12T08:02:43.551Z"
      },
      {
        "duration": 3,
        "start_time": "2021-10-12T08:02:43.584Z"
      },
      {
        "duration": 19,
        "start_time": "2021-10-12T08:02:43.590Z"
      },
      {
        "duration": 717,
        "start_time": "2021-10-12T08:02:43.612Z"
      },
      {
        "duration": 9006,
        "start_time": "2021-10-12T08:02:44.331Z"
      },
      {
        "duration": 14344,
        "start_time": "2021-10-12T08:02:53.340Z"
      },
      {
        "duration": 527,
        "start_time": "2021-10-12T08:03:07.687Z"
      },
      {
        "duration": 74,
        "start_time": "2021-10-12T08:03:08.216Z"
      },
      {
        "duration": 194,
        "start_time": "2021-10-12T08:03:08.292Z"
      },
      {
        "duration": 93,
        "start_time": "2021-10-12T08:03:08.490Z"
      },
      {
        "duration": 10,
        "start_time": "2021-10-12T08:03:08.586Z"
      },
      {
        "duration": 6,
        "start_time": "2021-10-12T08:03:08.598Z"
      },
      {
        "duration": 30,
        "start_time": "2021-10-12T08:03:08.607Z"
      },
      {
        "duration": 6,
        "start_time": "2021-10-12T08:03:08.639Z"
      },
      {
        "duration": 5,
        "start_time": "2021-10-12T08:03:08.683Z"
      },
      {
        "duration": 91,
        "start_time": "2021-10-12T08:03:08.691Z"
      },
      {
        "duration": 97,
        "start_time": "2021-10-12T08:03:08.786Z"
      },
      {
        "duration": 5,
        "start_time": "2021-10-12T08:03:08.885Z"
      },
      {
        "duration": 409,
        "start_time": "2021-10-12T08:03:08.893Z"
      },
      {
        "duration": 33,
        "start_time": "2021-10-12T08:03:09.304Z"
      },
      {
        "duration": 56,
        "start_time": "2021-10-12T08:03:09.340Z"
      },
      {
        "duration": 6,
        "start_time": "2021-10-12T08:03:09.399Z"
      },
      {
        "duration": 23,
        "start_time": "2021-10-12T08:03:09.407Z"
      },
      {
        "duration": 6,
        "start_time": "2021-10-12T08:04:13.255Z"
      },
      {
        "duration": 11,
        "start_time": "2021-10-12T08:04:13.264Z"
      },
      {
        "duration": 97,
        "start_time": "2021-10-12T08:04:13.278Z"
      },
      {
        "duration": 13,
        "start_time": "2021-10-12T08:04:13.378Z"
      },
      {
        "duration": 8,
        "start_time": "2021-10-12T08:04:13.394Z"
      },
      {
        "duration": 9,
        "start_time": "2021-10-12T08:04:13.405Z"
      },
      {
        "duration": 26,
        "start_time": "2021-10-12T08:04:13.416Z"
      },
      {
        "duration": 133,
        "start_time": "2021-10-12T08:04:13.445Z"
      },
      {
        "duration": 328,
        "start_time": "2021-10-12T08:04:13.584Z"
      },
      {
        "duration": 1220,
        "start_time": "2021-10-12T08:04:13.914Z"
      },
      {
        "duration": 387,
        "start_time": "2021-10-12T08:04:15.136Z"
      },
      {
        "duration": 230,
        "start_time": "2021-10-12T08:04:15.525Z"
      },
      {
        "duration": 31,
        "start_time": "2021-10-12T08:04:15.757Z"
      },
      {
        "duration": 18,
        "start_time": "2021-10-12T08:04:15.791Z"
      },
      {
        "duration": 3,
        "start_time": "2021-10-12T08:04:15.812Z"
      },
      {
        "duration": 8,
        "start_time": "2021-10-12T08:04:15.818Z"
      },
      {
        "duration": 4,
        "start_time": "2021-10-12T08:04:15.829Z"
      },
      {
        "duration": 10,
        "start_time": "2021-10-12T08:04:15.835Z"
      },
      {
        "duration": 36,
        "start_time": "2021-10-12T08:04:15.847Z"
      },
      {
        "duration": 18,
        "start_time": "2021-10-12T08:04:15.885Z"
      },
      {
        "duration": 38,
        "start_time": "2021-10-12T08:04:15.905Z"
      },
      {
        "duration": 2,
        "start_time": "2021-10-12T08:04:15.946Z"
      },
      {
        "duration": 3,
        "start_time": "2021-10-12T08:04:15.983Z"
      },
      {
        "duration": 6,
        "start_time": "2021-10-12T08:04:15.989Z"
      },
      {
        "duration": 166,
        "start_time": "2021-10-12T08:04:15.998Z"
      },
      {
        "duration": 6245,
        "start_time": "2021-10-12T08:04:16.166Z"
      },
      {
        "duration": 4826,
        "start_time": "2021-10-12T08:04:22.414Z"
      },
      {
        "duration": 49,
        "start_time": "2021-10-12T08:04:27.242Z"
      },
      {
        "duration": 187,
        "start_time": "2021-10-12T08:04:27.294Z"
      },
      {
        "duration": 8,
        "start_time": "2021-10-12T08:04:27.484Z"
      },
      {
        "duration": 7,
        "start_time": "2021-10-12T08:04:27.494Z"
      },
      {
        "duration": 28,
        "start_time": "2021-10-12T08:04:27.504Z"
      },
      {
        "duration": 6,
        "start_time": "2021-10-12T08:04:27.535Z"
      },
      {
        "duration": 43,
        "start_time": "2021-10-12T08:04:27.543Z"
      },
      {
        "duration": 13,
        "start_time": "2021-10-12T08:04:27.589Z"
      },
      {
        "duration": 86,
        "start_time": "2021-10-12T08:04:27.605Z"
      },
      {
        "duration": 94,
        "start_time": "2021-10-12T08:04:27.695Z"
      },
      {
        "duration": 405,
        "start_time": "2021-10-12T08:04:27.791Z"
      },
      {
        "duration": 6,
        "start_time": "2021-10-12T08:04:28.198Z"
      },
      {
        "duration": 16,
        "start_time": "2021-10-12T08:04:28.206Z"
      },
      {
        "duration": 6,
        "start_time": "2021-10-12T08:04:28.224Z"
      },
      {
        "duration": 6,
        "start_time": "2021-10-12T08:04:28.233Z"
      },
      {
        "duration": 8,
        "start_time": "2021-10-12T08:04:28.242Z"
      },
      {
        "duration": 20,
        "start_time": "2021-10-12T08:04:28.284Z"
      },
      {
        "duration": 694,
        "start_time": "2021-10-12T08:04:28.307Z"
      },
      {
        "duration": 9113,
        "start_time": "2021-10-12T08:04:29.003Z"
      },
      {
        "duration": 14614,
        "start_time": "2021-10-12T08:04:38.119Z"
      },
      {
        "duration": 538,
        "start_time": "2021-10-12T08:04:52.735Z"
      },
      {
        "duration": 46,
        "start_time": "2021-10-12T08:04:53.275Z"
      },
      {
        "duration": 198,
        "start_time": "2021-10-12T08:04:53.386Z"
      },
      {
        "duration": 98,
        "start_time": "2021-10-12T08:04:53.588Z"
      },
      {
        "duration": 21,
        "start_time": "2021-10-12T08:04:53.688Z"
      },
      {
        "duration": 22,
        "start_time": "2021-10-12T08:04:53.712Z"
      },
      {
        "duration": 41,
        "start_time": "2021-10-12T08:04:53.736Z"
      },
      {
        "duration": 8,
        "start_time": "2021-10-12T08:04:53.779Z"
      },
      {
        "duration": 8,
        "start_time": "2021-10-12T08:04:53.790Z"
      },
      {
        "duration": 181,
        "start_time": "2021-10-12T08:04:53.801Z"
      },
      {
        "duration": 9,
        "start_time": "2021-10-12T08:04:53.985Z"
      },
      {
        "duration": 10,
        "start_time": "2021-10-12T08:04:53.997Z"
      },
      {
        "duration": 429,
        "start_time": "2021-10-12T08:04:54.010Z"
      },
      {
        "duration": 47,
        "start_time": "2021-10-12T08:04:54.442Z"
      },
      {
        "duration": 35,
        "start_time": "2021-10-12T08:04:54.492Z"
      },
      {
        "duration": 6,
        "start_time": "2021-10-12T08:04:54.529Z"
      },
      {
        "duration": 29,
        "start_time": "2021-10-12T08:04:54.538Z"
      },
      {
        "duration": 1546,
        "start_time": "2021-10-12T17:36:45.938Z"
      },
      {
        "duration": 3,
        "start_time": "2021-10-12T17:36:47.487Z"
      },
      {
        "duration": 225,
        "start_time": "2021-10-12T17:36:47.493Z"
      },
      {
        "duration": 21,
        "start_time": "2021-10-12T17:36:47.721Z"
      },
      {
        "duration": 6,
        "start_time": "2021-10-12T17:36:47.744Z"
      },
      {
        "duration": 14,
        "start_time": "2021-10-12T17:36:47.752Z"
      },
      {
        "duration": 22,
        "start_time": "2021-10-12T17:36:47.768Z"
      },
      {
        "duration": 41,
        "start_time": "2021-10-12T17:36:47.793Z"
      },
      {
        "duration": 363,
        "start_time": "2021-10-12T17:36:47.838Z"
      },
      {
        "duration": 1361,
        "start_time": "2021-10-12T17:36:48.203Z"
      },
      {
        "duration": 424,
        "start_time": "2021-10-12T17:36:49.566Z"
      },
      {
        "duration": 259,
        "start_time": "2021-10-12T17:36:49.992Z"
      },
      {
        "duration": 19,
        "start_time": "2021-10-12T17:36:50.254Z"
      },
      {
        "duration": 22,
        "start_time": "2021-10-12T17:36:50.276Z"
      },
      {
        "duration": 27,
        "start_time": "2021-10-12T17:36:50.300Z"
      },
      {
        "duration": 23,
        "start_time": "2021-10-12T17:36:50.330Z"
      },
      {
        "duration": 25,
        "start_time": "2021-10-12T17:36:50.356Z"
      },
      {
        "duration": 37,
        "start_time": "2021-10-12T17:36:50.383Z"
      },
      {
        "duration": 22,
        "start_time": "2021-10-12T17:36:50.422Z"
      },
      {
        "duration": 38,
        "start_time": "2021-10-12T17:36:50.446Z"
      },
      {
        "duration": 68,
        "start_time": "2021-10-12T17:36:50.486Z"
      },
      {
        "duration": 3,
        "start_time": "2021-10-12T17:36:50.557Z"
      },
      {
        "duration": 21,
        "start_time": "2021-10-12T17:36:50.565Z"
      },
      {
        "duration": 14,
        "start_time": "2021-10-12T17:36:50.590Z"
      },
      {
        "duration": 197,
        "start_time": "2021-10-12T17:36:50.607Z"
      },
      {
        "duration": 6747,
        "start_time": "2021-10-12T17:36:50.806Z"
      },
      {
        "duration": 5288,
        "start_time": "2021-10-12T17:36:57.556Z"
      },
      {
        "duration": 180,
        "start_time": "2021-10-12T17:37:02.847Z"
      },
      {
        "duration": 12,
        "start_time": "2021-10-12T17:37:03.030Z"
      },
      {
        "duration": 14,
        "start_time": "2021-10-12T17:37:03.045Z"
      },
      {
        "duration": 31,
        "start_time": "2021-10-12T17:37:03.062Z"
      },
      {
        "duration": 57,
        "start_time": "2021-10-12T17:37:03.096Z"
      },
      {
        "duration": 8,
        "start_time": "2021-10-12T17:37:03.156Z"
      },
      {
        "duration": 35,
        "start_time": "2021-10-12T17:37:03.167Z"
      },
      {
        "duration": 28,
        "start_time": "2021-10-12T17:37:03.204Z"
      },
      {
        "duration": 89,
        "start_time": "2021-10-12T17:37:03.236Z"
      },
      {
        "duration": 96,
        "start_time": "2021-10-12T17:37:03.329Z"
      },
      {
        "duration": 515,
        "start_time": "2021-10-12T17:37:03.431Z"
      },
      {
        "duration": 5,
        "start_time": "2021-10-12T17:37:03.949Z"
      },
      {
        "duration": 20,
        "start_time": "2021-10-12T17:37:03.957Z"
      },
      {
        "duration": 6,
        "start_time": "2021-10-12T17:37:03.979Z"
      },
      {
        "duration": 8,
        "start_time": "2021-10-12T17:37:03.987Z"
      },
      {
        "duration": 29,
        "start_time": "2021-10-12T17:37:03.997Z"
      },
      {
        "duration": 18,
        "start_time": "2021-10-12T17:37:04.032Z"
      },
      {
        "duration": 748,
        "start_time": "2021-10-12T17:37:04.053Z"
      },
      {
        "duration": 9803,
        "start_time": "2021-10-12T17:37:04.803Z"
      },
      {
        "duration": 15484,
        "start_time": "2021-10-12T17:37:14.608Z"
      },
      {
        "duration": 567,
        "start_time": "2021-10-12T17:37:30.094Z"
      },
      {
        "duration": 160,
        "start_time": "2021-10-12T17:37:30.663Z"
      },
      {
        "duration": 101,
        "start_time": "2021-10-12T17:37:30.828Z"
      },
      {
        "duration": 11,
        "start_time": "2021-10-12T17:37:31.021Z"
      },
      {
        "duration": 10,
        "start_time": "2021-10-12T17:37:31.035Z"
      },
      {
        "duration": 13,
        "start_time": "2021-10-12T17:37:31.048Z"
      },
      {
        "duration": 63,
        "start_time": "2021-10-12T17:37:31.064Z"
      },
      {
        "duration": 9,
        "start_time": "2021-10-12T17:37:31.131Z"
      },
      {
        "duration": 17,
        "start_time": "2021-10-12T17:37:31.143Z"
      },
      {
        "duration": 20,
        "start_time": "2021-10-12T17:37:31.162Z"
      },
      {
        "duration": 98,
        "start_time": "2021-10-12T17:37:31.228Z"
      },
      {
        "duration": 16,
        "start_time": "2021-10-12T17:37:31.329Z"
      },
      {
        "duration": 419,
        "start_time": "2021-10-12T17:37:31.347Z"
      },
      {
        "duration": 32,
        "start_time": "2021-10-12T17:37:31.769Z"
      },
      {
        "duration": 39,
        "start_time": "2021-10-12T17:37:31.823Z"
      },
      {
        "duration": 5,
        "start_time": "2021-10-12T17:37:31.864Z"
      },
      {
        "duration": 15,
        "start_time": "2021-10-12T17:37:31.871Z"
      },
      {
        "duration": 6,
        "start_time": "2021-10-12T19:10:43.369Z"
      },
      {
        "duration": 4,
        "start_time": "2021-10-12T19:10:43.384Z"
      },
      {
        "duration": 256,
        "start_time": "2021-10-12T19:10:43.392Z"
      },
      {
        "duration": 11,
        "start_time": "2021-10-12T19:10:43.651Z"
      },
      {
        "duration": 5,
        "start_time": "2021-10-12T19:10:43.665Z"
      },
      {
        "duration": 12,
        "start_time": "2021-10-12T19:10:43.673Z"
      },
      {
        "duration": 46,
        "start_time": "2021-10-12T19:10:43.687Z"
      },
      {
        "duration": 19,
        "start_time": "2021-10-12T19:10:43.737Z"
      },
      {
        "duration": 345,
        "start_time": "2021-10-12T19:10:43.759Z"
      },
      {
        "duration": 1348,
        "start_time": "2021-10-12T19:10:44.108Z"
      },
      {
        "duration": 416,
        "start_time": "2021-10-12T19:10:45.460Z"
      },
      {
        "duration": 260,
        "start_time": "2021-10-12T19:10:45.878Z"
      },
      {
        "duration": 19,
        "start_time": "2021-10-12T19:10:46.140Z"
      },
      {
        "duration": 19,
        "start_time": "2021-10-12T19:10:46.161Z"
      },
      {
        "duration": 3,
        "start_time": "2021-10-12T19:10:46.182Z"
      },
      {
        "duration": 35,
        "start_time": "2021-10-12T19:10:46.187Z"
      },
      {
        "duration": 5,
        "start_time": "2021-10-12T19:10:46.226Z"
      },
      {
        "duration": 10,
        "start_time": "2021-10-12T19:10:46.234Z"
      },
      {
        "duration": 6,
        "start_time": "2021-10-12T19:10:46.247Z"
      },
      {
        "duration": 18,
        "start_time": "2021-10-12T19:10:46.255Z"
      },
      {
        "duration": 81,
        "start_time": "2021-10-12T19:10:46.275Z"
      },
      {
        "duration": 3,
        "start_time": "2021-10-12T19:10:46.358Z"
      },
      {
        "duration": 10,
        "start_time": "2021-10-12T19:10:46.363Z"
      },
      {
        "duration": 5,
        "start_time": "2021-10-12T19:10:46.376Z"
      },
      {
        "duration": 192,
        "start_time": "2021-10-12T19:10:46.384Z"
      },
      {
        "duration": 6856,
        "start_time": "2021-10-12T19:10:46.578Z"
      },
      {
        "duration": 5207,
        "start_time": "2021-10-12T19:10:53.439Z"
      },
      {
        "duration": 79,
        "start_time": "2021-10-12T19:10:58.652Z"
      },
      {
        "duration": 14,
        "start_time": "2021-10-12T19:10:58.824Z"
      },
      {
        "duration": 8,
        "start_time": "2021-10-12T19:10:58.842Z"
      },
      {
        "duration": 14,
        "start_time": "2021-10-12T19:10:58.852Z"
      },
      {
        "duration": 63,
        "start_time": "2021-10-12T19:10:58.869Z"
      },
      {
        "duration": 8,
        "start_time": "2021-10-12T19:10:58.936Z"
      },
      {
        "duration": 5,
        "start_time": "2021-10-12T19:10:58.946Z"
      },
      {
        "duration": 13,
        "start_time": "2021-10-12T19:10:58.953Z"
      },
      {
        "duration": 14,
        "start_time": "2021-10-12T19:10:59.028Z"
      },
      {
        "duration": 12,
        "start_time": "2021-10-12T19:10:59.126Z"
      },
      {
        "duration": 420,
        "start_time": "2021-10-12T19:10:59.140Z"
      },
      {
        "duration": 5,
        "start_time": "2021-10-12T19:10:59.562Z"
      },
      {
        "duration": 19,
        "start_time": "2021-10-12T19:10:59.570Z"
      },
      {
        "duration": 6,
        "start_time": "2021-10-12T19:10:59.592Z"
      },
      {
        "duration": 23,
        "start_time": "2021-10-12T19:10:59.600Z"
      },
      {
        "duration": 10,
        "start_time": "2021-10-12T19:10:59.626Z"
      },
      {
        "duration": 21,
        "start_time": "2021-10-12T19:10:59.640Z"
      },
      {
        "duration": 743,
        "start_time": "2021-10-12T19:10:59.663Z"
      },
      {
        "duration": 9721,
        "start_time": "2021-10-12T19:11:00.409Z"
      },
      {
        "duration": 15316,
        "start_time": "2021-10-12T19:11:10.133Z"
      },
      {
        "duration": 561,
        "start_time": "2021-10-12T19:11:25.451Z"
      },
      {
        "duration": 118,
        "start_time": "2021-10-12T19:11:26.015Z"
      },
      {
        "duration": 188,
        "start_time": "2021-10-12T19:11:26.137Z"
      },
      {
        "duration": 11,
        "start_time": "2021-10-12T19:11:26.329Z"
      },
      {
        "duration": 96,
        "start_time": "2021-10-12T19:11:26.343Z"
      },
      {
        "duration": 7,
        "start_time": "2021-10-12T19:11:26.441Z"
      },
      {
        "duration": 34,
        "start_time": "2021-10-12T19:11:26.451Z"
      },
      {
        "duration": 38,
        "start_time": "2021-10-12T19:11:26.487Z"
      },
      {
        "duration": 6,
        "start_time": "2021-10-12T19:11:26.528Z"
      },
      {
        "duration": 97,
        "start_time": "2021-10-12T19:11:26.536Z"
      },
      {
        "duration": 85,
        "start_time": "2021-10-12T19:11:26.643Z"
      },
      {
        "duration": 10,
        "start_time": "2021-10-12T19:11:26.731Z"
      },
      {
        "duration": 440,
        "start_time": "2021-10-12T19:11:26.743Z"
      },
      {
        "duration": 55,
        "start_time": "2021-10-12T19:11:27.186Z"
      },
      {
        "duration": 36,
        "start_time": "2021-10-12T19:11:27.244Z"
      },
      {
        "duration": 6,
        "start_time": "2021-10-12T19:11:27.283Z"
      },
      {
        "duration": 44,
        "start_time": "2021-10-12T19:11:27.292Z"
      },
      {
        "duration": 5,
        "start_time": "2021-10-12T19:20:47.554Z"
      },
      {
        "duration": 4,
        "start_time": "2021-10-12T19:20:47.573Z"
      },
      {
        "duration": 136,
        "start_time": "2021-10-12T19:20:47.607Z"
      },
      {
        "duration": 12,
        "start_time": "2021-10-12T19:20:47.746Z"
      },
      {
        "duration": 7,
        "start_time": "2021-10-12T19:20:47.761Z"
      },
      {
        "duration": 11,
        "start_time": "2021-10-12T19:20:47.771Z"
      },
      {
        "duration": 43,
        "start_time": "2021-10-12T19:20:47.784Z"
      },
      {
        "duration": 22,
        "start_time": "2021-10-12T19:20:47.831Z"
      },
      {
        "duration": 479,
        "start_time": "2021-10-12T19:20:47.857Z"
      },
      {
        "duration": 1436,
        "start_time": "2021-10-12T19:20:48.338Z"
      },
      {
        "duration": 418,
        "start_time": "2021-10-12T19:20:49.778Z"
      },
      {
        "duration": 253,
        "start_time": "2021-10-12T19:20:50.199Z"
      },
      {
        "duration": 19,
        "start_time": "2021-10-12T19:20:50.454Z"
      },
      {
        "duration": 17,
        "start_time": "2021-10-12T19:20:50.475Z"
      },
      {
        "duration": 32,
        "start_time": "2021-10-12T19:20:50.495Z"
      },
      {
        "duration": 24,
        "start_time": "2021-10-12T19:20:50.530Z"
      },
      {
        "duration": 4,
        "start_time": "2021-10-12T19:20:50.557Z"
      },
      {
        "duration": 12,
        "start_time": "2021-10-12T19:20:50.564Z"
      },
      {
        "duration": 17,
        "start_time": "2021-10-12T19:20:50.578Z"
      },
      {
        "duration": 22,
        "start_time": "2021-10-12T19:20:50.597Z"
      },
      {
        "duration": 47,
        "start_time": "2021-10-12T19:20:50.626Z"
      },
      {
        "duration": 3,
        "start_time": "2021-10-12T19:20:50.676Z"
      },
      {
        "duration": 14,
        "start_time": "2021-10-12T19:20:50.681Z"
      },
      {
        "duration": 6,
        "start_time": "2021-10-12T19:20:50.697Z"
      },
      {
        "duration": 185,
        "start_time": "2021-10-12T19:20:50.705Z"
      },
      {
        "duration": 6825,
        "start_time": "2021-10-12T19:20:50.893Z"
      },
      {
        "duration": 5328,
        "start_time": "2021-10-12T19:20:57.725Z"
      },
      {
        "duration": 167,
        "start_time": "2021-10-12T19:21:03.055Z"
      },
      {
        "duration": 8,
        "start_time": "2021-10-12T19:21:03.237Z"
      },
      {
        "duration": 12,
        "start_time": "2021-10-12T19:21:03.248Z"
      },
      {
        "duration": 10,
        "start_time": "2021-10-12T19:21:03.263Z"
      },
      {
        "duration": 50,
        "start_time": "2021-10-12T19:21:03.275Z"
      },
      {
        "duration": 11,
        "start_time": "2021-10-12T19:21:03.331Z"
      },
      {
        "duration": 12,
        "start_time": "2021-10-12T19:21:03.345Z"
      },
      {
        "duration": 65,
        "start_time": "2021-10-12T19:21:03.359Z"
      },
      {
        "duration": 101,
        "start_time": "2021-10-12T19:21:03.429Z"
      },
      {
        "duration": 5,
        "start_time": "2021-10-12T19:21:03.536Z"
      },
      {
        "duration": 428,
        "start_time": "2021-10-12T19:21:03.544Z"
      },
      {
        "duration": 6,
        "start_time": "2021-10-12T19:21:03.975Z"
      },
      {
        "duration": 22,
        "start_time": "2021-10-12T19:21:03.984Z"
      },
      {
        "duration": 29,
        "start_time": "2021-10-12T19:21:04.008Z"
      },
      {
        "duration": 27,
        "start_time": "2021-10-12T19:21:04.039Z"
      },
      {
        "duration": 25,
        "start_time": "2021-10-12T19:21:04.068Z"
      },
      {
        "duration": 25,
        "start_time": "2021-10-12T19:21:04.095Z"
      },
      {
        "duration": 741,
        "start_time": "2021-10-12T19:21:04.124Z"
      },
      {
        "duration": 9709,
        "start_time": "2021-10-12T19:21:04.867Z"
      },
      {
        "duration": 15655,
        "start_time": "2021-10-12T19:21:14.579Z"
      },
      {
        "duration": 557,
        "start_time": "2021-10-12T19:21:30.236Z"
      },
      {
        "duration": 50,
        "start_time": "2021-10-12T19:21:30.795Z"
      },
      {
        "duration": 198,
        "start_time": "2021-10-12T19:21:30.848Z"
      },
      {
        "duration": 12,
        "start_time": "2021-10-12T19:21:31.122Z"
      },
      {
        "duration": 8,
        "start_time": "2021-10-12T19:21:31.224Z"
      },
      {
        "duration": 25,
        "start_time": "2021-10-12T19:21:31.236Z"
      },
      {
        "duration": 48,
        "start_time": "2021-10-12T19:21:31.264Z"
      },
      {
        "duration": 12,
        "start_time": "2021-10-12T19:21:31.314Z"
      },
      {
        "duration": 15,
        "start_time": "2021-10-12T19:21:31.329Z"
      },
      {
        "duration": 26,
        "start_time": "2021-10-12T19:21:31.346Z"
      },
      {
        "duration": 91,
        "start_time": "2021-10-12T19:21:31.432Z"
      },
      {
        "duration": 7,
        "start_time": "2021-10-12T19:21:31.526Z"
      },
      {
        "duration": 427,
        "start_time": "2021-10-12T19:21:31.536Z"
      },
      {
        "duration": 33,
        "start_time": "2021-10-12T19:21:31.965Z"
      },
      {
        "duration": 53,
        "start_time": "2021-10-12T19:21:32.000Z"
      },
      {
        "duration": 6,
        "start_time": "2021-10-12T19:21:32.056Z"
      },
      {
        "duration": 19,
        "start_time": "2021-10-12T19:21:32.064Z"
      },
      {
        "duration": 6,
        "start_time": "2021-10-12T19:38:07.756Z"
      },
      {
        "duration": 4,
        "start_time": "2021-10-12T19:38:07.776Z"
      },
      {
        "duration": 123,
        "start_time": "2021-10-12T19:38:07.782Z"
      },
      {
        "duration": 11,
        "start_time": "2021-10-12T19:38:07.908Z"
      },
      {
        "duration": 12,
        "start_time": "2021-10-12T19:38:07.922Z"
      },
      {
        "duration": 10,
        "start_time": "2021-10-12T19:38:07.938Z"
      },
      {
        "duration": 16,
        "start_time": "2021-10-12T19:38:07.951Z"
      },
      {
        "duration": 16,
        "start_time": "2021-10-12T19:38:07.970Z"
      },
      {
        "duration": 349,
        "start_time": "2021-10-12T19:38:08.025Z"
      },
      {
        "duration": 1351,
        "start_time": "2021-10-12T19:38:08.377Z"
      },
      {
        "duration": 502,
        "start_time": "2021-10-12T19:38:09.732Z"
      },
      {
        "duration": 256,
        "start_time": "2021-10-12T19:38:10.237Z"
      },
      {
        "duration": 35,
        "start_time": "2021-10-12T19:38:10.495Z"
      },
      {
        "duration": 20,
        "start_time": "2021-10-12T19:38:10.534Z"
      },
      {
        "duration": 13,
        "start_time": "2021-10-12T19:38:10.556Z"
      },
      {
        "duration": 11,
        "start_time": "2021-10-12T19:38:10.572Z"
      },
      {
        "duration": 12,
        "start_time": "2021-10-12T19:38:10.586Z"
      },
      {
        "duration": 17,
        "start_time": "2021-10-12T19:38:10.600Z"
      },
      {
        "duration": 20,
        "start_time": "2021-10-12T19:38:10.619Z"
      },
      {
        "duration": 30,
        "start_time": "2021-10-12T19:38:10.642Z"
      },
      {
        "duration": 45,
        "start_time": "2021-10-12T19:38:10.674Z"
      },
      {
        "duration": 4,
        "start_time": "2021-10-12T19:38:10.726Z"
      },
      {
        "duration": 12,
        "start_time": "2021-10-12T19:38:10.733Z"
      },
      {
        "duration": 8,
        "start_time": "2021-10-12T19:38:10.751Z"
      },
      {
        "duration": 192,
        "start_time": "2021-10-12T19:38:10.762Z"
      },
      {
        "duration": 6791,
        "start_time": "2021-10-12T19:38:10.957Z"
      },
      {
        "duration": 5212,
        "start_time": "2021-10-12T19:38:17.751Z"
      },
      {
        "duration": 65,
        "start_time": "2021-10-12T19:38:22.965Z"
      },
      {
        "duration": 95,
        "start_time": "2021-10-12T19:38:23.039Z"
      },
      {
        "duration": 7,
        "start_time": "2021-10-12T19:38:23.138Z"
      },
      {
        "duration": 22,
        "start_time": "2021-10-12T19:38:23.147Z"
      },
      {
        "duration": 52,
        "start_time": "2021-10-12T19:38:23.171Z"
      },
      {
        "duration": 9,
        "start_time": "2021-10-12T19:38:23.228Z"
      },
      {
        "duration": 10,
        "start_time": "2021-10-12T19:38:23.240Z"
      },
      {
        "duration": 14,
        "start_time": "2021-10-12T19:38:23.252Z"
      },
      {
        "duration": 110,
        "start_time": "2021-10-12T19:38:23.323Z"
      },
      {
        "duration": 5,
        "start_time": "2021-10-12T19:38:23.437Z"
      },
      {
        "duration": 433,
        "start_time": "2021-10-12T19:38:23.444Z"
      },
      {
        "duration": 6,
        "start_time": "2021-10-12T19:38:23.879Z"
      },
      {
        "duration": 24,
        "start_time": "2021-10-12T19:38:23.887Z"
      },
      {
        "duration": 12,
        "start_time": "2021-10-12T19:38:23.921Z"
      },
      {
        "duration": 6,
        "start_time": "2021-10-12T19:38:23.939Z"
      },
      {
        "duration": 17,
        "start_time": "2021-10-12T19:38:23.947Z"
      },
      {
        "duration": 23,
        "start_time": "2021-10-12T19:38:23.966Z"
      },
      {
        "duration": 731,
        "start_time": "2021-10-12T19:38:23.991Z"
      },
      {
        "duration": 10058,
        "start_time": "2021-10-12T19:38:24.726Z"
      },
      {
        "duration": 15796,
        "start_time": "2021-10-12T19:38:34.786Z"
      },
      {
        "duration": 632,
        "start_time": "2021-10-12T19:38:50.584Z"
      },
      {
        "duration": 203,
        "start_time": "2021-10-12T19:38:51.219Z"
      },
      {
        "duration": 102,
        "start_time": "2021-10-12T19:38:51.428Z"
      },
      {
        "duration": 10,
        "start_time": "2021-10-12T19:38:51.534Z"
      },
      {
        "duration": 54,
        "start_time": "2021-10-12T19:38:51.624Z"
      },
      {
        "duration": 50,
        "start_time": "2021-10-12T19:38:51.680Z"
      },
      {
        "duration": 57,
        "start_time": "2021-10-12T19:38:51.734Z"
      },
      {
        "duration": 17,
        "start_time": "2021-10-12T19:38:51.793Z"
      },
      {
        "duration": 37,
        "start_time": "2021-10-12T19:38:51.812Z"
      },
      {
        "duration": 37,
        "start_time": "2021-10-12T19:38:51.852Z"
      },
      {
        "duration": 45,
        "start_time": "2021-10-12T19:38:51.893Z"
      },
      {
        "duration": 87,
        "start_time": "2021-10-12T19:38:51.943Z"
      },
      {
        "duration": 436,
        "start_time": "2021-10-12T19:38:52.039Z"
      },
      {
        "duration": 46,
        "start_time": "2021-10-12T19:38:52.477Z"
      },
      {
        "duration": 40,
        "start_time": "2021-10-12T19:38:52.527Z"
      },
      {
        "duration": 6,
        "start_time": "2021-10-12T19:38:52.569Z"
      },
      {
        "duration": 36,
        "start_time": "2021-10-12T19:38:52.577Z"
      },
      {
        "duration": 6127,
        "start_time": "2021-10-12T19:55:11.321Z"
      },
      {
        "duration": 5,
        "start_time": "2021-10-12T19:56:38.245Z"
      },
      {
        "duration": 5,
        "start_time": "2021-10-12T19:56:38.260Z"
      },
      {
        "duration": 123,
        "start_time": "2021-10-12T19:56:38.267Z"
      },
      {
        "duration": 10,
        "start_time": "2021-10-12T19:56:38.393Z"
      },
      {
        "duration": 21,
        "start_time": "2021-10-12T19:56:38.406Z"
      },
      {
        "duration": 8,
        "start_time": "2021-10-12T19:56:38.431Z"
      },
      {
        "duration": 14,
        "start_time": "2021-10-12T19:56:38.442Z"
      },
      {
        "duration": 63,
        "start_time": "2021-10-12T19:56:38.459Z"
      },
      {
        "duration": 345,
        "start_time": "2021-10-12T19:56:38.525Z"
      },
      {
        "duration": 1425,
        "start_time": "2021-10-12T19:56:38.873Z"
      },
      {
        "duration": 429,
        "start_time": "2021-10-12T19:56:40.301Z"
      },
      {
        "duration": 504,
        "start_time": "2021-10-12T19:56:40.733Z"
      },
      {
        "duration": 23,
        "start_time": "2021-10-12T19:56:41.240Z"
      },
      {
        "duration": 18,
        "start_time": "2021-10-12T19:56:41.266Z"
      },
      {
        "duration": 10,
        "start_time": "2021-10-12T19:56:41.322Z"
      },
      {
        "duration": 7,
        "start_time": "2021-10-12T19:56:41.336Z"
      },
      {
        "duration": 3,
        "start_time": "2021-10-12T19:56:41.346Z"
      },
      {
        "duration": 9,
        "start_time": "2021-10-12T19:56:41.351Z"
      },
      {
        "duration": 9,
        "start_time": "2021-10-12T19:56:41.362Z"
      },
      {
        "duration": 57,
        "start_time": "2021-10-12T19:56:41.374Z"
      },
      {
        "duration": 236,
        "start_time": "2021-10-12T19:56:41.435Z"
      },
      {
        "duration": 2,
        "start_time": "2021-10-12T19:56:41.673Z"
      },
      {
        "duration": 24,
        "start_time": "2021-10-12T19:56:41.677Z"
      },
      {
        "duration": 10,
        "start_time": "2021-10-12T19:56:41.703Z"
      },
      {
        "duration": 188,
        "start_time": "2021-10-12T19:56:41.716Z"
      },
      {
        "duration": 6883,
        "start_time": "2021-10-12T19:56:41.906Z"
      },
      {
        "duration": 6085,
        "start_time": "2021-10-12T19:56:48.792Z"
      },
      {
        "duration": 58,
        "start_time": "2021-10-12T19:56:54.882Z"
      },
      {
        "duration": 92,
        "start_time": "2021-10-12T19:56:54.944Z"
      },
      {
        "duration": 90,
        "start_time": "2021-10-12T19:56:55.039Z"
      },
      {
        "duration": 6,
        "start_time": "2021-10-12T19:56:55.136Z"
      },
      {
        "duration": 38,
        "start_time": "2021-10-12T19:56:55.145Z"
      },
      {
        "duration": 5,
        "start_time": "2021-10-12T19:56:55.186Z"
      },
      {
        "duration": 13,
        "start_time": "2021-10-12T19:56:55.194Z"
      },
      {
        "duration": 33,
        "start_time": "2021-10-12T19:56:55.209Z"
      },
      {
        "duration": 92,
        "start_time": "2021-10-12T19:56:55.246Z"
      },
      {
        "duration": 97,
        "start_time": "2021-10-12T19:56:55.343Z"
      },
      {
        "duration": 423,
        "start_time": "2021-10-12T19:56:55.442Z"
      },
      {
        "duration": 6,
        "start_time": "2021-10-12T19:56:55.867Z"
      },
      {
        "duration": 16,
        "start_time": "2021-10-12T19:56:55.875Z"
      },
      {
        "duration": 5,
        "start_time": "2021-10-12T19:56:55.893Z"
      },
      {
        "duration": 30,
        "start_time": "2021-10-12T19:56:55.900Z"
      },
      {
        "duration": 10,
        "start_time": "2021-10-12T19:56:55.933Z"
      },
      {
        "duration": 25,
        "start_time": "2021-10-12T19:56:55.946Z"
      },
      {
        "duration": 768,
        "start_time": "2021-10-12T19:56:55.973Z"
      },
      {
        "duration": 9767,
        "start_time": "2021-10-12T19:56:56.744Z"
      },
      {
        "duration": 15385,
        "start_time": "2021-10-12T19:57:06.514Z"
      },
      {
        "duration": 578,
        "start_time": "2021-10-12T19:57:21.901Z"
      },
      {
        "duration": 50,
        "start_time": "2021-10-12T19:57:22.481Z"
      },
      {
        "duration": 220,
        "start_time": "2021-10-12T19:57:22.533Z"
      },
      {
        "duration": 75,
        "start_time": "2021-10-12T19:57:22.756Z"
      },
      {
        "duration": 94,
        "start_time": "2021-10-12T19:57:22.839Z"
      },
      {
        "duration": 29,
        "start_time": "2021-10-12T19:57:22.936Z"
      },
      {
        "duration": 41,
        "start_time": "2021-10-12T19:57:22.967Z"
      },
      {
        "duration": 6,
        "start_time": "2021-10-12T19:57:23.011Z"
      },
      {
        "duration": 17,
        "start_time": "2021-10-12T19:57:23.019Z"
      },
      {
        "duration": 9,
        "start_time": "2021-10-12T19:57:23.039Z"
      },
      {
        "duration": 77,
        "start_time": "2021-10-12T19:57:23.051Z"
      },
      {
        "duration": 92,
        "start_time": "2021-10-12T19:57:23.133Z"
      },
      {
        "duration": 442,
        "start_time": "2021-10-12T19:57:23.230Z"
      },
      {
        "duration": 51,
        "start_time": "2021-10-12T19:57:23.675Z"
      },
      {
        "duration": 37,
        "start_time": "2021-10-12T19:57:23.729Z"
      },
      {
        "duration": 5,
        "start_time": "2021-10-12T19:57:23.768Z"
      },
      {
        "duration": 15,
        "start_time": "2021-10-12T19:57:23.775Z"
      },
      {
        "duration": 7,
        "start_time": "2021-10-12T20:06:16.316Z"
      },
      {
        "duration": 12,
        "start_time": "2021-10-12T20:06:18.632Z"
      },
      {
        "duration": 6,
        "start_time": "2021-10-12T20:08:21.964Z"
      },
      {
        "duration": 4,
        "start_time": "2021-10-12T20:08:21.982Z"
      },
      {
        "duration": 123,
        "start_time": "2021-10-12T20:08:21.988Z"
      },
      {
        "duration": 15,
        "start_time": "2021-10-12T20:08:22.114Z"
      },
      {
        "duration": 8,
        "start_time": "2021-10-12T20:08:22.133Z"
      },
      {
        "duration": 10,
        "start_time": "2021-10-12T20:08:22.143Z"
      },
      {
        "duration": 13,
        "start_time": "2021-10-12T20:08:22.155Z"
      },
      {
        "duration": 63,
        "start_time": "2021-10-12T20:08:22.170Z"
      },
      {
        "duration": 353,
        "start_time": "2021-10-12T20:08:22.238Z"
      },
      {
        "duration": 1487,
        "start_time": "2021-10-12T20:08:22.596Z"
      },
      {
        "duration": 432,
        "start_time": "2021-10-12T20:08:24.086Z"
      },
      {
        "duration": 263,
        "start_time": "2021-10-12T20:08:24.522Z"
      },
      {
        "duration": 40,
        "start_time": "2021-10-12T20:08:24.788Z"
      },
      {
        "duration": 27,
        "start_time": "2021-10-12T20:08:24.835Z"
      },
      {
        "duration": 4,
        "start_time": "2021-10-12T20:08:24.864Z"
      },
      {
        "duration": 17,
        "start_time": "2021-10-12T20:08:24.871Z"
      },
      {
        "duration": 5,
        "start_time": "2021-10-12T20:08:24.892Z"
      },
      {
        "duration": 6,
        "start_time": "2021-10-12T20:08:24.928Z"
      },
      {
        "duration": 8,
        "start_time": "2021-10-12T20:08:24.938Z"
      },
      {
        "duration": 18,
        "start_time": "2021-10-12T20:08:24.949Z"
      },
      {
        "duration": 77,
        "start_time": "2021-10-12T20:08:24.970Z"
      },
      {
        "duration": 4,
        "start_time": "2021-10-12T20:08:25.050Z"
      },
      {
        "duration": 6,
        "start_time": "2021-10-12T20:08:25.057Z"
      },
      {
        "duration": 7,
        "start_time": "2021-10-12T20:08:25.066Z"
      },
      {
        "duration": 210,
        "start_time": "2021-10-12T20:08:25.075Z"
      },
      {
        "duration": 7106,
        "start_time": "2021-10-12T20:08:25.288Z"
      },
      {
        "duration": 6203,
        "start_time": "2021-10-12T20:08:32.396Z"
      },
      {
        "duration": 46,
        "start_time": "2021-10-12T20:08:38.605Z"
      },
      {
        "duration": 73,
        "start_time": "2021-10-12T20:08:38.655Z"
      },
      {
        "duration": 98,
        "start_time": "2021-10-12T20:08:38.732Z"
      },
      {
        "duration": 20,
        "start_time": "2021-10-12T20:08:38.833Z"
      },
      {
        "duration": 38,
        "start_time": "2021-10-12T20:08:38.855Z"
      },
      {
        "duration": 6,
        "start_time": "2021-10-12T20:08:38.895Z"
      },
      {
        "duration": 24,
        "start_time": "2021-10-12T20:08:38.903Z"
      },
      {
        "duration": 13,
        "start_time": "2021-10-12T20:08:38.930Z"
      },
      {
        "duration": 95,
        "start_time": "2021-10-12T20:08:38.946Z"
      },
      {
        "duration": 7,
        "start_time": "2021-10-12T20:08:39.123Z"
      },
      {
        "duration": 498,
        "start_time": "2021-10-12T20:08:39.133Z"
      },
      {
        "duration": 7,
        "start_time": "2021-10-12T20:08:39.634Z"
      },
      {
        "duration": 21,
        "start_time": "2021-10-12T20:08:39.643Z"
      },
      {
        "duration": 9,
        "start_time": "2021-10-12T20:08:39.667Z"
      },
      {
        "duration": 16,
        "start_time": "2021-10-12T20:08:39.678Z"
      },
      {
        "duration": 12,
        "start_time": "2021-10-12T20:08:39.697Z"
      },
      {
        "duration": 24,
        "start_time": "2021-10-12T20:08:39.712Z"
      },
      {
        "duration": 889,
        "start_time": "2021-10-12T20:08:39.740Z"
      },
      {
        "duration": 10123,
        "start_time": "2021-10-12T20:08:40.632Z"
      },
      {
        "duration": 15551,
        "start_time": "2021-10-12T20:08:50.758Z"
      },
      {
        "duration": 567,
        "start_time": "2021-10-12T20:09:06.312Z"
      },
      {
        "duration": 140,
        "start_time": "2021-10-12T20:09:06.882Z"
      },
      {
        "duration": 203,
        "start_time": "2021-10-12T20:09:07.026Z"
      },
      {
        "duration": 91,
        "start_time": "2021-10-12T20:09:07.241Z"
      },
      {
        "duration": 8,
        "start_time": "2021-10-12T20:09:07.338Z"
      },
      {
        "duration": 5,
        "start_time": "2021-10-12T20:09:07.348Z"
      },
      {
        "duration": 68,
        "start_time": "2021-10-12T20:09:07.356Z"
      },
      {
        "duration": 13,
        "start_time": "2021-10-12T20:09:07.427Z"
      },
      {
        "duration": 6,
        "start_time": "2021-10-12T20:09:07.443Z"
      },
      {
        "duration": 74,
        "start_time": "2021-10-12T20:09:07.451Z"
      },
      {
        "duration": 97,
        "start_time": "2021-10-12T20:09:07.532Z"
      },
      {
        "duration": 9,
        "start_time": "2021-10-12T20:09:07.633Z"
      },
      {
        "duration": 536,
        "start_time": "2021-10-12T20:09:07.645Z"
      },
      {
        "duration": 50,
        "start_time": "2021-10-12T20:09:08.184Z"
      },
      {
        "duration": 34,
        "start_time": "2021-10-12T20:09:08.240Z"
      },
      {
        "duration": 6,
        "start_time": "2021-10-12T20:09:08.276Z"
      },
      {
        "duration": 42,
        "start_time": "2021-10-12T20:09:08.285Z"
      },
      {
        "duration": 5,
        "start_time": "2021-10-12T20:16:04.816Z"
      },
      {
        "duration": 6,
        "start_time": "2021-10-12T20:16:04.833Z"
      },
      {
        "duration": 259,
        "start_time": "2021-10-12T20:16:04.842Z"
      },
      {
        "duration": 11,
        "start_time": "2021-10-12T20:16:05.104Z"
      },
      {
        "duration": 31,
        "start_time": "2021-10-12T20:16:05.117Z"
      },
      {
        "duration": 32,
        "start_time": "2021-10-12T20:16:05.150Z"
      },
      {
        "duration": 16,
        "start_time": "2021-10-12T20:16:05.185Z"
      },
      {
        "duration": 17,
        "start_time": "2021-10-12T20:16:05.203Z"
      },
      {
        "duration": 430,
        "start_time": "2021-10-12T20:16:05.222Z"
      },
      {
        "duration": 1345,
        "start_time": "2021-10-12T20:16:05.656Z"
      },
      {
        "duration": 418,
        "start_time": "2021-10-12T20:16:07.004Z"
      },
      {
        "duration": 270,
        "start_time": "2021-10-12T20:16:07.426Z"
      },
      {
        "duration": 35,
        "start_time": "2021-10-12T20:16:07.699Z"
      },
      {
        "duration": 19,
        "start_time": "2021-10-12T20:16:07.739Z"
      },
      {
        "duration": 29,
        "start_time": "2021-10-12T20:16:07.760Z"
      },
      {
        "duration": 26,
        "start_time": "2021-10-12T20:16:07.791Z"
      },
      {
        "duration": 17,
        "start_time": "2021-10-12T20:16:07.820Z"
      },
      {
        "duration": 24,
        "start_time": "2021-10-12T20:16:07.840Z"
      },
      {
        "duration": 24,
        "start_time": "2021-10-12T20:16:07.866Z"
      },
      {
        "duration": 48,
        "start_time": "2021-10-12T20:16:07.893Z"
      },
      {
        "duration": 49,
        "start_time": "2021-10-12T20:16:07.944Z"
      },
      {
        "duration": 2,
        "start_time": "2021-10-12T20:16:07.995Z"
      },
      {
        "duration": 15,
        "start_time": "2021-10-12T20:16:08.000Z"
      },
      {
        "duration": 28,
        "start_time": "2021-10-12T20:16:08.017Z"
      },
      {
        "duration": 176,
        "start_time": "2021-10-12T20:16:08.048Z"
      },
      {
        "duration": 7054,
        "start_time": "2021-10-12T20:16:08.227Z"
      },
      {
        "duration": 6067,
        "start_time": "2021-10-12T20:16:15.283Z"
      },
      {
        "duration": 77,
        "start_time": "2021-10-12T20:16:21.356Z"
      },
      {
        "duration": 93,
        "start_time": "2021-10-12T20:16:21.437Z"
      },
      {
        "duration": 7,
        "start_time": "2021-10-12T20:16:21.536Z"
      },
      {
        "duration": 8,
        "start_time": "2021-10-12T20:16:21.545Z"
      },
      {
        "duration": 32,
        "start_time": "2021-10-12T20:16:21.556Z"
      },
      {
        "duration": 37,
        "start_time": "2021-10-12T20:16:21.591Z"
      },
      {
        "duration": 6,
        "start_time": "2021-10-12T20:16:21.632Z"
      },
      {
        "duration": 11,
        "start_time": "2021-10-12T20:16:21.641Z"
      },
      {
        "duration": 16,
        "start_time": "2021-10-12T20:16:21.725Z"
      },
      {
        "duration": 93,
        "start_time": "2021-10-12T20:16:21.745Z"
      },
      {
        "duration": 437,
        "start_time": "2021-10-12T20:16:21.841Z"
      },
      {
        "duration": 6,
        "start_time": "2021-10-12T20:16:22.280Z"
      },
      {
        "duration": 34,
        "start_time": "2021-10-12T20:16:22.288Z"
      },
      {
        "duration": 8,
        "start_time": "2021-10-12T20:16:22.325Z"
      },
      {
        "duration": 6,
        "start_time": "2021-10-12T20:16:22.337Z"
      },
      {
        "duration": 8,
        "start_time": "2021-10-12T20:16:22.346Z"
      },
      {
        "duration": 20,
        "start_time": "2021-10-12T20:16:22.356Z"
      },
      {
        "duration": 760,
        "start_time": "2021-10-12T20:16:22.379Z"
      },
      {
        "duration": 9751,
        "start_time": "2021-10-12T20:16:23.142Z"
      },
      {
        "duration": 16217,
        "start_time": "2021-10-12T20:16:32.895Z"
      },
      {
        "duration": 568,
        "start_time": "2021-10-12T20:16:49.115Z"
      },
      {
        "duration": 50,
        "start_time": "2021-10-12T20:16:49.686Z"
      },
      {
        "duration": 203,
        "start_time": "2021-10-12T20:16:49.822Z"
      },
      {
        "duration": 95,
        "start_time": "2021-10-12T20:16:50.028Z"
      },
      {
        "duration": 14,
        "start_time": "2021-10-12T20:16:50.127Z"
      },
      {
        "duration": 7,
        "start_time": "2021-10-12T20:16:50.144Z"
      },
      {
        "duration": 31,
        "start_time": "2021-10-12T20:16:50.154Z"
      },
      {
        "duration": 36,
        "start_time": "2021-10-12T20:16:50.187Z"
      },
      {
        "duration": 8,
        "start_time": "2021-10-12T20:16:50.226Z"
      },
      {
        "duration": 10,
        "start_time": "2021-10-12T20:16:50.238Z"
      },
      {
        "duration": 12,
        "start_time": "2021-10-12T20:16:50.326Z"
      },
      {
        "duration": 88,
        "start_time": "2021-10-12T20:16:50.341Z"
      },
      {
        "duration": 438,
        "start_time": "2021-10-12T20:16:50.431Z"
      },
      {
        "duration": 51,
        "start_time": "2021-10-12T20:16:50.872Z"
      },
      {
        "duration": 41,
        "start_time": "2021-10-12T20:16:50.929Z"
      },
      {
        "duration": 5,
        "start_time": "2021-10-12T20:16:50.972Z"
      },
      {
        "duration": 40,
        "start_time": "2021-10-12T20:16:50.980Z"
      },
      {
        "duration": 5,
        "start_time": "2021-10-12T20:45:56.092Z"
      },
      {
        "duration": 8,
        "start_time": "2021-10-12T20:45:56.109Z"
      },
      {
        "duration": 125,
        "start_time": "2021-10-12T20:45:56.120Z"
      },
      {
        "duration": 11,
        "start_time": "2021-10-12T20:45:56.248Z"
      },
      {
        "duration": 6,
        "start_time": "2021-10-12T20:45:56.263Z"
      },
      {
        "duration": 8,
        "start_time": "2021-10-12T20:45:56.272Z"
      },
      {
        "duration": 44,
        "start_time": "2021-10-12T20:45:56.282Z"
      },
      {
        "duration": 19,
        "start_time": "2021-10-12T20:45:56.328Z"
      },
      {
        "duration": 372,
        "start_time": "2021-10-12T20:45:56.350Z"
      },
      {
        "duration": 1303,
        "start_time": "2021-10-12T20:45:56.728Z"
      },
      {
        "duration": 513,
        "start_time": "2021-10-12T20:45:58.034Z"
      },
      {
        "duration": 236,
        "start_time": "2021-10-12T20:45:58.550Z"
      },
      {
        "duration": 19,
        "start_time": "2021-10-12T20:45:58.788Z"
      },
      {
        "duration": 18,
        "start_time": "2021-10-12T20:45:58.822Z"
      },
      {
        "duration": 4,
        "start_time": "2021-10-12T20:45:58.843Z"
      },
      {
        "duration": 13,
        "start_time": "2021-10-12T20:45:58.849Z"
      },
      {
        "duration": 10,
        "start_time": "2021-10-12T20:45:58.864Z"
      },
      {
        "duration": 17,
        "start_time": "2021-10-12T20:45:58.877Z"
      },
      {
        "duration": 8,
        "start_time": "2021-10-12T20:45:58.897Z"
      },
      {
        "duration": 15,
        "start_time": "2021-10-12T20:45:58.922Z"
      },
      {
        "duration": 40,
        "start_time": "2021-10-12T20:45:58.939Z"
      },
      {
        "duration": 2,
        "start_time": "2021-10-12T20:45:58.982Z"
      },
      {
        "duration": 35,
        "start_time": "2021-10-12T20:45:58.987Z"
      },
      {
        "duration": 4,
        "start_time": "2021-10-12T20:45:59.025Z"
      },
      {
        "duration": 174,
        "start_time": "2021-10-12T20:45:59.031Z"
      },
      {
        "duration": 6969,
        "start_time": "2021-10-12T20:45:59.208Z"
      },
      {
        "duration": 5722,
        "start_time": "2021-10-12T20:46:06.180Z"
      },
      {
        "duration": 114,
        "start_time": "2021-10-12T20:46:11.908Z"
      },
      {
        "duration": 98,
        "start_time": "2021-10-12T20:46:12.028Z"
      },
      {
        "duration": 7,
        "start_time": "2021-10-12T20:46:12.129Z"
      },
      {
        "duration": 9,
        "start_time": "2021-10-12T20:46:12.138Z"
      },
      {
        "duration": 42,
        "start_time": "2021-10-12T20:46:12.150Z"
      },
      {
        "duration": 33,
        "start_time": "2021-10-12T20:46:12.194Z"
      },
      {
        "duration": 11,
        "start_time": "2021-10-12T20:46:12.229Z"
      },
      {
        "duration": 14,
        "start_time": "2021-10-12T20:46:12.243Z"
      },
      {
        "duration": 99,
        "start_time": "2021-10-12T20:46:12.324Z"
      },
      {
        "duration": 6,
        "start_time": "2021-10-12T20:46:12.425Z"
      },
      {
        "duration": 424,
        "start_time": "2021-10-12T20:46:12.433Z"
      },
      {
        "duration": 5,
        "start_time": "2021-10-12T20:46:12.859Z"
      },
      {
        "duration": 22,
        "start_time": "2021-10-12T20:46:12.866Z"
      },
      {
        "duration": 6,
        "start_time": "2021-10-12T20:46:12.890Z"
      },
      {
        "duration": 23,
        "start_time": "2021-10-12T20:46:12.899Z"
      },
      {
        "duration": 10,
        "start_time": "2021-10-12T20:46:12.924Z"
      },
      {
        "duration": 27,
        "start_time": "2021-10-12T20:46:12.936Z"
      },
      {
        "duration": 682,
        "start_time": "2021-10-12T20:46:12.965Z"
      },
      {
        "duration": 10131,
        "start_time": "2021-10-12T20:46:13.649Z"
      },
      {
        "duration": 15026,
        "start_time": "2021-10-12T20:46:23.783Z"
      },
      {
        "duration": 551,
        "start_time": "2021-10-12T20:46:38.812Z"
      },
      {
        "duration": 57,
        "start_time": "2021-10-12T20:46:39.365Z"
      },
      {
        "duration": 201,
        "start_time": "2021-10-12T20:46:39.424Z"
      },
      {
        "duration": 95,
        "start_time": "2021-10-12T20:46:39.628Z"
      },
      {
        "duration": 7,
        "start_time": "2021-10-12T20:46:39.726Z"
      },
      {
        "duration": 7,
        "start_time": "2021-10-12T20:46:39.735Z"
      },
      {
        "duration": 31,
        "start_time": "2021-10-12T20:46:39.744Z"
      },
      {
        "duration": 6,
        "start_time": "2021-10-12T20:46:39.777Z"
      },
      {
        "duration": 42,
        "start_time": "2021-10-12T20:46:39.785Z"
      },
      {
        "duration": 12,
        "start_time": "2021-10-12T20:46:39.830Z"
      },
      {
        "duration": 82,
        "start_time": "2021-10-12T20:46:39.846Z"
      },
      {
        "duration": 92,
        "start_time": "2021-10-12T20:46:39.932Z"
      },
      {
        "duration": 445,
        "start_time": "2021-10-12T20:46:40.027Z"
      },
      {
        "duration": 34,
        "start_time": "2021-10-12T20:46:40.474Z"
      },
      {
        "duration": 54,
        "start_time": "2021-10-12T20:46:40.511Z"
      },
      {
        "duration": 17,
        "start_time": "2021-10-12T20:46:40.567Z"
      },
      {
        "duration": 35,
        "start_time": "2021-10-12T20:46:40.586Z"
      }
    ],
    "colab": {
      "name": "Analysis_churn.ipynb",
      "provenance": [],
      "collapsed_sections": [],
      "include_colab_link": true
    },
    "kernelspec": {
      "display_name": "Python 3",
      "language": "python",
      "name": "python3"
    },
    "language_info": {
      "codemirror_mode": {
        "name": "ipython",
        "version": 3
      },
      "file_extension": ".py",
      "mimetype": "text/x-python",
      "name": "python",
      "nbconvert_exporter": "python",
      "pygments_lexer": "ipython3",
      "version": "3.7.8"
    },
    "toc": {
      "base_numbering": 1,
      "nav_menu": {},
      "number_sections": true,
      "sideBar": true,
      "skip_h1_title": true,
      "title_cell": "Table of Contents",
      "title_sidebar": "Contents",
      "toc_cell": false,
      "toc_position": {},
      "toc_section_display": true,
      "toc_window_display": false
    }
  },
  "cells": [
    {
      "cell_type": "markdown",
      "metadata": {
        "id": "view-in-github",
        "colab_type": "text"
      },
      "source": [
        "<a href=\"https://colab.research.google.com/github/okhko/Analysis_churn/blob/main/Analysis_churn.ipynb\" target=\"_parent\"><img src=\"https://colab.research.google.com/assets/colab-badge.svg\" alt=\"Open In Colab\"/></a>"
      ]
    },
    {
      "cell_type": "markdown",
      "metadata": {
        "id": "zLMtr_QYUs3v"
      },
      "source": [
        "# Прогноз оттока клиентов «Бета-Банка»"
      ]
    },
    {
      "cell_type": "markdown",
      "metadata": {
        "id": "WfaRfRcaiSBK"
      },
      "source": [
        "## Описание проекта"
      ]
    },
    {
      "cell_type": "markdown",
      "metadata": {
        "id": "P_Rz8IcLiSBL"
      },
      "source": [
        "Из «Бета-Банка» стали уходить клиенты. Каждый месяц. Немного, но заметно. Банковские маркетологи посчитали: сохранять текущих клиентов дешевле, чем привлекать новых.\n",
        "\n",
        "Нужно спрогнозировать, уйдёт клиент из банка в ближайшее время или нет. Нам предоставлены исторические данные о поведении клиентов и расторжении договоров с банком.\n",
        "\n",
        "Построим модель с предельно большим значением F1-меры. Чтобы сдать проект успешно, нужно довести метрику до `0.59`. Проверим F1-меру на тестовой выборке самостоятельно.\n",
        "\n",
        "Дополнительно измеряйте AUC-ROC, сравнивайте её значение с F1-мерой.\n",
        "\n",
        "Источник данных: [https://www.kaggle.com/barelydedicated/bank-customer-churn-modeling](https://www.kaggle.com/barelydedicated/bank-customer-churn-modeling)"
      ]
    },
    {
      "cell_type": "markdown",
      "metadata": {
        "id": "bmZd5EgIg8ql"
      },
      "source": [
        "### Чек-лист работы над проектом"
      ]
    },
    {
      "cell_type": "markdown",
      "metadata": {
        "id": "J6iuAgfrhIec"
      },
      "source": [
        "1. Загрузить и подготовьте данные. \n",
        " - Пояснить порядок действий.\n",
        "2. Исследовать баланс классов, обучить модель без учёта дисбаланса. \n",
        " - Кратко описать выводы.\n",
        "3. Улучшить качество модели, учитывая дисбаланс классов. \n",
        " - Обучить разные модели и найдти лучшую. \n",
        " - Кратко описать выводы.\n",
        "4. Провести финальное тестирование."
      ]
    },
    {
      "cell_type": "markdown",
      "metadata": {
        "id": "2nQfY6ZuiSBL"
      },
      "source": [
        "### Описание данных"
      ]
    },
    {
      "cell_type": "markdown",
      "metadata": {
        "id": "ekSFj32UiSBN"
      },
      "source": [
        "Данные находятся в файле [/datasets/Churn.csv](https://code.s3.yandex.net/datasets/Churn.csv) (англ. «отток клиентов»).\n",
        "\n",
        "- `RowNumber` — индекс строки в данных\n",
        "- `CustomerId` — уникальный идентификатор клиента\n",
        "- `Surname` — фамилия\n",
        "- `CreditScore` — кредитный рейтинг\n",
        "- `Geography` — страна проживания\n",
        "- `Gender` — пол\n",
        "- `Age` — возраст\n",
        "- `Tenure` — сколько лет человек является клиентом банка\n",
        "- `Balance` — баланс на счёте\n",
        "- `NumOfProducts` — количество продуктов банка, используемых клиентом\n",
        "- `HasCrCard` — наличие кредитной карты\n",
        "- `IsActiveMember` — активность клиента\n",
        "- `EstimatedSalary` — предполагаемая зарплата\n",
        "\n",
        "Целевой признак\n",
        "- `Exited` — факт ухода клиента\n"
      ]
    },
    {
      "cell_type": "markdown",
      "metadata": {
        "id": "Pu6NkVx-iSBS"
      },
      "source": [
        "## Настрйоки рабочей среды - установка библиотек и компонентов для работы"
      ]
    },
    {
      "cell_type": "markdown",
      "metadata": {
        "id": "-4CQp-g-iSBT"
      },
      "source": [
        "Импортируем библиотеки необходимы для нашей работы:"
      ]
    },
    {
      "cell_type": "code",
      "metadata": {
        "id": "XWNLcRasiSBU"
      },
      "source": [
        "import pandas as pd\n",
        "import matplotlib.pyplot as plt\n",
        "import numpy as np\n",
        "from sklearn.tree import DecisionTreeClassifier\n",
        "from sklearn.ensemble import RandomForestClassifier\n",
        "from sklearn.linear_model import LogisticRegression\n",
        "from sklearn.model_selection import train_test_split\n",
        "from sklearn.preprocessing import OrdinalEncoder\n",
        "from sklearn.preprocessing import StandardScaler\n",
        "from sklearn.metrics import f1_score\n",
        "from sklearn.utils import shuffle\n",
        "from sklearn.metrics import roc_curve\n",
        "from sklearn.metrics import roc_auc_score"
      ],
      "execution_count": null,
      "outputs": []
    },
    {
      "cell_type": "code",
      "metadata": {
        "id": "FdREgZRXNSPs"
      },
      "source": [
        "from sklearn.metrics import accuracy_score\n",
        "from sklearn.metrics import confusion_matrix\n",
        "from sklearn.metrics import recall_score\n",
        "from sklearn.metrics import precision_score"
      ],
      "execution_count": null,
      "outputs": []
    },
    {
      "cell_type": "markdown",
      "metadata": {
        "id": "QWFtUDXptwWD"
      },
      "source": [
        "## Подготовка данных"
      ]
    },
    {
      "cell_type": "markdown",
      "metadata": {
        "id": "8gvfSfg7iSBX"
      },
      "source": [
        "Откроем наши DataFrame и результат выведем на экран. Таблицу `Churn` мы сохраним в `df`:"
      ]
    },
    {
      "cell_type": "code",
      "metadata": {
        "colab": {
          "base_uri": "https://localhost:8080/",
          "height": 424
        },
        "id": "o17Y-mgwiSBX",
        "outputId": "996b8015-aaad-4669-b34a-8a86695938e7"
      },
      "source": [
        "df = pd.read_csv('https://code.s3.yandex.net/datasets/Churn.csv')\n",
        "df"
      ],
      "execution_count": null,
      "outputs": [
        {
          "output_type": "execute_result",
          "data": {
            "text/html": [
              "<div>\n",
              "<style scoped>\n",
              "    .dataframe tbody tr th:only-of-type {\n",
              "        vertical-align: middle;\n",
              "    }\n",
              "\n",
              "    .dataframe tbody tr th {\n",
              "        vertical-align: top;\n",
              "    }\n",
              "\n",
              "    .dataframe thead th {\n",
              "        text-align: right;\n",
              "    }\n",
              "</style>\n",
              "<table border=\"1\" class=\"dataframe\">\n",
              "  <thead>\n",
              "    <tr style=\"text-align: right;\">\n",
              "      <th></th>\n",
              "      <th>RowNumber</th>\n",
              "      <th>CustomerId</th>\n",
              "      <th>Surname</th>\n",
              "      <th>CreditScore</th>\n",
              "      <th>Geography</th>\n",
              "      <th>Gender</th>\n",
              "      <th>Age</th>\n",
              "      <th>Tenure</th>\n",
              "      <th>Balance</th>\n",
              "      <th>NumOfProducts</th>\n",
              "      <th>HasCrCard</th>\n",
              "      <th>IsActiveMember</th>\n",
              "      <th>EstimatedSalary</th>\n",
              "      <th>Exited</th>\n",
              "    </tr>\n",
              "  </thead>\n",
              "  <tbody>\n",
              "    <tr>\n",
              "      <th>0</th>\n",
              "      <td>1</td>\n",
              "      <td>15634602</td>\n",
              "      <td>Hargrave</td>\n",
              "      <td>619</td>\n",
              "      <td>France</td>\n",
              "      <td>Female</td>\n",
              "      <td>42</td>\n",
              "      <td>2.0</td>\n",
              "      <td>0.00</td>\n",
              "      <td>1</td>\n",
              "      <td>1</td>\n",
              "      <td>1</td>\n",
              "      <td>101348.88</td>\n",
              "      <td>1</td>\n",
              "    </tr>\n",
              "    <tr>\n",
              "      <th>1</th>\n",
              "      <td>2</td>\n",
              "      <td>15647311</td>\n",
              "      <td>Hill</td>\n",
              "      <td>608</td>\n",
              "      <td>Spain</td>\n",
              "      <td>Female</td>\n",
              "      <td>41</td>\n",
              "      <td>1.0</td>\n",
              "      <td>83807.86</td>\n",
              "      <td>1</td>\n",
              "      <td>0</td>\n",
              "      <td>1</td>\n",
              "      <td>112542.58</td>\n",
              "      <td>0</td>\n",
              "    </tr>\n",
              "    <tr>\n",
              "      <th>2</th>\n",
              "      <td>3</td>\n",
              "      <td>15619304</td>\n",
              "      <td>Onio</td>\n",
              "      <td>502</td>\n",
              "      <td>France</td>\n",
              "      <td>Female</td>\n",
              "      <td>42</td>\n",
              "      <td>8.0</td>\n",
              "      <td>159660.80</td>\n",
              "      <td>3</td>\n",
              "      <td>1</td>\n",
              "      <td>0</td>\n",
              "      <td>113931.57</td>\n",
              "      <td>1</td>\n",
              "    </tr>\n",
              "    <tr>\n",
              "      <th>3</th>\n",
              "      <td>4</td>\n",
              "      <td>15701354</td>\n",
              "      <td>Boni</td>\n",
              "      <td>699</td>\n",
              "      <td>France</td>\n",
              "      <td>Female</td>\n",
              "      <td>39</td>\n",
              "      <td>1.0</td>\n",
              "      <td>0.00</td>\n",
              "      <td>2</td>\n",
              "      <td>0</td>\n",
              "      <td>0</td>\n",
              "      <td>93826.63</td>\n",
              "      <td>0</td>\n",
              "    </tr>\n",
              "    <tr>\n",
              "      <th>4</th>\n",
              "      <td>5</td>\n",
              "      <td>15737888</td>\n",
              "      <td>Mitchell</td>\n",
              "      <td>850</td>\n",
              "      <td>Spain</td>\n",
              "      <td>Female</td>\n",
              "      <td>43</td>\n",
              "      <td>2.0</td>\n",
              "      <td>125510.82</td>\n",
              "      <td>1</td>\n",
              "      <td>1</td>\n",
              "      <td>1</td>\n",
              "      <td>79084.10</td>\n",
              "      <td>0</td>\n",
              "    </tr>\n",
              "    <tr>\n",
              "      <th>...</th>\n",
              "      <td>...</td>\n",
              "      <td>...</td>\n",
              "      <td>...</td>\n",
              "      <td>...</td>\n",
              "      <td>...</td>\n",
              "      <td>...</td>\n",
              "      <td>...</td>\n",
              "      <td>...</td>\n",
              "      <td>...</td>\n",
              "      <td>...</td>\n",
              "      <td>...</td>\n",
              "      <td>...</td>\n",
              "      <td>...</td>\n",
              "      <td>...</td>\n",
              "    </tr>\n",
              "    <tr>\n",
              "      <th>9995</th>\n",
              "      <td>9996</td>\n",
              "      <td>15606229</td>\n",
              "      <td>Obijiaku</td>\n",
              "      <td>771</td>\n",
              "      <td>France</td>\n",
              "      <td>Male</td>\n",
              "      <td>39</td>\n",
              "      <td>5.0</td>\n",
              "      <td>0.00</td>\n",
              "      <td>2</td>\n",
              "      <td>1</td>\n",
              "      <td>0</td>\n",
              "      <td>96270.64</td>\n",
              "      <td>0</td>\n",
              "    </tr>\n",
              "    <tr>\n",
              "      <th>9996</th>\n",
              "      <td>9997</td>\n",
              "      <td>15569892</td>\n",
              "      <td>Johnstone</td>\n",
              "      <td>516</td>\n",
              "      <td>France</td>\n",
              "      <td>Male</td>\n",
              "      <td>35</td>\n",
              "      <td>10.0</td>\n",
              "      <td>57369.61</td>\n",
              "      <td>1</td>\n",
              "      <td>1</td>\n",
              "      <td>1</td>\n",
              "      <td>101699.77</td>\n",
              "      <td>0</td>\n",
              "    </tr>\n",
              "    <tr>\n",
              "      <th>9997</th>\n",
              "      <td>9998</td>\n",
              "      <td>15584532</td>\n",
              "      <td>Liu</td>\n",
              "      <td>709</td>\n",
              "      <td>France</td>\n",
              "      <td>Female</td>\n",
              "      <td>36</td>\n",
              "      <td>7.0</td>\n",
              "      <td>0.00</td>\n",
              "      <td>1</td>\n",
              "      <td>0</td>\n",
              "      <td>1</td>\n",
              "      <td>42085.58</td>\n",
              "      <td>1</td>\n",
              "    </tr>\n",
              "    <tr>\n",
              "      <th>9998</th>\n",
              "      <td>9999</td>\n",
              "      <td>15682355</td>\n",
              "      <td>Sabbatini</td>\n",
              "      <td>772</td>\n",
              "      <td>Germany</td>\n",
              "      <td>Male</td>\n",
              "      <td>42</td>\n",
              "      <td>3.0</td>\n",
              "      <td>75075.31</td>\n",
              "      <td>2</td>\n",
              "      <td>1</td>\n",
              "      <td>0</td>\n",
              "      <td>92888.52</td>\n",
              "      <td>1</td>\n",
              "    </tr>\n",
              "    <tr>\n",
              "      <th>9999</th>\n",
              "      <td>10000</td>\n",
              "      <td>15628319</td>\n",
              "      <td>Walker</td>\n",
              "      <td>792</td>\n",
              "      <td>France</td>\n",
              "      <td>Female</td>\n",
              "      <td>28</td>\n",
              "      <td>NaN</td>\n",
              "      <td>130142.79</td>\n",
              "      <td>1</td>\n",
              "      <td>1</td>\n",
              "      <td>0</td>\n",
              "      <td>38190.78</td>\n",
              "      <td>0</td>\n",
              "    </tr>\n",
              "  </tbody>\n",
              "</table>\n",
              "<p>10000 rows × 14 columns</p>\n",
              "</div>"
            ],
            "text/plain": [
              "      RowNumber  CustomerId    Surname  ...  IsActiveMember EstimatedSalary Exited\n",
              "0             1    15634602   Hargrave  ...               1       101348.88      1\n",
              "1             2    15647311       Hill  ...               1       112542.58      0\n",
              "2             3    15619304       Onio  ...               0       113931.57      1\n",
              "3             4    15701354       Boni  ...               0        93826.63      0\n",
              "4             5    15737888   Mitchell  ...               1        79084.10      0\n",
              "...         ...         ...        ...  ...             ...             ...    ...\n",
              "9995       9996    15606229   Obijiaku  ...               0        96270.64      0\n",
              "9996       9997    15569892  Johnstone  ...               1       101699.77      0\n",
              "9997       9998    15584532        Liu  ...               1        42085.58      1\n",
              "9998       9999    15682355  Sabbatini  ...               0        92888.52      1\n",
              "9999      10000    15628319     Walker  ...               0        38190.78      0\n",
              "\n",
              "[10000 rows x 14 columns]"
            ]
          },
          "metadata": {},
          "execution_count": 3
        }
      ]
    },
    {
      "cell_type": "markdown",
      "metadata": {
        "id": "DgrecrbhLLup"
      },
      "source": [
        "Посмотрим на общуюю информацию:"
      ]
    },
    {
      "cell_type": "code",
      "metadata": {
        "colab": {
          "base_uri": "https://localhost:8080/"
        },
        "id": "m4N3dH9FWrkH",
        "outputId": "76ff25de-819c-4982-e3bd-f41222335fa3"
      },
      "source": [
        "df.info()"
      ],
      "execution_count": null,
      "outputs": [
        {
          "output_type": "stream",
          "name": "stdout",
          "text": [
            "<class 'pandas.core.frame.DataFrame'>\n",
            "RangeIndex: 10000 entries, 0 to 9999\n",
            "Data columns (total 14 columns):\n",
            " #   Column           Non-Null Count  Dtype  \n",
            "---  ------           --------------  -----  \n",
            " 0   RowNumber        10000 non-null  int64  \n",
            " 1   CustomerId       10000 non-null  int64  \n",
            " 2   Surname          10000 non-null  object \n",
            " 3   CreditScore      10000 non-null  int64  \n",
            " 4   Geography        10000 non-null  object \n",
            " 5   Gender           10000 non-null  object \n",
            " 6   Age              10000 non-null  int64  \n",
            " 7   Tenure           9091 non-null   float64\n",
            " 8   Balance          10000 non-null  float64\n",
            " 9   NumOfProducts    10000 non-null  int64  \n",
            " 10  HasCrCard        10000 non-null  int64  \n",
            " 11  IsActiveMember   10000 non-null  int64  \n",
            " 12  EstimatedSalary  10000 non-null  float64\n",
            " 13  Exited           10000 non-null  int64  \n",
            "dtypes: float64(3), int64(8), object(3)\n",
            "memory usage: 1.1+ MB\n"
          ]
        }
      ]
    },
    {
      "cell_type": "markdown",
      "metadata": {
        "id": "ZUHvZ-3QaaTh"
      },
      "source": [
        "В данном датасете 13 признако, целевой признак, 10000 строк.\n",
        "\n",
        "- `RowNumber` — индекс строки в данных\n",
        "- `CustomerId` — уникальный идентификатор клиента\n",
        "- `Surname` — фамилия\n",
        "- `CreditScore` — кредитный рейтинг\n",
        "- `Geography` — страна проживания\n",
        "- `Gender` — пол\n",
        "- `Age` — возраст\n",
        "- `Tenure` — сколько лет человек является клиентом банка\n",
        "- `Balance` — баланс на счёте\n",
        "- `NumOfProducts` — количество продуктов банка, используемых клиентом\n",
        "- `HasCrCard` — наличие кредитной карты\n",
        "- `IsActiveMember` — активность клиента\n",
        "- `EstimatedSalary` — предполагаемая зарплата\n",
        "\n",
        "Целевой признак\n",
        "- `Exited` — факт ухода клиента"
      ]
    },
    {
      "cell_type": "markdown",
      "metadata": {
        "id": "DvaTOXQWba5G"
      },
      "source": [
        "### Вывод:"
      ]
    },
    {
      "cell_type": "markdown",
      "metadata": {
        "id": "xRrDhZpvbdGy"
      },
      "source": [
        "В данных присутствуют столбцы, которые не нужны. Их можно удалить. В анализе они не нужны. Также есть пропуски в значении недвижимости. Это означает, что у клиента нет ее. Значит можно просто заменить 0 и перевести в целочисленный тип.\n",
        "\n"
      ]
    },
    {
      "cell_type": "markdown",
      "metadata": {
        "id": "m2ZZDtv0bifq"
      },
      "source": [
        "Удалим лишние столбцы:"
      ]
    },
    {
      "cell_type": "code",
      "metadata": {
        "id": "a_VOk-MqkHmG"
      },
      "source": [
        "del_col=['RowNumber','EstimatedSalary','CustomerId','Surname']\n",
        "df=df.drop(del_col,axis=1)"
      ],
      "execution_count": null,
      "outputs": []
    },
    {
      "cell_type": "markdown",
      "metadata": {
        "id": "Pa0J3YzfbnWf"
      },
      "source": [
        "Заполним пропуски нулями:"
      ]
    },
    {
      "cell_type": "code",
      "metadata": {
        "id": "1KkypbpWtwWE"
      },
      "source": [
        "df['Tenure']=df['Tenure'].fillna(0).astype('int64')"
      ],
      "execution_count": null,
      "outputs": []
    },
    {
      "cell_type": "markdown",
      "metadata": {
        "id": "jjqecu2kbuow"
      },
      "source": [
        "Посмотрим, что у нас получилось:"
      ]
    },
    {
      "cell_type": "code",
      "metadata": {
        "colab": {
          "base_uri": "https://localhost:8080/"
        },
        "id": "pXZz7ZMobzvN",
        "outputId": "44b9605f-cd97-46ec-c7da-30516ae511fc"
      },
      "source": [
        "df.info()"
      ],
      "execution_count": null,
      "outputs": [
        {
          "output_type": "stream",
          "name": "stdout",
          "text": [
            "<class 'pandas.core.frame.DataFrame'>\n",
            "RangeIndex: 10000 entries, 0 to 9999\n",
            "Data columns (total 10 columns):\n",
            " #   Column          Non-Null Count  Dtype  \n",
            "---  ------          --------------  -----  \n",
            " 0   CreditScore     10000 non-null  int64  \n",
            " 1   Geography       10000 non-null  object \n",
            " 2   Gender          10000 non-null  object \n",
            " 3   Age             10000 non-null  int64  \n",
            " 4   Tenure          10000 non-null  int64  \n",
            " 5   Balance         10000 non-null  float64\n",
            " 6   NumOfProducts   10000 non-null  int64  \n",
            " 7   HasCrCard       10000 non-null  int64  \n",
            " 8   IsActiveMember  10000 non-null  int64  \n",
            " 9   Exited          10000 non-null  int64  \n",
            "dtypes: float64(1), int64(7), object(2)\n",
            "memory usage: 781.4+ KB\n"
          ]
        }
      ]
    },
    {
      "cell_type": "code",
      "metadata": {
        "colab": {
          "base_uri": "https://localhost:8080/",
          "height": 363
        },
        "id": "1tssQ92bb4pM",
        "outputId": "aa99f95c-de45-4ea6-f32c-7cf276344360"
      },
      "source": [
        "df.head(10)"
      ],
      "execution_count": null,
      "outputs": [
        {
          "output_type": "execute_result",
          "data": {
            "text/html": [
              "<div>\n",
              "<style scoped>\n",
              "    .dataframe tbody tr th:only-of-type {\n",
              "        vertical-align: middle;\n",
              "    }\n",
              "\n",
              "    .dataframe tbody tr th {\n",
              "        vertical-align: top;\n",
              "    }\n",
              "\n",
              "    .dataframe thead th {\n",
              "        text-align: right;\n",
              "    }\n",
              "</style>\n",
              "<table border=\"1\" class=\"dataframe\">\n",
              "  <thead>\n",
              "    <tr style=\"text-align: right;\">\n",
              "      <th></th>\n",
              "      <th>CreditScore</th>\n",
              "      <th>Geography</th>\n",
              "      <th>Gender</th>\n",
              "      <th>Age</th>\n",
              "      <th>Tenure</th>\n",
              "      <th>Balance</th>\n",
              "      <th>NumOfProducts</th>\n",
              "      <th>HasCrCard</th>\n",
              "      <th>IsActiveMember</th>\n",
              "      <th>Exited</th>\n",
              "    </tr>\n",
              "  </thead>\n",
              "  <tbody>\n",
              "    <tr>\n",
              "      <th>0</th>\n",
              "      <td>619</td>\n",
              "      <td>France</td>\n",
              "      <td>Female</td>\n",
              "      <td>42</td>\n",
              "      <td>2</td>\n",
              "      <td>0.00</td>\n",
              "      <td>1</td>\n",
              "      <td>1</td>\n",
              "      <td>1</td>\n",
              "      <td>1</td>\n",
              "    </tr>\n",
              "    <tr>\n",
              "      <th>1</th>\n",
              "      <td>608</td>\n",
              "      <td>Spain</td>\n",
              "      <td>Female</td>\n",
              "      <td>41</td>\n",
              "      <td>1</td>\n",
              "      <td>83807.86</td>\n",
              "      <td>1</td>\n",
              "      <td>0</td>\n",
              "      <td>1</td>\n",
              "      <td>0</td>\n",
              "    </tr>\n",
              "    <tr>\n",
              "      <th>2</th>\n",
              "      <td>502</td>\n",
              "      <td>France</td>\n",
              "      <td>Female</td>\n",
              "      <td>42</td>\n",
              "      <td>8</td>\n",
              "      <td>159660.80</td>\n",
              "      <td>3</td>\n",
              "      <td>1</td>\n",
              "      <td>0</td>\n",
              "      <td>1</td>\n",
              "    </tr>\n",
              "    <tr>\n",
              "      <th>3</th>\n",
              "      <td>699</td>\n",
              "      <td>France</td>\n",
              "      <td>Female</td>\n",
              "      <td>39</td>\n",
              "      <td>1</td>\n",
              "      <td>0.00</td>\n",
              "      <td>2</td>\n",
              "      <td>0</td>\n",
              "      <td>0</td>\n",
              "      <td>0</td>\n",
              "    </tr>\n",
              "    <tr>\n",
              "      <th>4</th>\n",
              "      <td>850</td>\n",
              "      <td>Spain</td>\n",
              "      <td>Female</td>\n",
              "      <td>43</td>\n",
              "      <td>2</td>\n",
              "      <td>125510.82</td>\n",
              "      <td>1</td>\n",
              "      <td>1</td>\n",
              "      <td>1</td>\n",
              "      <td>0</td>\n",
              "    </tr>\n",
              "    <tr>\n",
              "      <th>5</th>\n",
              "      <td>645</td>\n",
              "      <td>Spain</td>\n",
              "      <td>Male</td>\n",
              "      <td>44</td>\n",
              "      <td>8</td>\n",
              "      <td>113755.78</td>\n",
              "      <td>2</td>\n",
              "      <td>1</td>\n",
              "      <td>0</td>\n",
              "      <td>1</td>\n",
              "    </tr>\n",
              "    <tr>\n",
              "      <th>6</th>\n",
              "      <td>822</td>\n",
              "      <td>France</td>\n",
              "      <td>Male</td>\n",
              "      <td>50</td>\n",
              "      <td>7</td>\n",
              "      <td>0.00</td>\n",
              "      <td>2</td>\n",
              "      <td>1</td>\n",
              "      <td>1</td>\n",
              "      <td>0</td>\n",
              "    </tr>\n",
              "    <tr>\n",
              "      <th>7</th>\n",
              "      <td>376</td>\n",
              "      <td>Germany</td>\n",
              "      <td>Female</td>\n",
              "      <td>29</td>\n",
              "      <td>4</td>\n",
              "      <td>115046.74</td>\n",
              "      <td>4</td>\n",
              "      <td>1</td>\n",
              "      <td>0</td>\n",
              "      <td>1</td>\n",
              "    </tr>\n",
              "    <tr>\n",
              "      <th>8</th>\n",
              "      <td>501</td>\n",
              "      <td>France</td>\n",
              "      <td>Male</td>\n",
              "      <td>44</td>\n",
              "      <td>4</td>\n",
              "      <td>142051.07</td>\n",
              "      <td>2</td>\n",
              "      <td>0</td>\n",
              "      <td>1</td>\n",
              "      <td>0</td>\n",
              "    </tr>\n",
              "    <tr>\n",
              "      <th>9</th>\n",
              "      <td>684</td>\n",
              "      <td>France</td>\n",
              "      <td>Male</td>\n",
              "      <td>27</td>\n",
              "      <td>2</td>\n",
              "      <td>134603.88</td>\n",
              "      <td>1</td>\n",
              "      <td>1</td>\n",
              "      <td>1</td>\n",
              "      <td>0</td>\n",
              "    </tr>\n",
              "  </tbody>\n",
              "</table>\n",
              "</div>"
            ],
            "text/plain": [
              "   CreditScore Geography  Gender  ...  HasCrCard  IsActiveMember  Exited\n",
              "0          619    France  Female  ...          1               1       1\n",
              "1          608     Spain  Female  ...          0               1       0\n",
              "2          502    France  Female  ...          1               0       1\n",
              "3          699    France  Female  ...          0               0       0\n",
              "4          850     Spain  Female  ...          1               1       0\n",
              "5          645     Spain    Male  ...          1               0       1\n",
              "6          822    France    Male  ...          1               1       0\n",
              "7          376   Germany  Female  ...          1               0       1\n",
              "8          501    France    Male  ...          0               1       0\n",
              "9          684    France    Male  ...          1               1       0\n",
              "\n",
              "[10 rows x 10 columns]"
            ]
          },
          "metadata": {},
          "execution_count": 8
        }
      ]
    },
    {
      "cell_type": "markdown",
      "metadata": {
        "id": "zoa1X3D0twWF"
      },
      "source": [
        "## Исследование задачи"
      ]
    },
    {
      "cell_type": "markdown",
      "metadata": {
        "id": "CyZS1JgEokYS"
      },
      "source": [
        "Посмотрим на гистограмму значений оттока и оставшихся клиентов:"
      ]
    },
    {
      "cell_type": "code",
      "metadata": {
        "colab": {
          "base_uri": "https://localhost:8080/",
          "height": 403
        },
        "id": "2HsXsQlJtwWG",
        "outputId": "0d063c59-1d92-4eb2-d2b7-b1e9a7e02b55"
      },
      "source": [
        "df['Exited'].value_counts().plot(kind='bar',grid=True,figsize=(10,6),title='Соотношение тех, кто остался и тех кто ушел')"
      ],
      "execution_count": null,
      "outputs": [
        {
          "output_type": "execute_result",
          "data": {
            "text/plain": [
              "<matplotlib.axes._subplots.AxesSubplot at 0x7f3055953dd0>"
            ]
          },
          "metadata": {},
          "execution_count": 9
        },
        {
          "output_type": "display_data",
          "data": {
            "image/png": "[encoded data removed]",
            "text/plain": [
              "<Figure size 720x432 with 1 Axes>"
            ]
          },
          "metadata": {
            "needs_background": "light"
          }
        }
      ]
    },
    {
      "cell_type": "markdown",
      "metadata": {
        "id": "GOSkFcAyo7YW"
      },
      "source": [
        "Соотношение оттока и тех кто остался 1:4. \n",
        "\n",
        "Вывод: такое соотношение говорит, что присутствует дисбаланс в данных.\n",
        "\n",
        "Посмотрим как зависит возраст и отток клиентов: "
      ]
    },
    {
      "cell_type": "code",
      "metadata": {
        "colab": {
          "base_uri": "https://localhost:8080/",
          "height": 407
        },
        "id": "QujdtaJnuEhq",
        "outputId": "2cbe564e-a020-438c-c402-330834a7d0a2"
      },
      "source": [
        "df.groupby('Age')['Exited'].sum().plot(figsize=(15,6),kind='bar',title='Гистограмма возраста и оттока')\n",
        "plt.show()"
      ],
      "execution_count": null,
      "outputs": [
        {
          "output_type": "display_data",
          "data": {
            "image/png": "[encoded data removed]",
            "text/plain": [
              "<Figure size 1080x432 with 1 Axes>"
            ]
          },
          "metadata": {
            "needs_background": "light"
          }
        }
      ]
    },
    {
      "cell_type": "markdown",
      "metadata": {
        "id": "VVH-Ew1bw-3l"
      },
      "source": [
        "По гистограмме распределения видно, что отток зависит от возраста и распределено нормально. Больше всего уходит клиентов в возрасте от 40 до 50 лет. Посмотрим как зависит наличие недвижимости и отток клиентов: "
      ]
    },
    {
      "cell_type": "code",
      "metadata": {
        "colab": {
          "base_uri": "https://localhost:8080/",
          "height": 407
        },
        "id": "edmKa4okxQtt",
        "outputId": "bcc4a333-b20c-42bb-e73b-1a673300db31"
      },
      "source": [
        "df.groupby('Tenure')['Exited'].count().plot(figsize=(15,6),kind='bar',title='Гистограмма наличия недвижимости и оттока')\n",
        "plt.show()"
      ],
      "execution_count": null,
      "outputs": [
        {
          "output_type": "display_data",
          "data": {
            "image/png": "[encoded data removed]",
            "text/plain": [
              "<Figure size 1080x432 with 1 Axes>"
            ]
          },
          "metadata": {
            "needs_background": "light"
          }
        }
      ]
    },
    {
      "cell_type": "markdown",
      "metadata": {
        "id": "Dz5jLUumxc48"
      },
      "source": [
        "На этой гисторгамме видна не очень сильная зависимость, но можно увидеть, что те у кого нет недвижимости уходят чаще. Построем еще одну гистограмму, посмотрим медиану баланса денег у тех кто ушел и тех кто остался:"
      ]
    },
    {
      "cell_type": "code",
      "metadata": {
        "colab": {
          "base_uri": "https://localhost:8080/",
          "height": 309
        },
        "id": "KhfNGDbHxitv",
        "outputId": "7f29e1a8-c73a-4537-e168-94922d26f47f"
      },
      "source": [
        "df.groupby('Exited')['Balance'].median().plot(kind\n",
        "                                              ='bar',title\n",
        "                                              ='Гистограмма медианного баланса денег у тех кто ушел и тех кто остался')"
      ],
      "execution_count": null,
      "outputs": [
        {
          "data": {
            "text/plain": [
              "<matplotlib.axes._subplots.AxesSubplot at 0x7fb6e05c1750>"
            ]
          },
          "execution_count": 463,
          "metadata": {},
          "output_type": "execute_result"
        },
        {
          "data": {
            "image/png": "[encoded data removed]",
            "text/plain": [
              "<Figure size 432x288 with 1 Axes>"
            ]
          },
          "metadata": {
            "needs_background": "light"
          },
          "output_type": "display_data"
        }
      ]
    },
    {
      "cell_type": "markdown",
      "metadata": {
        "id": "f1UmDG5Pxxd3"
      },
      "source": [
        "На гистограмме видно, что зависимость не сильная, но среднее значение баланса немного выше у тех кто ушел. Посчитаем корреляцию Пирсона:"
      ]
    },
    {
      "cell_type": "code",
      "metadata": {
        "colab": {
          "base_uri": "https://localhost:8080/",
          "height": 297
        },
        "id": "G9ecMSpfx0u7",
        "outputId": "1236d75b-0e83-423a-e501-51e5d33b59b8"
      },
      "source": [
        "df.corr()"
      ],
      "execution_count": null,
      "outputs": [
        {
          "data": {
            "text/html": [
              "<div>\n",
              "<style scoped>\n",
              "    .dataframe tbody tr th:only-of-type {\n",
              "        vertical-align: middle;\n",
              "    }\n",
              "\n",
              "    .dataframe tbody tr th {\n",
              "        vertical-align: top;\n",
              "    }\n",
              "\n",
              "    .dataframe thead th {\n",
              "        text-align: right;\n",
              "    }\n",
              "</style>\n",
              "<table border=\"1\" class=\"dataframe\">\n",
              "  <thead>\n",
              "    <tr style=\"text-align: right;\">\n",
              "      <th></th>\n",
              "      <th>CreditScore</th>\n",
              "      <th>Age</th>\n",
              "      <th>Tenure</th>\n",
              "      <th>Balance</th>\n",
              "      <th>NumOfProducts</th>\n",
              "      <th>HasCrCard</th>\n",
              "      <th>IsActiveMember</th>\n",
              "      <th>Exited</th>\n",
              "    </tr>\n",
              "  </thead>\n",
              "  <tbody>\n",
              "    <tr>\n",
              "      <td>CreditScore</td>\n",
              "      <td>1.000000</td>\n",
              "      <td>-0.003965</td>\n",
              "      <td>0.003087</td>\n",
              "      <td>0.006268</td>\n",
              "      <td>0.012238</td>\n",
              "      <td>-0.005458</td>\n",
              "      <td>0.025651</td>\n",
              "      <td>-0.027094</td>\n",
              "    </tr>\n",
              "    <tr>\n",
              "      <td>Age</td>\n",
              "      <td>-0.003965</td>\n",
              "      <td>1.000000</td>\n",
              "      <td>-0.007368</td>\n",
              "      <td>0.028308</td>\n",
              "      <td>-0.030680</td>\n",
              "      <td>-0.011721</td>\n",
              "      <td>0.085472</td>\n",
              "      <td>0.285323</td>\n",
              "    </tr>\n",
              "    <tr>\n",
              "      <td>Tenure</td>\n",
              "      <td>0.003087</td>\n",
              "      <td>-0.007368</td>\n",
              "      <td>1.000000</td>\n",
              "      <td>-0.005821</td>\n",
              "      <td>0.010106</td>\n",
              "      <td>0.021387</td>\n",
              "      <td>-0.025856</td>\n",
              "      <td>-0.013319</td>\n",
              "    </tr>\n",
              "    <tr>\n",
              "      <td>Balance</td>\n",
              "      <td>0.006268</td>\n",
              "      <td>0.028308</td>\n",
              "      <td>-0.005821</td>\n",
              "      <td>1.000000</td>\n",
              "      <td>-0.304180</td>\n",
              "      <td>-0.014858</td>\n",
              "      <td>-0.010084</td>\n",
              "      <td>0.118533</td>\n",
              "    </tr>\n",
              "    <tr>\n",
              "      <td>NumOfProducts</td>\n",
              "      <td>0.012238</td>\n",
              "      <td>-0.030680</td>\n",
              "      <td>0.010106</td>\n",
              "      <td>-0.304180</td>\n",
              "      <td>1.000000</td>\n",
              "      <td>0.003183</td>\n",
              "      <td>0.009612</td>\n",
              "      <td>-0.047820</td>\n",
              "    </tr>\n",
              "    <tr>\n",
              "      <td>HasCrCard</td>\n",
              "      <td>-0.005458</td>\n",
              "      <td>-0.011721</td>\n",
              "      <td>0.021387</td>\n",
              "      <td>-0.014858</td>\n",
              "      <td>0.003183</td>\n",
              "      <td>1.000000</td>\n",
              "      <td>-0.011866</td>\n",
              "      <td>-0.007138</td>\n",
              "    </tr>\n",
              "    <tr>\n",
              "      <td>IsActiveMember</td>\n",
              "      <td>0.025651</td>\n",
              "      <td>0.085472</td>\n",
              "      <td>-0.025856</td>\n",
              "      <td>-0.010084</td>\n",
              "      <td>0.009612</td>\n",
              "      <td>-0.011866</td>\n",
              "      <td>1.000000</td>\n",
              "      <td>-0.156128</td>\n",
              "    </tr>\n",
              "    <tr>\n",
              "      <td>Exited</td>\n",
              "      <td>-0.027094</td>\n",
              "      <td>0.285323</td>\n",
              "      <td>-0.013319</td>\n",
              "      <td>0.118533</td>\n",
              "      <td>-0.047820</td>\n",
              "      <td>-0.007138</td>\n",
              "      <td>-0.156128</td>\n",
              "      <td>1.000000</td>\n",
              "    </tr>\n",
              "  </tbody>\n",
              "</table>\n",
              "</div>"
            ],
            "text/plain": [
              "                CreditScore       Age    Tenure   Balance  NumOfProducts  \\\n",
              "CreditScore        1.000000 -0.003965  0.003087  0.006268       0.012238   \n",
              "Age               -0.003965  1.000000 -0.007368  0.028308      -0.030680   \n",
              "Tenure             0.003087 -0.007368  1.000000 -0.005821       0.010106   \n",
              "Balance            0.006268  0.028308 -0.005821  1.000000      -0.304180   \n",
              "NumOfProducts      0.012238 -0.030680  0.010106 -0.304180       1.000000   \n",
              "HasCrCard         -0.005458 -0.011721  0.021387 -0.014858       0.003183   \n",
              "IsActiveMember     0.025651  0.085472 -0.025856 -0.010084       0.009612   \n",
              "Exited            -0.027094  0.285323 -0.013319  0.118533      -0.047820   \n",
              "\n",
              "                HasCrCard  IsActiveMember    Exited  \n",
              "CreditScore     -0.005458        0.025651 -0.027094  \n",
              "Age             -0.011721        0.085472  0.285323  \n",
              "Tenure           0.021387       -0.025856 -0.013319  \n",
              "Balance         -0.014858       -0.010084  0.118533  \n",
              "NumOfProducts    0.003183        0.009612 -0.047820  \n",
              "HasCrCard        1.000000       -0.011866 -0.007138  \n",
              "IsActiveMember  -0.011866        1.000000 -0.156128  \n",
              "Exited          -0.007138       -0.156128  1.000000  "
            ]
          },
          "execution_count": 464,
          "metadata": {},
          "output_type": "execute_result"
        }
      ]
    },
    {
      "cell_type": "markdown",
      "metadata": {
        "id": "IBW9EDjOx9zS"
      },
      "source": [
        "Видно, что все признаки не сильно коррелируются с целевым признаком. Скорее всего там зависимость сложнее."
      ]
    },
    {
      "cell_type": "markdown",
      "metadata": {
        "id": "jlSJZKX60ASW"
      },
      "source": [
        "### One hot encoder"
      ]
    },
    {
      "cell_type": "markdown",
      "metadata": {
        "id": "yaueM_Fp0Cg9"
      },
      "source": [
        "Избавляемся от категориальных признаков методом One hot encoder. Вызываем метод get_dummies для избавления от категориальных признаков:"
      ]
    },
    {
      "cell_type": "code",
      "metadata": {
        "id": "CYwcd2dN0FEl"
      },
      "source": [
        "df_ohe=pd.get_dummies(df,drop_first=True)"
      ],
      "execution_count": null,
      "outputs": []
    },
    {
      "cell_type": "markdown",
      "metadata": {
        "id": "ECM6mBUz0RpV"
      },
      "source": [
        "Целевой признак:"
      ]
    },
    {
      "cell_type": "code",
      "metadata": {
        "id": "gqE68K2-0OxW"
      },
      "source": [
        "target=df_ohe['Exited']"
      ],
      "execution_count": null,
      "outputs": []
    },
    {
      "cell_type": "markdown",
      "metadata": {
        "id": "mve-vHaj0XZC"
      },
      "source": [
        "Признаки:"
      ]
    },
    {
      "cell_type": "code",
      "metadata": {
        "id": "jgXDpQ9L0O1B"
      },
      "source": [
        "features=df_ohe.drop(['Exited'],axis=1)"
      ],
      "execution_count": null,
      "outputs": []
    },
    {
      "cell_type": "markdown",
      "metadata": {
        "id": "WWvqjfxbNSP7"
      },
      "source": [
        "С помощью `train_test_split` разделим наш датасет на следующие выборки: "
      ]
    },
    {
      "cell_type": "code",
      "metadata": {
        "id": "hy9CumetNSP8"
      },
      "source": [
        "features = df_ohe.drop(['Exited'], axis=1)\n",
        "target = df_ohe['Exited']\n",
        "\n",
        "features_temp, test_features, target_temp, test_target = train_test_split(features, target, test_size=0.2, random_state=12345)\n",
        "train_features, valid_features, train_target, valid_target = train_test_split(features_temp, target_temp, test_size=0.25, random_state=12345)"
      ],
      "execution_count": null,
      "outputs": []
    },
    {
      "cell_type": "markdown",
      "metadata": {
        "id": "_r5QHEyKNSQD"
      },
      "source": [
        "Стандартизируем тестовую и валидную выборку, т.к есть значения и маленькие и очень большие. "
      ]
    },
    {
      "cell_type": "code",
      "metadata": {
        "id": "y3dVHFF5NSQD",
        "outputId": "c4a4afcb-c2de-42b0-b7df-354b42563ae4"
      },
      "source": [
        "numeric=['CreditScore','Age','Tenure','Balance','NumOfProducts','HasCrCard','IsActiveMember']\n",
        "scaler=StandardScaler()\n",
        "scaler.fit(train_features[numeric])\n",
        "train_features[numeric]=scaler.transform(train_features[numeric])\n",
        "valid_features[numeric]=scaler.transform(valid_features[numeric])\n",
        "test_features[numeric]=scaler.transform(test_features[numeric])"
      ],
      "execution_count": null,
      "outputs": [
        {
          "name": "stderr",
          "output_type": "stream",
          "text": [
            "/opt/conda/lib/python3.7/site-packages/ipykernel_launcher.py:4: SettingWithCopyWarning: \n",
            "A value is trying to be set on a copy of a slice from a DataFrame.\n",
            "Try using .loc[row_indexer,col_indexer] = value instead\n",
            "\n",
            "See the caveats in the documentation: http://pandas.pydata.org/pandas-docs/stable/user_guide/indexing.html#returning-a-view-versus-a-copy\n",
            "  after removing the cwd from sys.path.\n",
            "/opt/conda/lib/python3.7/site-packages/pandas/core/indexing.py:494: SettingWithCopyWarning: \n",
            "A value is trying to be set on a copy of a slice from a DataFrame.\n",
            "Try using .loc[row_indexer,col_indexer] = value instead\n",
            "\n",
            "See the caveats in the documentation: http://pandas.pydata.org/pandas-docs/stable/user_guide/indexing.html#returning-a-view-versus-a-copy\n",
            "  self.obj[item] = s\n",
            "/opt/conda/lib/python3.7/site-packages/ipykernel_launcher.py:5: SettingWithCopyWarning: \n",
            "A value is trying to be set on a copy of a slice from a DataFrame.\n",
            "Try using .loc[row_indexer,col_indexer] = value instead\n",
            "\n",
            "See the caveats in the documentation: http://pandas.pydata.org/pandas-docs/stable/user_guide/indexing.html#returning-a-view-versus-a-copy\n",
            "  \"\"\"\n",
            "/opt/conda/lib/python3.7/site-packages/pandas/core/indexing.py:494: SettingWithCopyWarning: \n",
            "A value is trying to be set on a copy of a slice from a DataFrame.\n",
            "Try using .loc[row_indexer,col_indexer] = value instead\n",
            "\n",
            "See the caveats in the documentation: http://pandas.pydata.org/pandas-docs/stable/user_guide/indexing.html#returning-a-view-versus-a-copy\n",
            "  self.obj[item] = s\n",
            "/opt/conda/lib/python3.7/site-packages/ipykernel_launcher.py:6: SettingWithCopyWarning: \n",
            "A value is trying to be set on a copy of a slice from a DataFrame.\n",
            "Try using .loc[row_indexer,col_indexer] = value instead\n",
            "\n",
            "See the caveats in the documentation: http://pandas.pydata.org/pandas-docs/stable/user_guide/indexing.html#returning-a-view-versus-a-copy\n",
            "  \n",
            "/opt/conda/lib/python3.7/site-packages/pandas/core/indexing.py:494: SettingWithCopyWarning: \n",
            "A value is trying to be set on a copy of a slice from a DataFrame.\n",
            "Try using .loc[row_indexer,col_indexer] = value instead\n",
            "\n",
            "See the caveats in the documentation: http://pandas.pydata.org/pandas-docs/stable/user_guide/indexing.html#returning-a-view-versus-a-copy\n",
            "  self.obj[item] = s\n"
          ]
        }
      ]
    },
    {
      "cell_type": "markdown",
      "metadata": {
        "id": "ohPyYhPoI_BA"
      },
      "source": [
        "### Ordinal Encoder"
      ]
    },
    {
      "cell_type": "markdown",
      "metadata": {
        "id": "K8_dGhDAJSKQ"
      },
      "source": [
        "Метод Original encoder не принес хорошего результат, закоментируем его, чтобы не мешал в работе."
      ]
    },
    {
      "cell_type": "markdown",
      "metadata": {
        "id": "u_Rq-V2K9Gai"
      },
      "source": [
        "<div class=\"alert alert-block alert-info\">\n",
        "    \n",
        "<b>Совет:</b><br> 1) Только ordinal - порядковый, а не оригинальный =) <br> 2) Для warning-а:  `pd.options.mode.chained_assignment = None` <br> 3) В нем нет необходимости после OHE\n",
        "</div>"
      ]
    },
    {
      "cell_type": "markdown",
      "metadata": {
        "id": "ZocmoF7lJW6I"
      },
      "source": [
        "### Построим модель без учета баланса"
      ]
    },
    {
      "cell_type": "markdown",
      "metadata": {
        "id": "nZYUkklHSCty"
      },
      "source": [
        "#### Обучение с помощью модели Дерево решения"
      ]
    },
    {
      "cell_type": "markdown",
      "metadata": {
        "id": "RHPD-vQCSEZT"
      },
      "source": [
        "Поищем циклом ищем лучший гиперпораметр max_depth:"
      ]
    },
    {
      "cell_type": "code",
      "metadata": {
        "colab": {
          "base_uri": "https://localhost:8080/"
        },
        "id": "m-1PcztqSLkF",
        "outputId": "c914be91-02f7-4057-f9eb-eeeae0ff3d8c"
      },
      "source": [
        "for depth in range(1,10,1):\n",
        "    model_tree=DecisionTreeClassifier(max_depth=depth,random_state=1234).fit(train_features,train_target)\n",
        "    prediction=model_tree.predict(valid_features)\n",
        "    print('max_depth:',depth,'F1:',f1_score(valid_target,prediction))"
      ],
      "execution_count": null,
      "outputs": [
        {
          "name": "stderr",
          "output_type": "stream",
          "text": [
            "/opt/conda/lib/python3.7/site-packages/sklearn/metrics/classification.py:1437: UndefinedMetricWarning: F-score is ill-defined and being set to 0.0 due to no predicted samples.\n",
            "  'precision', 'predicted', average, warn_for)\n"
          ]
        },
        {
          "name": "stdout",
          "output_type": "stream",
          "text": [
            "max_depth: 1 F1: 0.0\n",
            "max_depth: 2 F1: 0.5037037037037037\n",
            "max_depth: 3 F1: 0.39382239382239387\n",
            "max_depth: 4 F1: 0.43902439024390244\n",
            "max_depth: 5 F1: 0.5488372093023256\n",
            "max_depth: 6 F1: 0.5104166666666666\n",
            "max_depth: 7 F1: 0.5537974683544303\n",
            "max_depth: 8 F1: 0.553125\n",
            "max_depth: 9 F1: 0.5407066052227342\n"
          ]
        }
      ]
    },
    {
      "cell_type": "markdown",
      "metadata": {
        "id": "0QAFmU0DSRMp"
      },
      "source": [
        "Вывод: лучшее значение max_depth=7, при котором F1=0,5537"
      ]
    },
    {
      "cell_type": "markdown",
      "metadata": {
        "id": "YO1mNFXrSYYo"
      },
      "source": [
        "#### Обучение с помощью модели Случайный лес"
      ]
    },
    {
      "cell_type": "markdown",
      "metadata": {
        "id": "PvIDVZOpShXw"
      },
      "source": [
        "Поищем циклом ищем лучший гиперпораметр max_depth:"
      ]
    },
    {
      "cell_type": "code",
      "metadata": {
        "colab": {
          "base_uri": "https://localhost:8080/"
        },
        "id": "nCRQAu7GSifj",
        "outputId": "e27d102a-8e1d-4ef7-bc28-2945c1d34c3a"
      },
      "source": [
        "for max_depth in range(1,20,1):\n",
        "    model_forest=RandomForestClassifier(max_depth=max_depth,n_estimators=50,random_state=1234).fit(train_features,train_target)\n",
        "    prediction=model_forest.predict(valid_features)\n",
        "    print('max_depth:',max_depth,'F1:',f1_score(valid_target,prediction))"
      ],
      "execution_count": null,
      "outputs": [
        {
          "name": "stdout",
          "output_type": "stream",
          "text": [
            "max_depth: 1 F1: 0.02525252525252525\n",
            "max_depth: 2 F1: 0.21315192743764172\n",
            "max_depth: 3 F1: 0.3443983402489626\n",
            "max_depth: 4 F1: 0.36799999999999994\n",
            "max_depth: 5 F1: 0.41904761904761906\n",
            "max_depth: 6 F1: 0.5189003436426117\n",
            "max_depth: 7 F1: 0.5293132328308208\n",
            "max_depth: 8 F1: 0.541871921182266\n",
            "max_depth: 9 F1: 0.5469522240527182\n",
            "max_depth: 10 F1: 0.5508196721311475\n",
            "max_depth: 11 F1: 0.5668789808917197\n",
            "max_depth: 12 F1: 0.5700636942675159\n",
            "max_depth: 13 F1: 0.5615141955835963\n",
            "max_depth: 14 F1: 0.5718701700154559\n",
            "max_depth: 15 F1: 0.5749613601236476\n",
            "max_depth: 16 F1: 0.5714285714285714\n",
            "max_depth: 17 F1: 0.562596599690881\n",
            "max_depth: 18 F1: 0.5604900459418071\n",
            "max_depth: 19 F1: 0.588597842835131\n"
          ]
        }
      ]
    },
    {
      "cell_type": "markdown",
      "metadata": {
        "id": "21nrG2s_SqOL"
      },
      "source": [
        "Вывод: лучшее значение max_depth=19, при котором F1=0,588"
      ]
    },
    {
      "cell_type": "markdown",
      "metadata": {
        "id": "rZtkcH_mSwAO"
      },
      "source": [
        "Циклом подбирем гиперпораметр n_estimators (количество деревьев)"
      ]
    },
    {
      "cell_type": "code",
      "metadata": {
        "colab": {
          "base_uri": "https://localhost:8080/"
        },
        "id": "cPrSVU8DSuPA",
        "outputId": "3c67eb58-020d-42a6-feda-620dc3fc0295"
      },
      "source": [
        "for estim in range(1,50,2):\n",
        "    model_forest=RandomForestClassifier(max_depth=19,n_estimators=estim,random_state=1234).fit(train_features,train_target)\n",
        "    prediction=model_forest.predict(valid_features)\n",
        "    print('estim',estim,'F1:',f1_score(valid_target,prediction))"
      ],
      "execution_count": null,
      "outputs": [
        {
          "name": "stdout",
          "output_type": "stream",
          "text": [
            "estim 1 F1: 0.4698646986469865\n",
            "estim 3 F1: 0.5396383866481224\n",
            "estim 5 F1: 0.5426136363636364\n",
            "estim 7 F1: 0.5701624815361891\n",
            "estim 9 F1: 0.5641025641025642\n",
            "estim 11 F1: 0.5652841781874041\n",
            "estim 13 F1: 0.5701078582434516\n",
            "estim 15 F1: 0.5660964230171073\n",
            "estim 17 F1: 0.564742589703588\n",
            "estim 19 F1: 0.5807453416149068\n",
            "estim 21 F1: 0.5763239875389408\n",
            "estim 23 F1: 0.5842349304482226\n",
            "estim 25 F1: 0.5784615384615385\n",
            "estim 27 F1: 0.588957055214724\n",
            "estim 29 F1: 0.5855161787365177\n",
            "estim 31 F1: 0.5898617511520738\n",
            "estim 33 F1: 0.5954198473282444\n",
            "estim 35 F1: 0.5941807044410413\n",
            "estim 37 F1: 0.5902140672782875\n",
            "estim 39 F1: 0.5871559633027523\n",
            "estim 41 F1: 0.5853658536585367\n",
            "estim 43 F1: 0.5784615384615385\n",
            "estim 45 F1: 0.588597842835131\n",
            "estim 47 F1: 0.5862595419847328\n",
            "estim 49 F1: 0.5887708649468892\n"
          ]
        }
      ]
    },
    {
      "cell_type": "markdown",
      "metadata": {
        "id": "JLw7bt4QS21n"
      },
      "source": [
        "Вывод: лучшее значение max_depth=19 и n_estimators=31 при котором F1=0,5898. Стало лучше."
      ]
    },
    {
      "cell_type": "markdown",
      "metadata": {
        "id": "3nPv2cGPS-CZ"
      },
      "source": [
        "#### Обучение с помощью модели Логистической регрессии"
      ]
    },
    {
      "cell_type": "code",
      "metadata": {
        "colab": {
          "base_uri": "https://localhost:8080/"
        },
        "id": "QagLPtysTDt9",
        "outputId": "19910f30-5c7f-49dd-9f15-cb6e4755f713"
      },
      "source": [
        "model_logistic=LogisticRegression().fit(train_features,train_target)\n",
        "prediction=model_logistic.predict(valid_features)\n",
        "print('F1:',f1_score(valid_target,prediction))"
      ],
      "execution_count": null,
      "outputs": [
        {
          "name": "stdout",
          "output_type": "stream",
          "text": [
            "F1: 0.30393996247654786\n"
          ]
        },
        {
          "name": "stderr",
          "output_type": "stream",
          "text": [
            "/opt/conda/lib/python3.7/site-packages/sklearn/linear_model/logistic.py:432: FutureWarning: Default solver will be changed to 'lbfgs' in 0.22. Specify a solver to silence this warning.\n",
            "  FutureWarning)\n"
          ]
        }
      ]
    },
    {
      "cell_type": "markdown",
      "metadata": {
        "id": "uUPj35aTTGne"
      },
      "source": [
        "Вывод: F1=0.3039"
      ]
    },
    {
      "cell_type": "markdown",
      "metadata": {
        "id": "Kz2rn4EeTJa5"
      },
      "source": [
        "## Общий вывод: "
      ]
    },
    {
      "cell_type": "markdown",
      "metadata": {
        "id": "qyg4ME3ATNnv"
      },
      "source": [
        "Рассматривая данные с дисбалансом (но, с переведенные категориальные и стандартизированные данные) тремя моделями можно сделать вывод, что саммая лучшая модель оказалась случайный лес. При лучшем значении max_depth=19, мы имеем F1 меру =0,5898 на тестовой(валидной) выборке."
      ]
    },
    {
      "cell_type": "markdown",
      "metadata": {
        "id": "6LeSmtT8WTbi"
      },
      "source": [
        "Рисуем ROC  для логистической регрессии"
      ]
    },
    {
      "cell_type": "code",
      "metadata": {
        "id": "fP1lCc2GWTbi"
      },
      "source": [
        "probabilities_tree=model_tree.predict_proba(valid_features)\n",
        "probabilities_one_valid_tree=probabilities_tree[:,1]\n",
        "fpr_tree,tpr_tree,thresholds=roc_curve(valid_target,probabilities_one_valid_tree)"
      ],
      "execution_count": null,
      "outputs": []
    },
    {
      "cell_type": "code",
      "metadata": {
        "id": "7ruua67MWTbi"
      },
      "source": [
        "auc_roc_tree=roc_auc_score(valid_target,probabilities_one_valid_tree)"
      ],
      "execution_count": null,
      "outputs": []
    },
    {
      "cell_type": "code",
      "metadata": {
        "id": "QRvaof_6WTbi",
        "outputId": "f75401de-cb25-462c-e77e-96d924da49bc"
      },
      "source": [
        "auc_roc_tree"
      ],
      "execution_count": null,
      "outputs": [
        {
          "data": {
            "text/plain": [
              "0.7823750355656083"
            ]
          },
          "execution_count": 482,
          "metadata": {},
          "output_type": "execute_result"
        }
      ]
    },
    {
      "cell_type": "code",
      "metadata": {
        "id": "9PI-hmEEWTbi"
      },
      "source": [
        "probabilities_forest=model_forest.predict_proba(valid_features)\n",
        "probabilities_one_valid_forest=probabilities_forest[:,1]\n",
        "fpr_forest,tpr_forest,thresholds=roc_curve(valid_target,probabilities_one_valid_forest)"
      ],
      "execution_count": null,
      "outputs": []
    },
    {
      "cell_type": "code",
      "metadata": {
        "id": "20CSM9V0WTbj"
      },
      "source": [
        "auc_roc_forest=roc_auc_score(valid_target,probabilities_one_valid_forest)"
      ],
      "execution_count": null,
      "outputs": []
    },
    {
      "cell_type": "code",
      "metadata": {
        "id": "3CTiX_3eWTbj",
        "outputId": "1f3470c8-167c-4072-d725-c8cdbc55f5fd"
      },
      "source": [
        "auc_roc_forest"
      ],
      "execution_count": null,
      "outputs": [
        {
          "data": {
            "text/plain": [
              "0.8375243793304604"
            ]
          },
          "execution_count": 485,
          "metadata": {},
          "output_type": "execute_result"
        }
      ]
    },
    {
      "cell_type": "code",
      "metadata": {
        "id": "_e0fkixJWTbj"
      },
      "source": [
        "probabilities_reg=model_logistic.predict_proba(valid_features)\n",
        "probabilities_one_valid_reg=probabilities_reg[:,1]\n",
        "fpr_log,tpr_log,thresholds=roc_curve(valid_target,probabilities_one_valid_reg)"
      ],
      "execution_count": null,
      "outputs": []
    },
    {
      "cell_type": "code",
      "metadata": {
        "id": "PDm0x1hVWTbj"
      },
      "source": [
        "auc_roc_reg=roc_auc_score(valid_target,probabilities_one_valid_reg)"
      ],
      "execution_count": null,
      "outputs": []
    },
    {
      "cell_type": "code",
      "metadata": {
        "id": "vCC6igQ6WTbj",
        "outputId": "606482f8-a926-420f-96c9-769fba477206"
      },
      "source": [
        "auc_roc_reg"
      ],
      "execution_count": null,
      "outputs": [
        {
          "data": {
            "text/plain": [
              "0.7711132552029106"
            ]
          },
          "execution_count": 488,
          "metadata": {},
          "output_type": "execute_result"
        }
      ]
    },
    {
      "cell_type": "code",
      "metadata": {
        "id": "CSUb3WKhWTbj",
        "scrolled": true,
        "outputId": "9cc9873a-4e0f-4c23-eff3-6570db4f9623"
      },
      "source": [
        "plt.figure()\n",
        "\n",
        "plt.figure(figsize=(10,7))\n",
        "plt.plot([0, 1], [0, 1], linestyle='--')\n",
        "plt.xlim([0.0, 1.0])\n",
        "plt.ylim([0.0, 1.0])\n",
        "plt.plot(fpr_log,tpr_log)\n",
        "plt.plot(fpr_tree,tpr_tree)\n",
        "plt.plot(fpr_forest,tpr_forest)\n",
        "plt.xlabel('False Positive Rate')\n",
        "plt.ylabel('True Positive Rate')\n",
        "plt.title('ROC-кривая')\n",
        "plt.legend(('Случайная модель','Случайный лес','Логистическая регрессия','Дерево решения'),\n",
        "           loc= 'upper left') \n",
        "plt.show()"
      ],
      "execution_count": null,
      "outputs": [
        {
          "data": {
            "text/plain": [
              "<Figure size 432x288 with 0 Axes>"
            ]
          },
          "metadata": {},
          "output_type": "display_data"
        },
        {
          "data": {
            "image/png": "[encoded data removed]",
            "text/plain": [
              "<Figure size 720x504 with 1 Axes>"
            ]
          },
          "metadata": {
            "needs_background": "light"
          },
          "output_type": "display_data"
        }
      ]
    },
    {
      "cell_type": "markdown",
      "metadata": {
        "id": "t4TXil5ftwWH"
      },
      "source": [
        "## Борьба с дисбалансом"
      ]
    },
    {
      "cell_type": "markdown",
      "metadata": {
        "id": "ve_uFvQablfr"
      },
      "source": [
        "### Воспользуемся функцией Upsampling и увеличим количество клиентов оттока(target==1)"
      ]
    },
    {
      "cell_type": "code",
      "metadata": {
        "id": "RqsLIlVLtwWJ"
      },
      "source": [
        "def upsampling (features,target,repeat):\n",
        "    target_one=target[target==1]\n",
        "    target_null=target[target==0]\n",
        "    features_one=features[target==1]\n",
        "    features_null=features[target==0]\n",
        "    \n",
        "    upsampling_features=pd.concat([features_null]+[features_one]*repeat)\n",
        "    upsampling_target=pd.concat([target_null]+[target_one]*repeat)\n",
        "    \n",
        "    upsampling_features,upsampling_target=shuffle(upsampling_features,upsampling_target,random_state=1234)\n",
        "    \n",
        "    return upsampling_features,upsampling_target"
      ],
      "execution_count": null,
      "outputs": []
    },
    {
      "cell_type": "code",
      "metadata": {
        "id": "3h-P5qZ2uE__"
      },
      "source": [
        "features_balance_up,target_balance_up=upsampling(train_features,train_target,4)"
      ],
      "execution_count": null,
      "outputs": []
    },
    {
      "cell_type": "markdown",
      "metadata": {
        "id": "k-BkIsoAcBJh"
      },
      "source": [
        "### Воспользуемся функцией Downsampling и увеличим количество клиентов оттока(target==1)"
      ]
    },
    {
      "cell_type": "code",
      "metadata": {
        "id": "v_8ceR4_cB-N"
      },
      "source": [
        "def downsampling(features,target,fraction):\n",
        "    features_null=features[target==0]\n",
        "    features_one=features[target==1]\n",
        "    target_null=target[target==0]\n",
        "    target_one=target[target==1]\n",
        "    \n",
        "    downsampling_features=pd.concat([features_null.sample(frac=0.4,random_state=1234)]+[features_one])\n",
        "    downsampling_target=pd.concat([target_null.sample(frac=0.4,random_state=1234)]+[target_one])\n",
        "    \n",
        "    downsampling_features,downsampling_target=shuffle(downsampling_features,downsampling_target,random_state=1234)\n",
        "    return downsampling_features,downsampling_target"
      ],
      "execution_count": null,
      "outputs": []
    },
    {
      "cell_type": "code",
      "metadata": {
        "id": "0ABBriLOcF5w"
      },
      "source": [
        "#рев.1 - условно удален\n",
        "#features_balance_up,target_balance_up=downsampling(features,target,0.4)"
      ],
      "execution_count": null,
      "outputs": []
    },
    {
      "cell_type": "markdown",
      "metadata": {
        "id": "HFiLx9sXtwWK"
      },
      "source": [
        "## Тестирование модели"
      ]
    },
    {
      "cell_type": "markdown",
      "metadata": {
        "id": "xmRfW9CdeTVB"
      },
      "source": [
        "## После балансирования данных. Обучение с помощью модели Дерево решения"
      ]
    },
    {
      "cell_type": "markdown",
      "metadata": {
        "id": "mPXSbeRieZAp"
      },
      "source": [
        "Циклом ищем лучший гиперпораметр max_depth"
      ]
    },
    {
      "cell_type": "code",
      "metadata": {
        "colab": {
          "base_uri": "https://localhost:8080/",
          "height": 391
        },
        "id": "8sCN_G9wtwWL",
        "outputId": "c3a10053-7438-4012-a223-c3b90108f01d"
      },
      "source": [
        "%%time\n",
        "\n",
        "for depth in range(1,20,1):\n",
        "    model_tree=DecisionTreeClassifier(class_weight='balanced',max_depth=depth,random_state=1234).fit(features_balance_up,target_balance_up)\n",
        "  \n",
        "    prediction=model_tree.predict(valid_features)\n",
        "    print('max_depth:',depth,'F1:',f1_score(valid_target,prediction))"
      ],
      "execution_count": null,
      "outputs": [
        {
          "name": "stdout",
          "output_type": "stream",
          "text": [
            "max_depth: 1 F1: 0.4750733137829912\n",
            "max_depth: 2 F1: 0.49761677788369874\n",
            "max_depth: 3 F1: 0.49761677788369874\n",
            "max_depth: 4 F1: 0.5159474671669794\n",
            "max_depth: 5 F1: 0.5487228003784296\n",
            "max_depth: 6 F1: 0.5628140703517587\n",
            "max_depth: 7 F1: 0.5603271983640081\n",
            "max_depth: 8 F1: 0.5471698113207547\n",
            "max_depth: 9 F1: 0.5179282868525896\n",
            "max_depth: 10 F1: 0.5138178096212896\n",
            "max_depth: 11 F1: 0.5042016806722689\n",
            "max_depth: 12 F1: 0.49891540130151846\n",
            "max_depth: 13 F1: 0.4901734104046243\n",
            "max_depth: 14 F1: 0.48711943793911006\n",
            "max_depth: 15 F1: 0.48560700876095114\n",
            "max_depth: 16 F1: 0.48040455120101133\n",
            "max_depth: 17 F1: 0.47692307692307695\n",
            "max_depth: 18 F1: 0.484375\n",
            "max_depth: 19 F1: 0.46675358539765316\n",
            "CPU times: user 665 ms, sys: 4.2 ms, total: 669 ms\n",
            "Wall time: 673 ms\n"
          ]
        }
      ]
    },
    {
      "cell_type": "markdown",
      "metadata": {
        "id": "GUqxlxLGjUGR"
      },
      "source": [
        "## После балансирования данных. Обучение с помощью модели Случайный лес"
      ]
    },
    {
      "cell_type": "markdown",
      "metadata": {
        "id": "aC76CmKjjkER"
      },
      "source": [
        "Циклом ищем лучший гиперпораметр max_depth"
      ]
    },
    {
      "cell_type": "code",
      "metadata": {
        "id": "lLwFXrksuFc0",
        "outputId": "3cb98a97-4196-4ed0-9cdd-75c0d6050ac1"
      },
      "source": [
        "%%time\n",
        "\n",
        "for max_depth in range(1,20,1):\n",
        "    model_forest=RandomForestClassifier(class_weight='balanced',max_depth=max_depth,n_estimators=50,random_state=1234).fit(features_balance_up,target_balance_up)\n",
        "    prediction=model_forest.predict(valid_features)\n",
        "    print('max_depth:',max_depth,'F1:',f1_score(valid_target,prediction))"
      ],
      "execution_count": null,
      "outputs": [
        {
          "name": "stdout",
          "output_type": "stream",
          "text": [
            "max_depth: 1 F1: 0.4990512333965844\n",
            "max_depth: 2 F1: 0.527027027027027\n",
            "max_depth: 3 F1: 0.5463709677419355\n",
            "max_depth: 4 F1: 0.5461928934010153\n",
            "max_depth: 5 F1: 0.5595854922279793\n",
            "max_depth: 6 F1: 0.5666666666666667\n",
            "max_depth: 7 F1: 0.5798319327731093\n",
            "max_depth: 8 F1: 0.5845824411134904\n",
            "max_depth: 9 F1: 0.5868131868131868\n",
            "max_depth: 10 F1: 0.5921787709497207\n",
            "max_depth: 11 F1: 0.5935334872979214\n",
            "max_depth: 12 F1: 0.6011834319526628\n",
            "max_depth: 13 F1: 0.5905707196029778\n",
            "max_depth: 14 F1: 0.5950000000000001\n",
            "max_depth: 15 F1: 0.5840938722294653\n",
            "max_depth: 16 F1: 0.5989583333333334\n",
            "max_depth: 17 F1: 0.5844504021447721\n",
            "max_depth: 18 F1: 0.5804749340369394\n",
            "max_depth: 19 F1: 0.5803814713896458\n",
            "CPU times: user 9.32 s, sys: 51.3 ms, total: 9.37 s\n",
            "Wall time: 10.1 s\n"
          ]
        }
      ]
    },
    {
      "cell_type": "markdown",
      "metadata": {
        "id": "SRQeG3Mljl7y"
      },
      "source": [
        "Циклом подбираем гиперпораметр n_estimators (количество деревьев)"
      ]
    },
    {
      "cell_type": "code",
      "metadata": {
        "id": "NwRmJeVUjhrZ",
        "outputId": "84539e1c-5b97-47e2-e27d-7ba593120226"
      },
      "source": [
        "%%time\n",
        "\n",
        "for estim in range(1,51,1):\n",
        "    model_forest=RandomForestClassifier(class_weight='balanced',max_depth=11,n_estimators=estim,random_state=1234).fit(features_balance_up,target_balance_up)\n",
        "    prediction=model_forest.predict(valid_features)\n",
        "    print('estim',estim,'F1:',f1_score(valid_target,prediction))\n",
        "    "
      ],
      "execution_count": null,
      "outputs": [
        {
          "name": "stdout",
          "output_type": "stream",
          "text": [
            "estim 1 F1: 0.4989816700610998\n",
            "estim 2 F1: 0.5183537263626251\n",
            "estim 3 F1: 0.5655021834061135\n",
            "estim 4 F1: 0.5518814139110604\n",
            "estim 5 F1: 0.5662100456621004\n",
            "estim 6 F1: 0.5622857142857143\n",
            "estim 7 F1: 0.563573883161512\n",
            "estim 8 F1: 0.5687645687645687\n",
            "estim 9 F1: 0.580046403712297\n",
            "estim 10 F1: 0.5772727272727273\n",
            "estim 11 F1: 0.5851428571428571\n",
            "estim 12 F1: 0.5856980703745743\n",
            "estim 13 F1: 0.5879682179341658\n",
            "estim 14 F1: 0.5889145496535796\n",
            "estim 15 F1: 0.6052934407364787\n",
            "estim 16 F1: 0.5908045977011493\n",
            "estim 17 F1: 0.5955967555040556\n",
            "estim 18 F1: 0.5979142526071842\n",
            "estim 19 F1: 0.5993031358885018\n",
            "estim 20 F1: 0.5900116144018582\n",
            "estim 21 F1: 0.5965317919075145\n",
            "estim 22 F1: 0.5905420991926182\n",
            "estim 23 F1: 0.5912240184757506\n",
            "estim 24 F1: 0.5909617612977983\n",
            "estim 25 F1: 0.5870069605568445\n",
            "estim 26 F1: 0.5879629629629629\n",
            "estim 27 F1: 0.5833333333333334\n",
            "estim 28 F1: 0.5836216839677048\n",
            "estim 29 F1: 0.5790080738177624\n",
            "estim 30 F1: 0.5826589595375722\n",
            "estim 31 F1: 0.581986143187067\n",
            "estim 32 F1: 0.5803468208092486\n",
            "estim 33 F1: 0.5839080459770114\n",
            "estim 34 F1: 0.5894495412844035\n",
            "estim 35 F1: 0.590126291618829\n",
            "estim 36 F1: 0.5898617511520737\n",
            "estim 37 F1: 0.5852534562211981\n",
            "estim 38 F1: 0.5878300803673938\n",
            "estim 39 F1: 0.588774341351661\n",
            "estim 40 F1: 0.5862068965517242\n",
            "estim 41 F1: 0.5902777777777778\n",
            "estim 42 F1: 0.591907514450867\n",
            "estim 43 F1: 0.591907514450867\n",
            "estim 44 F1: 0.591907514450867\n",
            "estim 45 F1: 0.5895953757225434\n",
            "estim 46 F1: 0.591907514450867\n",
            "estim 47 F1: 0.5928489042675894\n",
            "estim 48 F1: 0.5967741935483871\n",
            "estim 49 F1: 0.5912240184757506\n",
            "estim 50 F1: 0.5935334872979214\n",
            "CPU times: user 14.8 s, sys: 78.5 ms, total: 14.8 s\n",
            "Wall time: 15 s\n"
          ]
        }
      ]
    },
    {
      "cell_type": "code",
      "metadata": {
        "id": "j5GJOzHcjse9"
      },
      "source": [
        " model_forest=RandomForestClassifier(class_weight='balanced',max_depth=11,n_estimators=50,random_state=1234).fit(features_balance_up,target_balance_up)"
      ],
      "execution_count": null,
      "outputs": []
    },
    {
      "cell_type": "markdown",
      "metadata": {
        "id": "Lg6yGbNhjvii"
      },
      "source": [
        "## После балансирования данных. Обучение с помощью модели Логистической регрессии"
      ]
    },
    {
      "cell_type": "code",
      "metadata": {
        "id": "0h5hagM5jyg-",
        "outputId": "d3beff85-482f-461c-bafb-2bf2591fa22c"
      },
      "source": [
        "%%time\n",
        "\n",
        "model_logistic=LogisticRegression(class_weight='balanced',solver='liblinear').fit(features_balance_up,target_balance_up)\n",
        "prediction=model_logistic.predict(valid_features)\n",
        "print('F1:',f1_score(valid_target,prediction))"
      ],
      "execution_count": null,
      "outputs": [
        {
          "name": "stdout",
          "output_type": "stream",
          "text": [
            "F1: 0.4820788530465949\n",
            "CPU times: user 30.1 ms, sys: 11.7 ms, total: 41.9 ms\n",
            "Wall time: 32.2 ms\n"
          ]
        }
      ]
    },
    {
      "cell_type": "markdown",
      "metadata": {
        "id": "WBaGQ-2bj1JR"
      },
      "source": [
        "Вывод: Мера F1 поменялась. Стала гораздо лучше. F1=0.4820"
      ]
    },
    {
      "cell_type": "markdown",
      "metadata": {
        "id": "mzZ2Hg6SWTbi"
      },
      "source": [
        "## Исследование метрика AUC-ROC"
      ]
    },
    {
      "cell_type": "markdown",
      "metadata": {
        "id": "_ZkAMytqNSQd"
      },
      "source": [
        "Рисуем ROC  для логистической регрессии"
      ]
    },
    {
      "cell_type": "code",
      "metadata": {
        "id": "YhvjrnFGNSQd",
        "outputId": "e475f740-a2d5-4705-ca86-84e63009abdb"
      },
      "source": [
        "%%time\n",
        "\n",
        "model_logistic=LogisticRegression(class_weight='balanced',solver='liblinear').fit(features_balance_up,target_balance_up)\n",
        "prediction=model_logistic.predict(valid_features)\n",
        "print('F1:',f1_score(prediction, valid_target))\n"
      ],
      "execution_count": null,
      "outputs": [
        {
          "name": "stdout",
          "output_type": "stream",
          "text": [
            "F1: 0.4820788530465949\n",
            "CPU times: user 53.4 ms, sys: 92 ms, total: 145 ms\n",
            "Wall time: 194 ms\n"
          ]
        }
      ]
    },
    {
      "cell_type": "code",
      "metadata": {
        "id": "qIPfE1g2NSQd"
      },
      "source": [
        "probabilities_tree=model_tree.predict_proba(valid_features)\n",
        "probabilities_one_valid_tree=probabilities_tree[:,1]\n",
        "fpr_tree,tpr_tree,thresholds=roc_curve(valid_target,probabilities_one_valid_tree)"
      ],
      "execution_count": null,
      "outputs": []
    },
    {
      "cell_type": "code",
      "metadata": {
        "id": "ertAkP7PNSQd"
      },
      "source": [
        "auc_roc_tree=roc_auc_score(valid_target,probabilities_one_valid_tree)"
      ],
      "execution_count": null,
      "outputs": []
    },
    {
      "cell_type": "code",
      "metadata": {
        "id": "xZwmz5xvNSQe",
        "outputId": "246e70aa-4dce-46a6-8df8-b405dcc48f43"
      },
      "source": [
        "auc_roc_tree"
      ],
      "execution_count": null,
      "outputs": [
        {
          "data": {
            "text/plain": [
              "0.6685905210302024"
            ]
          },
          "execution_count": 504,
          "metadata": {},
          "output_type": "execute_result"
        }
      ]
    },
    {
      "cell_type": "code",
      "metadata": {
        "id": "SoEuO16PNSQe"
      },
      "source": [
        "probabilities_forest=model_forest.predict_proba(valid_features)\n",
        "probabilities_one_valid_forest=probabilities_forest[:,1]\n",
        "fpr_forest,tpr_forest,thresholds=roc_curve(valid_target,probabilities_one_valid_forest)"
      ],
      "execution_count": null,
      "outputs": []
    },
    {
      "cell_type": "code",
      "metadata": {
        "id": "SiMAOOaYNSQe"
      },
      "source": [
        "auc_roc_forest=roc_auc_score(valid_target,probabilities_one_valid_forest)"
      ],
      "execution_count": null,
      "outputs": []
    },
    {
      "cell_type": "code",
      "metadata": {
        "id": "THe-BmjpNSQe",
        "outputId": "44a61ae6-df45-4dab-d13b-746f995c049a"
      },
      "source": [
        "auc_roc_forest"
      ],
      "execution_count": null,
      "outputs": [
        {
          "data": {
            "text/plain": [
              "0.8501173863768221"
            ]
          },
          "execution_count": 507,
          "metadata": {},
          "output_type": "execute_result"
        }
      ]
    },
    {
      "cell_type": "code",
      "metadata": {
        "id": "0YyJwqx1NSQf"
      },
      "source": [
        "probabilities_reg=model_logistic.predict_proba(valid_features)\n",
        "probabilities_one_valid_reg=probabilities_reg[:,1]\n",
        "fpr_log,tpr_log,thresholds=roc_curve(valid_target,probabilities_one_valid_reg)"
      ],
      "execution_count": null,
      "outputs": []
    },
    {
      "cell_type": "code",
      "metadata": {
        "id": "i-MtgspMNSQf"
      },
      "source": [
        "auc_roc_reg=roc_auc_score(valid_target,probabilities_one_valid_reg)"
      ],
      "execution_count": null,
      "outputs": []
    },
    {
      "cell_type": "code",
      "metadata": {
        "id": "xnFGqKiPNSQf",
        "outputId": "feb97988-c306-4945-c869-88fdfd5b2813"
      },
      "source": [
        "auc_roc_reg"
      ],
      "execution_count": null,
      "outputs": [
        {
          "data": {
            "text/plain": [
              "0.7732797769579365"
            ]
          },
          "execution_count": 510,
          "metadata": {},
          "output_type": "execute_result"
        }
      ]
    },
    {
      "cell_type": "code",
      "metadata": {
        "scrolled": true,
        "id": "SWj3eMceNSQf",
        "outputId": "203185d9-c7c0-42aa-fa00-02c1a18536af"
      },
      "source": [
        "plt.figure()\n",
        "\n",
        "plt.figure(figsize=(10,7))\n",
        "plt.plot([0, 1], [0, 1], linestyle='--')\n",
        "plt.xlim([0.0, 1.0])\n",
        "plt.ylim([0.0, 1.0])\n",
        "plt.plot(fpr_log,tpr_log)\n",
        "plt.plot(fpr_tree,tpr_tree)\n",
        "plt.plot(fpr_forest,tpr_forest)\n",
        "plt.xlabel('False Positive Rate')\n",
        "plt.ylabel('True Positive Rate')\n",
        "plt.title('ROC-кривая')\n",
        "plt.legend(('Случайная модель','Случайный лес','Логистическая регрессия','Дерево решения'),\n",
        "           loc= 'upper left') \n",
        "plt.show()"
      ],
      "execution_count": null,
      "outputs": [
        {
          "data": {
            "text/plain": [
              "<Figure size 432x288 with 0 Axes>"
            ]
          },
          "metadata": {},
          "output_type": "display_data"
        },
        {
          "data": {
            "image/png": "[encoded data removed]",
            "text/plain": [
              "<Figure size 720x504 with 1 Axes>"
            ]
          },
          "metadata": {
            "needs_background": "light"
          },
          "output_type": "display_data"
        }
      ]
    },
    {
      "cell_type": "markdown",
      "metadata": {
        "id": "B4vGrck6WTbk"
      },
      "source": [
        "Значение площади под кривой. На сколько наша модель отличается от случайной"
      ]
    },
    {
      "cell_type": "markdown",
      "metadata": {
        "id": "1qrJ-DILWTbk"
      },
      "source": [
        "Лучшее значение метрики auc roc=0.8501 у модели Случайный лес"
      ]
    },
    {
      "cell_type": "markdown",
      "metadata": {
        "id": "5qe9qWbaWTbk"
      },
      "source": [
        "## Общий вывод:"
      ]
    },
    {
      "cell_type": "markdown",
      "metadata": {
        "id": "7PEfnQWONSQg"
      },
      "source": [
        "Проведем итоговое тестирование:"
      ]
    },
    {
      "cell_type": "code",
      "metadata": {
        "id": "UJHJ0SA-NSQg",
        "outputId": "12427082-78a9-4d2a-d203-ee4974ea3585"
      },
      "source": [
        "prediction=model_forest.predict(test_features)\n",
        "print('F1:',f1_score(test_target, prediction))"
      ],
      "execution_count": null,
      "outputs": [
        {
          "name": "stdout",
          "output_type": "stream",
          "text": [
            "F1: 0.6393805309734514\n"
          ]
        }
      ]
    },
    {
      "cell_type": "code",
      "metadata": {
        "id": "ySoNUrnzNSQg",
        "outputId": "875e58d5-4666-45f6-d80e-4a050e345b6a"
      },
      "source": [
        "probabilities_forest=model_forest.predict_proba(test_features)\n",
        "probabilities_one_test_forest=probabilities_forest[:,1]\n",
        "fpr_forest,tpr_forest,thresholds=roc_curve(test_target,probabilities_one_test_forest)\n",
        "print('ROC-AUC:', roc_auc_score(test_target,probabilities_one_test_forest))"
      ],
      "execution_count": null,
      "outputs": [
        {
          "name": "stdout",
          "output_type": "stream",
          "text": [
            "ROC-AUC: 0.8601532595571343\n"
          ]
        }
      ]
    },
    {
      "cell_type": "code",
      "metadata": {
        "id": "qpP9qrXQWTbk"
      },
      "source": [
        "rezult1={'Дерево Решения':np.array([0.5537,0.582]),'Случайный лес':np.array([0.588,0.612]),'Логистическая регрессия':np.array([0.3039,0.478])}\n",
        "rezult_df=pd.DataFrame(rezult1,index=['F1 без учета дисбаланса','F1 с учетом дисбаланса'])"
      ],
      "execution_count": null,
      "outputs": []
    },
    {
      "cell_type": "code",
      "metadata": {
        "id": "a1v0eGevWTbk",
        "outputId": "2b66b9c0-3349-4387-c949-385cafb11e58"
      },
      "source": [
        "rezult_df"
      ],
      "execution_count": null,
      "outputs": [
        {
          "data": {
            "text/html": [
              "<div>\n",
              "<style scoped>\n",
              "    .dataframe tbody tr th:only-of-type {\n",
              "        vertical-align: middle;\n",
              "    }\n",
              "\n",
              "    .dataframe tbody tr th {\n",
              "        vertical-align: top;\n",
              "    }\n",
              "\n",
              "    .dataframe thead th {\n",
              "        text-align: right;\n",
              "    }\n",
              "</style>\n",
              "<table border=\"1\" class=\"dataframe\">\n",
              "  <thead>\n",
              "    <tr style=\"text-align: right;\">\n",
              "      <th></th>\n",
              "      <th>Дерево Решения</th>\n",
              "      <th>Случайный лес</th>\n",
              "      <th>Логистическая регрессия</th>\n",
              "    </tr>\n",
              "  </thead>\n",
              "  <tbody>\n",
              "    <tr>\n",
              "      <td>F1 без учета дисбаланса</td>\n",
              "      <td>0.5537</td>\n",
              "      <td>0.588</td>\n",
              "      <td>0.3039</td>\n",
              "    </tr>\n",
              "    <tr>\n",
              "      <td>F1 с учетом дисбаланса</td>\n",
              "      <td>0.5820</td>\n",
              "      <td>0.612</td>\n",
              "      <td>0.4780</td>\n",
              "    </tr>\n",
              "  </tbody>\n",
              "</table>\n",
              "</div>"
            ],
            "text/plain": [
              "                         Дерево Решения  Случайный лес  \\\n",
              "F1 без учета дисбаланса          0.5537          0.588   \n",
              "F1 с учетом дисбаланса           0.5820          0.612   \n",
              "\n",
              "                         Логистическая регрессия  \n",
              "F1 без учета дисбаланса                   0.3039  \n",
              "F1 с учетом дисбаланса                    0.4780  "
            ]
          },
          "execution_count": 515,
          "metadata": {},
          "output_type": "execute_result"
        }
      ]
    },
    {
      "cell_type": "markdown",
      "metadata": {
        "id": "fN9yAtWoWTbl"
      },
      "source": [
        "Рассматривая данные с учетом дисбаланса + переведенные категориальные + стандартизированные данные и без учета дисбаланса тремя моделями можно сделать вывод, что самая лучшая модель оказалась Случайный лес. При лучшем значении max_depth=19, n_estimators=50, мы имеем F1 меру =0,588 на тестовой(валидной) выборке. Хуже всего себя показала модель Логистическая регрессия"
      ]
    },
    {
      "cell_type": "markdown",
      "metadata": {
        "id": "ObXbTr-XtwWN"
      },
      "source": [
        "## Чек-лист готовности проекта\n",
        "\n",
        "- [x]  Jupyter Notebook открыт\n",
        "- [x]  Весь код выполняется без ошибок\n",
        "- [x]  Ячейки с кодом расположены в порядке исполнения\n",
        "- [x]  Выполнен шаг 1: данные подготовлены\n",
        "- [x]  Выполнен шаг 2: задача исследована\n",
        "    - [x]  Исследован баланс классов\n",
        "    - [x]  Изучены модели без учёта дисбаланса\n",
        "    - [x]  Написаны выводы по результатам исследования\n",
        "- [x]  Выполнен шаг 3: учтён дисбаланс\n",
        "    - [x]  Применено несколько способов борьбы с дисбалансом\n",
        "    - [x]  Написаны выводы по результатам исследования\n",
        "- [x]  Выполнен шаг 4: проведено тестирование\n",
        "- [x]  Удалось достичь *F1*-меры не менее 0.59\n",
        "- [x]  Исследована метрика *AUC-ROC*"
      ]
    }
  ]
}